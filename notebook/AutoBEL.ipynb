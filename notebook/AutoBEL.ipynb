{
 "cells": [
  {
   "cell_type": "code",
   "execution_count": 6,
   "metadata": {},
   "outputs": [],
   "source": [
    "import flopy\n",
    "import os\n",
    "import sys\n",
    "from pathlib import Path\n",
    "import numpy as np\n",
    "import matplotlib.pyplot as plt\n",
    "\n",
    "nmgwmdir_cal = Path('../data/Calibrated_small') #<-- removed RCH, WEL, GLO, LST from the NAM file to load much faster\n",
    "workdir = Path('../work')\n",
    "datadir = Path('../data')\n",
    "sharedir = Path('/Users/ianpg/Dropbox/temp_convenience/SWIlarge/data/GIS')\n",
    "figdir = Path('../work/figs')\n",
    "outputdir = Path('../work/output')\n",
    "autobeldir = Path('../../git_cloned','AutoBEL-v1.0')\n",
    "\n",
    "\n",
    "\n",
    "# nmgwmdir_uncal = Path('../data/Scenarios/C1/C1-12')\n",
    "# nmgwmdir_uncal = Path('/Users/ianpg/Dropbox/temp_convenience/SWIlarge/data/Scenarios/C1/C1-12')\n",
    "import config\n",
    "from set_rc import *\n",
    "\n",
    "import pandas as pd\n",
    "import shapefile as sf #in case you dont have it, form anaconda prompt: pip install pyshp\n",
    "from flopy.utils.gridgen import Gridgen\n",
    "from flopy.utils.reference import SpatialReference\n",
    "import mplleaflet\n",
    "from  pyproj import Proj\n",
    "p = Proj(init=\"epsg:26910\")\n",
    "xll=595855\n",
    "yll = 4059438\n",
    "rotation = -13.5"
   ]
  },
  {
   "cell_type": "code",
   "execution_count": 7,
   "metadata": {},
   "outputs": [],
   "source": [
    "import sys\n",
    "sys.path.append(autobeldir.as_posix())\n",
    "sys.path.append(autobeldir.joinpath('source_code').as_posix())\n",
    "\n",
    "import numpy as np\n",
    "from sklearn.decomposition import PCA\n",
    "\n",
    "from source_code.combine_mc_samples import *\n",
    "from source_code.signed_distance_functions import *\n",
    "from source_code.giip_cal import *\n",
    "from source_code.scree_plot import scree_plot\n",
    "from source_code.evd_fast import *\n",
    "from source_code.gd_wellog_data import gd_wellog_data\n",
    "from source_code.DGSA_light import DGSA_light\n",
    "from source_code.gsa_pareto_plt import gsa_pareto_plt\n",
    "from source_code.falsifications import fals_1Dplt, fals_2Dplt\n",
    "from source_code.outlier_detection import outlier_2d\n",
    "from source_code.RobustMD_flsification import RobustMD_flsification\n",
    "from source_code.rgrplt_all_dh import rgrplt_all_dh\n",
    "from source_code.cca_and_ccaplt import cca_d_h\n",
    "from source_code.cca_and_ccaplt import cca_plt\n",
    "from source_code.gaussianregression_c_dd_star import *\n",
    "from source_code.post_est_rtn_val import post_est_rtn_val\n",
    "from source_code.post_est_rtn_val import post_est_clsplt\n",
    "from source_code.plt_pos_pri_comp import plt_pos_pri_comp\n",
    "from source_code.plt_MC_models_smpls import m_ensampl_plt\n",
    "from source_code.plt_MC_models_smpls import mc_samples_plot\n",
    "from source_code.qc_reslts_plt import m_ensampl_plt\n"
   ]
  },
  {
   "cell_type": "markdown",
   "metadata": {},
   "source": [
    "##########################################################################\n",
    "##          STEP 1.  Analyze prior model samples & extract data          ##\n",
    "##########################################################################\n"
   ]
  },
  {
   "cell_type": "markdown",
   "metadata": {},
   "source": [
    "### Import salinity grid and SEAWAT model mesh"
   ]
  },
  {
   "cell_type": "code",
   "execution_count": 8,
   "metadata": {},
   "outputs": [],
   "source": [
    "#Name model\n",
    "modelname = 'test_simpleSWI'\n",
    "model_ws = workdir.joinpath(\"test_simpleSWI\")\n",
    "m = flopy.seawat.Seawat.load(model_ws.joinpath(modelname + '.nam').as_posix())\n",
    "m_empty = flopy.modflow.Modflow.load(model_ws.joinpath('m_empty','m_empty.nam').as_posix())"
   ]
  },
  {
   "cell_type": "markdown",
   "metadata": {},
   "source": [
    "### Import some shapefiles"
   ]
  },
  {
   "cell_type": "code",
   "execution_count": 9,
   "metadata": {},
   "outputs": [],
   "source": [
    "f_swi_180 = sharedir.joinpath(\"chloride_contours\",'SWI_180_lines_noz.shp').as_posix()\n",
    "swi_180 = sf.Reader(f_swi_180)\n",
    "yrs_180 = [ int(r[-1]) for r in swi_180.records()]\n",
    "\n",
    "f_swi_400 = sharedir.joinpath(\"chloride_contours\",'SWI_400_lines_noz.shp').as_posix()\n",
    "swi_400 = sf.Reader(f_swi_400)\n",
    "yrs_400 = [ int(r[-1]) for r in swi_400.records()]\n",
    "\n",
    "yr=yrs_180[-1]\n",
    "yr=yrs_400[-1]\n",
    "\n",
    "f_shp_180 = sharedir.joinpath(\"chloride_contours\",\"by_year_180\",\"swi_180_{}\".format(yr)).as_posix()\n",
    "f_shp_400 = sharedir.joinpath(\"chloride_contours\",\"by_year_400\",\"swi_400_{}\".format(yr)).as_posix()"
   ]
  },
  {
   "cell_type": "markdown",
   "metadata": {},
   "source": [
    "### Import salinity data"
   ]
  },
  {
   "cell_type": "code",
   "execution_count": 10,
   "metadata": {},
   "outputs": [],
   "source": [
    "df_TDS = pd.read_excel(datadir.joinpath('WQ','export_TDS_data.xlsx'))\n",
    "TDSij =[]\n",
    "for x,y in zip(df_TDS.X_NAD83_UTM10N.values,df_TDS.Y_NAD83_UTM10N.values):\n",
    "    try:\n",
    "        TDSij.append(m_empty.modelgrid.intersect(x,y))\n",
    "    except:\n",
    "        TDSij.append((np.nan,np.nan))\n",
    "df_TDS = df_TDS.assign(rowi=np.array(TDSij)[:,0])\n",
    "df_TDS = df_TDS.assign(colj=np.array(TDSij)[:,1])"
   ]
  },
  {
   "cell_type": "markdown",
   "metadata": {},
   "source": [
    "### Import AEM data"
   ]
  },
  {
   "cell_type": "code",
   "execution_count": 11,
   "metadata": {},
   "outputs": [],
   "source": [
    "df_1719 = pd.read_pickle(datadir.joinpath('AEM','processed_df_1719.pkl'))\n",
    "df = df_1719.loc[df_1719.skytem_type==304,:]\n",
    "\n",
    "line = 100501"
   ]
  },
  {
   "cell_type": "code",
   "execution_count": 12,
   "metadata": {},
   "outputs": [
    {
     "data": {
      "image/png": "[encoded data removed]",
      "text/plain": [
       "<Figure size 432x288 with 1 Axes>"
      ]
     },
     "metadata": {
      "needs_background": "light"
     },
     "output_type": "display_data"
    }
   ],
   "source": [
    "ch1_cols = [c for c in df.columns if c.startswith('DBDT_Ch1')]\n",
    "ch2_cols = [c for c in df.columns if c.startswith('DBDT_Ch2')]\n",
    "\n",
    "\n",
    "#Remove soundings with few time gates\n",
    "thresh = 15\n",
    "msk = df.loc[df.CHANNEL_NO==1,ch1_cols]==9999.\n",
    "rm_mask = (df.loc[df.CHANNEL_NO==1,ch1_cols]==9999.).sum(axis=1) > thresh \n",
    "remove_inds = rm_mask[rm_mask==True].index\n",
    "(df.loc[df.CHANNEL_NO==1,ch1_cols]==9999.).sum(axis=1).hist()\n",
    "ylims = plt.ylim()\n",
    "plt.title('Distribution of time gates')\n",
    "plt.xlabel('No. missing time gates')\n",
    "plt.ylabel('No. soundings')\n",
    "plt.vlines(thresh,ylims[0],ylims[1],ls='--',label='removal threshold')\n",
    "plt.gca().set_ylim(ylims)\n",
    "\n",
    "plt.legend()\n",
    "df = df.drop(index=np.r_[remove_inds,remove_inds+1])\n",
    "\n",
    "\n",
    "\n"
   ]
  },
  {
   "cell_type": "code",
   "execution_count": 13,
   "metadata": {},
   "outputs": [
    {
     "name": "stdout",
     "output_type": "stream",
     "text": [
      "msk (19192,) \n",
      "xy (121, 2) \n",
      "Line (121, 1) \n",
      "dem (121,) \n",
      "height (121,) \n",
      "system (121,) \n",
      "rx_locations (121, 3) \n",
      "src_locations (121, 3) \n",
      "topo (121, 3) \n",
      "skytem_type (19192,) \n",
      "\n"
     ]
    }
   ],
   "source": [
    "#TAKE THE LOCATION OF CHANNEL 1 FOR EACH SOUNDING\n",
    "msk = np.logical_and(df.CHANNEL_NO==1, df.LINE_NO == line)\n",
    "xy = df.loc[msk,['UTMX', 'UTMY']].values\n",
    "Line = df.loc[msk,['LINE_NO']].values\n",
    "dem = df.loc[msk,'ELEVATION'].values[:]\n",
    "height = df.loc[msk,'INVALT'].values[:]\n",
    "# height = df.loc[msk,'TX_ALTITUDE'].values[:]\n",
    "system = df.loc[msk,'skytem_type'].values[:]\n",
    "msk_312 = system==312\n",
    "rx_locations = np.c_[xy[:,:], height+dem+2.]\n",
    "src_locations = np.c_[xy[:,:], height+dem]\n",
    "topo = np.c_[xy[:,:], dem]\n",
    "skytem_type = df.skytem_type.values\n",
    "\n",
    "\n",
    "print ( 'msk',msk.shape,'\\n'\n",
    "'xy',xy.shape,'\\n'\n",
    "'Line',Line.shape,'\\n'\n",
    "'dem',dem.shape,'\\n'\n",
    "'height',height.shape,'\\n'\n",
    "'system',system.shape,'\\n'\n",
    "'rx_locations',rx_locations.shape,'\\n'\n",
    "'src_locations',src_locations.shape,'\\n'\n",
    "'topo',topo.shape,'\\n'\n",
    "'skytem_type',skytem_type.shape,'\\n')"
   ]
  },
  {
   "cell_type": "code",
   "execution_count": 18,
   "metadata": {},
   "outputs": [
    {
     "data": {
      "text/plain": [
       "<matplotlib.legend.Legend at 0x11c745748>"
      ]
     },
     "execution_count": 18,
     "metadata": {},
     "output_type": "execute_result"
    },
    {
     "data": {
      "image/png": "[encoded data removed]",
      "text/plain": [
       "<Figure size 360x576 with 1 Axes>"
      ]
     },
     "metadata": {
      "needs_background": "light"
     },
     "output_type": "display_data"
    }
   ],
   "source": [
    "import cartopy\n",
    "\n",
    "import matplotlib.pyplot as plt\n",
    "from matplotlib.transforms import offset_copy\n",
    "\n",
    "import cartopy.crs as ccrs\n",
    "import cartopy.io.img_tiles as cimgt\n",
    "\n",
    "transform = ccrs.UTM(10)\n",
    "\n",
    "# Create a Stamen terrain background instance.\n",
    "stamen_terrain = cimgt.Stamen('terrain-background')\n",
    "\n",
    "fig = plt.figure(figsize=(5,8))\n",
    "ax = fig.add_subplot(1, 1, 1, projection=stamen_terrain.crs)\n",
    "\n",
    "ax.add_image(stamen_terrain, 11,alpha=1)\n",
    "\n",
    "m_empty.modelgrid.plot(ax=ax,linewidth=1,color=[.5,.5,.5,.5],transform=transform,label='SEAWAT model grid')\n",
    "\n",
    "plt.scatter(df_TDS.X_NAD83_UTM10N,df_TDS.Y_NAD83_UTM10N,s=5,c=np.log10(df_TDS.conc),transform=transform,label='salinity data')\n",
    "\n",
    "\n",
    "ax.set_extent([596000., 620000.,4052000., 4075962.], crs=transform)\n",
    "\n",
    "\n",
    "plt.scatter(df.loc[msk,'UTMX'],df.loc[msk,'UTMY'],c='k',s=.5,transform=transform,label='AEM data ')\n",
    "\n",
    "\n",
    "shp180 =  flopy.plot.plot_shapefile(f_shp_400,ax=ax,transform=transform,                        \n",
    "                          facecolor='none',edgecolor='r',label='Cl. contour 180-FA')\n",
    "shp400 =flopy.plot.plot_shapefile(f_shp_180,ax=ax,transform=transform,                        \n",
    "                          facecolor='none',edgecolor='orange',label='Cl. contour 400-FA')\n",
    "plt.legend(loc='lower left')"
   ]
  },
  {
   "cell_type": "code",
   "execution_count": null,
   "metadata": {},
   "outputs": [],
   "source": []
  },
  {
   "cell_type": "code",
   "execution_count": null,
   "metadata": {},
   "outputs": [],
   "source": []
  },
  {
   "cell_type": "code",
   "execution_count": null,
   "metadata": {},
   "outputs": [],
   "source": []
  },
  {
   "cell_type": "code",
   "execution_count": null,
   "metadata": {},
   "outputs": [],
   "source": []
  },
  {
   "cell_type": "code",
   "execution_count": null,
   "metadata": {},
   "outputs": [],
   "source": []
  },
  {
   "cell_type": "code",
   "execution_count": null,
   "metadata": {},
   "outputs": [],
   "source": []
  },
  {
   "cell_type": "code",
   "execution_count": null,
   "metadata": {},
   "outputs": [],
   "source": []
  },
  {
   "cell_type": "code",
   "execution_count": 19,
   "metadata": {},
   "outputs": [],
   "source": [
    "fname = model_ws.joinpath('MT3D001.UCN').as_posix()\n",
    "anyvals= []\n",
    "ucnobj = flopy.utils.binaryfile.UcnFile(fname,verbose=False)\n",
    "# if kstpkper==None:\n",
    "kstpkpers = ucnobj.get_kstpkper()\n",
    "kstpkper = kstpkpers[-1]\n",
    "conc = ucnobj.get_data(kstpkper=kstpkper)\n"
   ]
  },
  {
   "cell_type": "markdown",
   "metadata": {},
   "source": [
    "### Define input parameters for Auto-BEL\n"
   ]
  },
  {
   "cell_type": "code",
   "execution_count": 42,
   "metadata": {},
   "outputs": [],
   "source": [
    "\n",
    "# model_names: names of the input models, type - list\n",
    "model_names =['thickness']\n",
    "# Define model type: 1 - Continous; 2 - Categorical\n",
    "model_types = [1]\n",
    "# Define model dimensions in x, y, z directions. \n",
    "x_dim, y_dim, z_dim = 200, 100, 1\n",
    "# Define model horizontal resolution\n",
    "grid_h_resolution = 250*250\n",
    "# Provide directory of the prior models\n",
    "pri_m_samples_dir = 'input/prior_samples/'\n",
    "# Provide sample size of the prior models\n",
    "samples_size = 250\n",
    "# Provide directory of the global parameters\n",
    "mgl = 'input/thickness_mgl.txt'\n",
    "# Provide directory of the data observation\n",
    "dobs_file = 'input/thickness_obs'"
   ]
  },
  {
   "cell_type": "code",
   "execution_count": 43,
   "metadata": {},
   "outputs": [
    {
     "name": "stdout",
     "output_type": "stream",
     "text": [
      "1. Initialization\n"
     ]
    },
    {
     "ename": "FileNotFoundError",
     "evalue": "[Errno 2] No such file or directory: 'input/prior_samples/thickness.npy'",
     "output_type": "error",
     "traceback": [
      "\u001b[0;31m---------------------------------------------------------------------------\u001b[0m",
      "\u001b[0;31mFileNotFoundError\u001b[0m                         Traceback (most recent call last)",
      "\u001b[0;32m<ipython-input-43-d9f9af20b476>\u001b[0m in \u001b[0;36m<module>\u001b[0;34m\u001b[0m\n\u001b[1;32m      3\u001b[0m \u001b[0mm\u001b[0m \u001b[0;34m=\u001b[0m \u001b[0;34m[\u001b[0m\u001b[0;34m]\u001b[0m\u001b[0;34m\u001b[0m\u001b[0;34m\u001b[0m\u001b[0m\n\u001b[1;32m      4\u001b[0m \u001b[0;32mfor\u001b[0m \u001b[0mi\u001b[0m \u001b[0;32min\u001b[0m \u001b[0mrange\u001b[0m\u001b[0;34m(\u001b[0m\u001b[0mlen\u001b[0m\u001b[0;34m(\u001b[0m\u001b[0mmodel_names\u001b[0m\u001b[0;34m)\u001b[0m\u001b[0;34m)\u001b[0m\u001b[0;34m:\u001b[0m\u001b[0;34m\u001b[0m\u001b[0;34m\u001b[0m\u001b[0m\n\u001b[0;32m----> 5\u001b[0;31m     \u001b[0mm\u001b[0m\u001b[0;34m.\u001b[0m\u001b[0mappend\u001b[0m\u001b[0;34m(\u001b[0m\u001b[0mnp\u001b[0m\u001b[0;34m.\u001b[0m\u001b[0mload\u001b[0m\u001b[0;34m(\u001b[0m\u001b[0mpri_m_samples_dir\u001b[0m \u001b[0;34m+\u001b[0m \u001b[0mmodel_names\u001b[0m\u001b[0;34m[\u001b[0m\u001b[0mi\u001b[0m\u001b[0;34m]\u001b[0m \u001b[0;34m+\u001b[0m \u001b[0;34m'.npy'\u001b[0m\u001b[0;34m)\u001b[0m\u001b[0;34m)\u001b[0m\u001b[0;34m\u001b[0m\u001b[0;34m\u001b[0m\u001b[0m\n\u001b[0m\u001b[1;32m      6\u001b[0m     mc_samples_plot(m[i], model_names[i], model_types[\n\u001b[1;32m      7\u001b[0m                     i], 'Prior', x_dim, y_dim, z_dim, 1)\n",
      "\u001b[0;32m~/anaconda/envs/SWIenv/lib/python3.6/site-packages/numpy/lib/npyio.py\u001b[0m in \u001b[0;36mload\u001b[0;34m(file, mmap_mode, allow_pickle, fix_imports, encoding)\u001b[0m\n\u001b[1;32m    420\u001b[0m         \u001b[0mown_fid\u001b[0m \u001b[0;34m=\u001b[0m \u001b[0;32mFalse\u001b[0m\u001b[0;34m\u001b[0m\u001b[0;34m\u001b[0m\u001b[0m\n\u001b[1;32m    421\u001b[0m     \u001b[0;32melse\u001b[0m\u001b[0;34m:\u001b[0m\u001b[0;34m\u001b[0m\u001b[0;34m\u001b[0m\u001b[0m\n\u001b[0;32m--> 422\u001b[0;31m         \u001b[0mfid\u001b[0m \u001b[0;34m=\u001b[0m \u001b[0mopen\u001b[0m\u001b[0;34m(\u001b[0m\u001b[0mos_fspath\u001b[0m\u001b[0;34m(\u001b[0m\u001b[0mfile\u001b[0m\u001b[0;34m)\u001b[0m\u001b[0;34m,\u001b[0m \u001b[0;34m\"rb\"\u001b[0m\u001b[0;34m)\u001b[0m\u001b[0;34m\u001b[0m\u001b[0;34m\u001b[0m\u001b[0m\n\u001b[0m\u001b[1;32m    423\u001b[0m         \u001b[0mown_fid\u001b[0m \u001b[0;34m=\u001b[0m \u001b[0;32mTrue\u001b[0m\u001b[0;34m\u001b[0m\u001b[0;34m\u001b[0m\u001b[0m\n\u001b[1;32m    424\u001b[0m \u001b[0;34m\u001b[0m\u001b[0m\n",
      "\u001b[0;31mFileNotFoundError\u001b[0m: [Errno 2] No such file or directory: 'input/prior_samples/thickness.npy'"
     ]
    }
   ],
   "source": [
    "print(\"1. Initialization\")\n",
    "'''Loading and Visualization of prior MC samples'''\n",
    "m = []\n",
    "for i in range(len(model_names)):\n",
    "    m.append(np.load(pri_m_samples_dir + model_names[i] + '.npy'))\n",
    "    mc_samples_plot(m[i], model_names[i], model_types[\n",
    "                    i], 'Prior', x_dim, y_dim, z_dim, 1)\n",
    "\n",
    "'''obtain well trajectory index (\"G_d\") from dobs_file'''\n",
    "well_path = np.loadtxt(fname=dobs_file, skiprows=1)[:, :3].astype(int)\n",
    "well_path = well_path.astype(int)\n",
    "G_d = x_dim * y_dim * \\\n",
    "    (well_path[:, 2] - 1) + (y_dim - well_path[:, 1]) * \\\n",
    "    x_dim + well_path[:, 0] - 1\n",
    "np.save('output/model/G_d', G_d)\n",
    "'''Extract prior data samples'''\n",
    "d = []\n",
    "for i in range(len(model_names)):\n",
    "    d.append(m[0][:, G_d])\n"
   ]
  },
  {
   "cell_type": "markdown",
   "metadata": {},
   "source": [
    "##########################################################################\n",
    "##            STEP 2.  Prior prediction              ##\n",
    "##########################################################################\n"
   ]
  },
  {
   "cell_type": "code",
   "execution_count": null,
   "metadata": {},
   "outputs": [],
   "source": [
    "print(\"  \")\n",
    "print(\"2. Prior prediction\")\n",
    "GIIP = GIIP_cal(1, 0, m[0], grid_h_resolution, True)\n",
    "np.save('output/prediction/GIIP_pri', GIIP)\n",
    "\n"
   ]
  },
  {
   "cell_type": "markdown",
   "metadata": {},
   "source": [
    "##########################################################################\n",
    "##           STEP 3.  Dimension Reduction of data & model       ##\n",
    "##########################################################################\n"
   ]
  },
  {
   "cell_type": "code",
   "execution_count": null,
   "metadata": {},
   "outputs": [],
   "source": [
    "\n",
    "print(\"  \")\n",
    "print(\"3. Dimension reduction of model and data\")\n",
    "'''m_pcnumsc: the number of model PCs to preserve in dimension reduction'''\n",
    "m_pcnums = []\n",
    "for i in range(len(model_names)):\n",
    "m_pri = m[i]\n",
    "d_pri = d[i]\n",
    "\n",
    "m_pcnum = scree_plot(m_pri, 'model', 90, 'plot')\n",
    "m_pcnums.append(m_pcnum)\n",
    "m_mean_pri = m_pri.mean(axis=0)\n",
    "m_eigvec_pri = evd_fast(m_pri, len(m_pri))\n",
    "m_pcscr_pri = (m_pri - m_mean_pri).dot(m_eigvec_pri)\n",
    "\n",
    "np.save('output/model/' + model_names[i] + '_mean_pri', m_mean_pri)\n",
    "np.save('output/model/' + model_names[i] + '_eigvec_pri', m_eigvec_pri)\n",
    "np.save('output/model/' + model_names[i] + '_pcscr_pri', m_pcscr_pri)\n",
    "print(\"QC of the model eigen images\")\n",
    "eigen_imgs(m_eigvec_pri, [1, 3, 5, 10], x_dim, y_dim)\n",
    "\n",
    "d_obs = np.loadtxt(fname=dobs_file, skiprows=1)[\n",
    "    :, 3 + i:4 + i].astype(int).T\n",
    "d_pca = PCA(n_components=d_pri.shape[1])\n",
    "d_pca.fit(d_pri)\n",
    "d_pcscr = d_pca.transform(d_pri)\n",
    "d_pcscr_obs = d_pca.transform(d_obs)\n",
    "np.save('output/data/dpcscr_pri_' + model_names[i], d_pcscr)\n",
    "np.save('output/data/dpcscr_obs_' + model_names[i], d_pcscr_obs)\n",
    "np.save('output/data/dpca_eigenvec_' +\n",
    "        model_names[i], d_pca.components_)"
   ]
  },
  {
   "cell_type": "markdown",
   "metadata": {},
   "source": [
    "##########################################################################\n",
    "##              STEP 4.   Falsification             ##\n",
    "##########################################################################"
   ]
  },
  {
   "cell_type": "code",
   "execution_count": 8,
   "metadata": {},
   "outputs": [
    {
     "name": "stdout",
     "output_type": "stream",
     "text": [
      "  \n",
      "4. Prior falsification\n"
     ]
    },
    {
     "ename": "SyntaxError",
     "evalue": "'return' outside function (<ipython-input-8-e3e879cfd0b5>, line 15)",
     "output_type": "error",
     "traceback": [
      "\u001b[0;36m  File \u001b[0;32m\"<ipython-input-8-e3e879cfd0b5>\"\u001b[0;36m, line \u001b[0;32m15\u001b[0m\n\u001b[0;31m    return\u001b[0m\n\u001b[0m    ^\u001b[0m\n\u001b[0;31mSyntaxError\u001b[0m\u001b[0;31m:\u001b[0m 'return' outside function\n"
     ]
    }
   ],
   "source": [
    "print(\"  \")\n",
    "print(\"4. Prior falsification\")\n",
    "for i in range(len(model_names)):\n",
    "    d_pri = np.load('output/data/dpcscr_pri_' + model_names[i] + '.npy')\n",
    "    d_obs = np.load('output/data/dpcscr_obs_' + model_names[i] + '.npy')\n",
    "    RMD_obs, RMD_Qquantile = RobustMD_flsification(\n",
    "        d_pri, d_obs, model_names[i], True, 95)\n",
    "\n",
    "    if RMD_obs >= RMD_Qquantile:\n",
    "        print(\"  \")\n",
    "        print(\"******************************************************\")\n",
    "        print(\n",
    "            ' >> \"' + model_names[i] + '\" Prior is falsified! Please re-design your prior <<')\n",
    "        print(\"******************************************************\")\n",
    "        return\n",
    "    print(\"*******************************\")\n",
    "    print('>> \"' + model_names[i] + '\" Prior CANNOT be falsified!')\n",
    "    print(\"*******************************\")\n",
    "\n"
   ]
  },
  {
   "cell_type": "markdown",
   "metadata": {},
   "source": [
    "##########################################################################\n",
    "##           STEP 5. GSA               ##\n",
    "##########################################################################\n"
   ]
  },
  {
   "cell_type": "code",
   "execution_count": 9,
   "metadata": {},
   "outputs": [
    {
     "ename": "IndentationError",
     "evalue": "unexpected indent (<ipython-input-9-7492c8ac3f85>, line 2)",
     "output_type": "error",
     "traceback": [
      "\u001b[0;36m  File \u001b[0;32m\"<ipython-input-9-7492c8ac3f85>\"\u001b[0;36m, line \u001b[0;32m2\u001b[0m\n\u001b[0;31m    print(\"5. Global Sensitivity anlaysis-DGSA\")\u001b[0m\n\u001b[0m    ^\u001b[0m\n\u001b[0;31mIndentationError\u001b[0m\u001b[0;31m:\u001b[0m unexpected indent\n"
     ]
    }
   ],
   "source": [
    "   print(\"  \")\n",
    "    print(\"5. Global Sensitivity anlaysis-DGSA\")\n",
    "    for i in range(len(model_names)):\n",
    "        m_pcscr_pri = np.load(\n",
    "            'output/model/' + model_names[i] + '_pcscr_pri.npy')[:, :m_pcnums[i]]\n",
    "        d_pcscr_pri = np.load(\n",
    "            'output/data/dpcscr_pri_' + model_names[i] + '.npy')\n",
    "        headers = []\n",
    "        for para in range(m_pcnums[i]):\n",
    "            headers.append('pc' + str(para + 1))\n",
    "        try:\n",
    "            SA_measure = DGSA_light(m_pcscr_pri, d_pcscr, headers)\n",
    "        except Exception as error:\n",
    "            print(str(error))\n",
    "        gsa_pareto_plt(SA_measure, model_names[i])\n",
    "        np.save('output/data/SA_measure_' + model_names[i], SA_measure)\n",
    "\n"
   ]
  },
  {
   "cell_type": "markdown",
   "metadata": {},
   "source": [
    "##########################################################################\n",
    "##           STEP 6.  Uncertainty reduction              ##\n",
    "##########################################################################\n",
    "\n"
   ]
  },
  {
   "cell_type": "code",
   "execution_count": null,
   "metadata": {},
   "outputs": [],
   "source": [
    "print(\"  \")\n",
    "print(\"6. Unceratinty reduction\")\n",
    "print(\"  \")\n",
    "##          STEP 6.1     QC statistical relationships           ##\n",
    "print(\"6.1 QC model and data statistical relationships\")\n",
    "for i in range(len(model_names)):\n",
    "    SA_measure = np.load('output/data/SA_measure_' +\n",
    "                         model_names[i] + '.npy')[:, 0]\n",
    "    sensitive_pcnum = np.argwhere(SA_measure > 1)[:len(d_pcscr[1]), 0]\n",
    "\n",
    "    m_pcscr_pri = np.load(\n",
    "        'output/model/' + model_names[i] + '_pcscr_pri.npy')[:, :m_pcnums[i]]\n",
    "    d_pcscr_pri = np.load(\n",
    "        'output/data/dpcscr_pri_' + model_names[i] + '.npy')\n",
    "    d_pcscr_obs = np.load(\n",
    "        'output/data/dpcscr_obs_' + model_names[i] + '.npy')\n",
    "\n",
    "    rgrplt_all_dh(d_pcscr_pri, m_pcscr_pri, d_pcscr_obs,\n",
    "                  [1, 2, 3], [1, 2, 3, 4, 5, 6, 7])\n",
    "\n",
    "    m_star = m_pcscr_pri[:, sensitive_pcnum]\n",
    "    d_star = d_pcscr_pri\n",
    "    dobs_star = d_pcscr_obs\n",
    "    #######################################################################\n",
    "    ##          STEP 6.2  CCA             ##\n",
    "    print(\"  \")\n",
    "    print(\"6.2 Canonical Corrleation Analysis\")\n",
    "\n",
    "    d_c, m_c, ad, am = cca_d_h(d_star, m_star, len(m_star[0, :]))\n",
    "    dobs_c = np.matmul(dobs_star, ad)\n",
    "    d_c = np.matmul(d_star, ad)\n",
    "    m_c = np.matmul(m_star, am)\n",
    "    cca_plt(d_c, m_c, dobs_c, 1)\n",
    "\n",
    "    #######################################################################\n",
    "    ##          STEP 6.3 Gaussian Regression                ##\n",
    "    print(\"  \")\n",
    "    print(\"6.3 Parametric Gaussian Regression & posterior sampling\")\n",
    "\n",
    "    #######################################################################\n",
    "    ##          STEP 6.4 Reconstruct posterior model                ##\n",
    "    err_levl = 0.00\n",
    "    dpca_eigenvec = np.load(\n",
    "        'output/data/dpca_eigenvec_' + model_names[i] + '.npy')\n",
    "    cdd_star = cal_c_dd_star_pca_cca(dpca_eigenvec, ad, err_levl, d_obs)\n",
    "    post_est_clsplt([1, 2, 3, 4], m_c, d_c, dobs_c, cdd_star, 2, 2)\n",
    "\n",
    "    print(\"  \")\n",
    "    print(\"6.4 Reconstruct posterior model\")\n",
    "    all_mc_post = []\n",
    "    for cca_comp in range(1, len(m_star[0, :]) + 1):\n",
    "        all_mc_post.append(post_est_rtn_val(\n",
    "            cca_comp, m_c, d_c, dobs_c, cdd_star, 0))\n",
    "    all_mc_post = np.asarray(all_mc_post).T\n",
    "    m_pcscr_post_SA = all_mc_post.dot(np.linalg.inv(am))\n",
    "    m_pcscr_post = np.load(\n",
    "        'output/model/' + model_names[i] + '_pcscr_pri.npy')\n",
    "    m_pcscr_post[:, sensitive_pcnum] = m_pcscr_post_SA\n",
    "    plt_pos_pri_comp(\n",
    "        sensitive_pcnum[0] + 1, sensitive_pcnum[1] + 1, m_pcscr_pri, m_pcscr_post)\n",
    "\n",
    "    m_eigvec = np.load('output/model/' +\n",
    "                       model_names[i] + '_eigvec_pri.npy')\n",
    "    m_pri_mean = np.load(\n",
    "        'output/model/' + model_names[i] + '_mean_pri.npy')\n",
    "    m_post = m_pcscr_post.dot(m_eigvec.T) + m_pri_mean\n",
    "    np.save('output/model/' + model_names[i] + '_model_post', m_post)\n",
    "\n",
    "    #######################################################################\n",
    "    ##          STEP 6.5 QC posterior results               ##\n",
    "\n",
    "    print(\"  \")\n",
    "    print(\"6.5. QC posterior results\")\n",
    "    print(\"  \")\n",
    "    print(\"6.5.1 Plot posterior models\")\n",
    "    m_pri = np.load(pri_m_samples_dir + model_names[i] + '.npy')\n",
    "    d_obs = np.c_[np.loadtxt(fname=dobs_file, skiprows=1)[:, :3], np.loadtxt(\n",
    "        fname=dobs_file, skiprows=1)[:, i + 3:i + 4]]\n",
    "    # m_sampls_plt(m_post, samples_size, model_names[i], x_dim, y_dim, z_dim)\n",
    "    mc_samples_plot(m_post, model_names[i], model_types[\n",
    "                    i], 'Posterior', x_dim, y_dim, z_dim, 1)\n",
    "    m_ensampl_plt(m_post, m_pri,  model_names[\n",
    "                  i], 1, x_dim, y_dim, 1, d_obs)\n",
    "\n",
    "    print(\"  \")\n",
    "    print(\"6.5.2 Calculate posterior prediction\")\n",
    "    GIIP_post = GIIP_cal(1, 0, m_post, grid_h_resolution, False)\n",
    "    np.save('output/prediction/GIIP_post', GIIP_post)\n",
    "    GIIP_pri = np.load('output/prediction/GIIP_pri.npy')\n",
    "    giip_compare(GIIP_pri, GIIP_post, model_names[i])\n",
    "\n",
    "print(\"  \")\n",
    "print(\"AUTO-BEL completed :-)!\")"
   ]
  },
  {
   "cell_type": "code",
   "execution_count": null,
   "metadata": {},
   "outputs": [],
   "source": []
  },
  {
   "cell_type": "code",
   "execution_count": null,
   "metadata": {},
   "outputs": [],
   "source": []
  },
  {
   "cell_type": "code",
   "execution_count": null,
   "metadata": {},
   "outputs": [],
   "source": []
  },
  {
   "cell_type": "code",
   "execution_count": null,
   "metadata": {},
   "outputs": [],
   "source": [
    "\n",
    "\n",
    "\n",
    "def Auto_BEL(pri_m_samples_dir, model_names, model_types, mgl, samples_size, x_dim, y_dim, z_dim, grid_h_resolution, dobs_file):\n",
    "    '''This is the main function for runing Auto_BEL'''\n",
    "    ##########################################################################\n",
    "    ##          STEP 1.  Analyze prior model samples & extract data          ##\n",
    "    ##########################################################################\n",
    "    print(\"1. Initialization\")\n",
    "    '''Loading and Visualization of prior MC samples'''\n",
    "    m = []\n",
    "    for i in range(len(model_names)):\n",
    "        m.append(np.load(pri_m_samples_dir + model_names[i] + '.npy'))\n",
    "        mc_samples_plot(m[i], model_names[i], model_types[\n",
    "                        i], 'Prior', x_dim, y_dim, z_dim, 1)\n",
    "\n",
    "    '''obtain well trajectory index (\"G_d\") from dobs_file'''\n",
    "    well_path = np.loadtxt(fname=dobs_file, skiprows=1)[:, :3].astype(int)\n",
    "    well_path = well_path.astype(int)\n",
    "    G_d = x_dim * y_dim * \\\n",
    "        (well_path[:, 2] - 1) + (y_dim - well_path[:, 1]) * \\\n",
    "        x_dim + well_path[:, 0] - 1\n",
    "    np.save('output/model/G_d', G_d)\n",
    "    '''Extract prior data samples'''\n",
    "    d = []\n",
    "    for i in range(len(model_names)):\n",
    "        d.append(m[0][:, G_d])\n",
    "\n",
    "    ##########################################################################\n",
    "        ##            STEP 2.  Prior prediction              ##\n",
    "    ##########################################################################\n",
    "    print(\"  \")\n",
    "    print(\"2. Prior prediction\")\n",
    "    GIIP = GIIP_cal(1, 0, m[0], grid_h_resolution, True)\n",
    "    np.save('output/prediction/GIIP_pri', GIIP)\n",
    "\n",
    "    ##########################################################################\n",
    "    ##           STEP 3.  Dimension Reduction of data & model       ##\n",
    "    ##########################################################################\n",
    "\n",
    "    print(\"  \")\n",
    "    print(\"3. Dimension reduction of model and data\")\n",
    "    '''m_pcnumsc: the number of model PCs to preserve in dimension reduction'''\n",
    "    m_pcnums = []\n",
    "    for i in range(len(model_names)):\n",
    "        m_pri = m[i]\n",
    "        d_pri = d[i]\n",
    "\n",
    "        m_pcnum = scree_plot(m_pri, 'model', 90, 'plot')\n",
    "        m_pcnums.append(m_pcnum)\n",
    "        m_mean_pri = m_pri.mean(axis=0)\n",
    "        m_eigvec_pri = evd_fast(m_pri, len(m_pri))\n",
    "        m_pcscr_pri = (m_pri - m_mean_pri).dot(m_eigvec_pri)\n",
    "\n",
    "        np.save('output/model/' + model_names[i] + '_mean_pri', m_mean_pri)\n",
    "        np.save('output/model/' + model_names[i] + '_eigvec_pri', m_eigvec_pri)\n",
    "        np.save('output/model/' + model_names[i] + '_pcscr_pri', m_pcscr_pri)\n",
    "        print(\"QC of the model eigen images\")\n",
    "        eigen_imgs(m_eigvec_pri, [1, 3, 5, 10], x_dim, y_dim)\n",
    "\n",
    "        d_obs = np.loadtxt(fname=dobs_file, skiprows=1)[\n",
    "            :, 3 + i:4 + i].astype(int).T\n",
    "        d_pca = PCA(n_components=d_pri.shape[1])\n",
    "        d_pca.fit(d_pri)\n",
    "        d_pcscr = d_pca.transform(d_pri)\n",
    "        d_pcscr_obs = d_pca.transform(d_obs)\n",
    "        np.save('output/data/dpcscr_pri_' + model_names[i], d_pcscr)\n",
    "        np.save('output/data/dpcscr_obs_' + model_names[i], d_pcscr_obs)\n",
    "        np.save('output/data/dpca_eigenvec_' +\n",
    "                model_names[i], d_pca.components_)\n",
    "\n",
    "    ##########################################################################\n",
    "        ##              STEP 4.   Falsification             ##\n",
    "    ##########################################################################\n",
    "    print(\"  \")\n",
    "    print(\"4. Prior falsification\")\n",
    "    for i in range(len(model_names)):\n",
    "        d_pri = np.load('output/data/dpcscr_pri_' + model_names[i] + '.npy')\n",
    "        d_obs = np.load('output/data/dpcscr_obs_' + model_names[i] + '.npy')\n",
    "        RMD_obs, RMD_Qquantile = RobustMD_flsification(\n",
    "            d_pri, d_obs, model_names[i], True, 95)\n",
    "\n",
    "        if RMD_obs >= RMD_Qquantile:\n",
    "            print(\"  \")\n",
    "            print(\"******************************************************\")\n",
    "            print(\n",
    "                ' >> \"' + model_names[i] + '\" Prior is falsified! Please re-design your prior <<')\n",
    "            print(\"******************************************************\")\n",
    "            return\n",
    "        print(\"*******************************\")\n",
    "        print('>> \"' + model_names[i] + '\" Prior CANNOT be falsified!')\n",
    "        print(\"*******************************\")\n",
    "\n",
    "    ##########################################################################\n",
    "        ##           STEP 5. GSA               ##\n",
    "    ##########################################################################\n",
    "    print(\"  \")\n",
    "    print(\"5. Global Sensitivity anlaysis-DGSA\")\n",
    "    for i in range(len(model_names)):\n",
    "        m_pcscr_pri = np.load(\n",
    "            'output/model/' + model_names[i] + '_pcscr_pri.npy')[:, :m_pcnums[i]]\n",
    "        d_pcscr_pri = np.load(\n",
    "            'output/data/dpcscr_pri_' + model_names[i] + '.npy')\n",
    "        headers = []\n",
    "        for para in range(m_pcnums[i]):\n",
    "            headers.append('pc' + str(para + 1))\n",
    "        try:\n",
    "            SA_measure = DGSA_light(m_pcscr_pri, d_pcscr, headers)\n",
    "        except Exception as error:\n",
    "            print(str(error))\n",
    "        gsa_pareto_plt(SA_measure, model_names[i])\n",
    "        np.save('output/data/SA_measure_' + model_names[i], SA_measure)\n",
    "\n",
    "    ##########################################################################\n",
    "        ##           STEP 6.  Uncertainty reduction              ##\n",
    "    ##########################################################################\n",
    "    print(\"  \")\n",
    "    print(\"6. Unceratinty reduction\")\n",
    "    print(\"  \")\n",
    "    ##########################################################################\n",
    "    ##          STEP 6.1     QC statistical relationships           ##\n",
    "    print(\"6.1 QC model and data statistical relationships\")\n",
    "    for i in range(len(model_names)):\n",
    "        SA_measure = np.load('output/data/SA_measure_' +\n",
    "                             model_names[i] + '.npy')[:, 0]\n",
    "        sensitive_pcnum = np.argwhere(SA_measure > 1)[:len(d_pcscr[1]), 0]\n",
    "\n",
    "        m_pcscr_pri = np.load(\n",
    "            'output/model/' + model_names[i] + '_pcscr_pri.npy')[:, :m_pcnums[i]]\n",
    "        d_pcscr_pri = np.load(\n",
    "            'output/data/dpcscr_pri_' + model_names[i] + '.npy')\n",
    "        d_pcscr_obs = np.load(\n",
    "            'output/data/dpcscr_obs_' + model_names[i] + '.npy')\n",
    "\n",
    "        rgrplt_all_dh(d_pcscr_pri, m_pcscr_pri, d_pcscr_obs,\n",
    "                      [1, 2, 3], [1, 2, 3, 4, 5, 6, 7])\n",
    "\n",
    "        m_star = m_pcscr_pri[:, sensitive_pcnum]\n",
    "        d_star = d_pcscr_pri\n",
    "        dobs_star = d_pcscr_obs\n",
    "        #######################################################################\n",
    "        ##          STEP 6.2  CCA             ##\n",
    "        print(\"  \")\n",
    "        print(\"6.2 Canonical Corrleation Analysis\")\n",
    "\n",
    "        d_c, m_c, ad, am = cca_d_h(d_star, m_star, len(m_star[0, :]))\n",
    "        dobs_c = np.matmul(dobs_star, ad)\n",
    "        d_c = np.matmul(d_star, ad)\n",
    "        m_c = np.matmul(m_star, am)\n",
    "        cca_plt(d_c, m_c, dobs_c, 1)\n",
    "\n",
    "        #######################################################################\n",
    "        ##          STEP 6.3 Gaussian Regression                ##\n",
    "        print(\"  \")\n",
    "        print(\"6.3 Parametric Gaussian Regression & posterior sampling\")\n",
    "\n",
    "        #######################################################################\n",
    "        ##          STEP 6.4 Reconstruct posterior model                ##\n",
    "        err_levl = 0.00\n",
    "        dpca_eigenvec = np.load(\n",
    "            'output/data/dpca_eigenvec_' + model_names[i] + '.npy')\n",
    "        cdd_star = cal_c_dd_star_pca_cca(dpca_eigenvec, ad, err_levl, d_obs)\n",
    "        post_est_clsplt([1, 2, 3, 4], m_c, d_c, dobs_c, cdd_star, 2, 2)\n",
    "\n",
    "        print(\"  \")\n",
    "        print(\"6.4 Reconstruct posterior model\")\n",
    "        all_mc_post = []\n",
    "        for cca_comp in range(1, len(m_star[0, :]) + 1):\n",
    "            all_mc_post.append(post_est_rtn_val(\n",
    "                cca_comp, m_c, d_c, dobs_c, cdd_star, 0))\n",
    "        all_mc_post = np.asarray(all_mc_post).T\n",
    "        m_pcscr_post_SA = all_mc_post.dot(np.linalg.inv(am))\n",
    "        m_pcscr_post = np.load(\n",
    "            'output/model/' + model_names[i] + '_pcscr_pri.npy')\n",
    "        m_pcscr_post[:, sensitive_pcnum] = m_pcscr_post_SA\n",
    "        plt_pos_pri_comp(\n",
    "            sensitive_pcnum[0] + 1, sensitive_pcnum[1] + 1, m_pcscr_pri, m_pcscr_post)\n",
    "\n",
    "        m_eigvec = np.load('output/model/' +\n",
    "                           model_names[i] + '_eigvec_pri.npy')\n",
    "        m_pri_mean = np.load(\n",
    "            'output/model/' + model_names[i] + '_mean_pri.npy')\n",
    "        m_post = m_pcscr_post.dot(m_eigvec.T) + m_pri_mean\n",
    "        np.save('output/model/' + model_names[i] + '_model_post', m_post)\n",
    "\n",
    "        #######################################################################\n",
    "        ##          STEP 6.5 QC posterior results               ##\n",
    "\n",
    "        print(\"  \")\n",
    "        print(\"6.5. QC posterior results\")\n",
    "        print(\"  \")\n",
    "        print(\"6.5.1 Plot posterior models\")\n",
    "        m_pri = np.load(pri_m_samples_dir + model_names[i] + '.npy')\n",
    "        d_obs = np.c_[np.loadtxt(fname=dobs_file, skiprows=1)[:, :3], np.loadtxt(\n",
    "            fname=dobs_file, skiprows=1)[:, i + 3:i + 4]]\n",
    "        # m_sampls_plt(m_post, samples_size, model_names[i], x_dim, y_dim, z_dim)\n",
    "        mc_samples_plot(m_post, model_names[i], model_types[\n",
    "                        i], 'Posterior', x_dim, y_dim, z_dim, 1)\n",
    "        m_ensampl_plt(m_post, m_pri,  model_names[\n",
    "                      i], 1, x_dim, y_dim, 1, d_obs)\n",
    "\n",
    "        print(\"  \")\n",
    "        print(\"6.5.2 Calculate posterior prediction\")\n",
    "        GIIP_post = GIIP_cal(1, 0, m_post, grid_h_resolution, False)\n",
    "        np.save('output/prediction/GIIP_post', GIIP_post)\n",
    "        GIIP_pri = np.load('output/prediction/GIIP_pri.npy')\n",
    "        giip_compare(GIIP_pri, GIIP_post, model_names[i])\n",
    "\n",
    "    print(\"  \")\n",
    "    print(\"AUTO-BEL completed :-)!\")\n",
    "    return\n"
   ]
  },
  {
   "cell_type": "code",
   "execution_count": null,
   "metadata": {},
   "outputs": [],
   "source": []
  }
 ],
 "metadata": {
  "kernelspec": {
   "display_name": "Python 3",
   "language": "python",
   "name": "python3"
  },
  "language_info": {
   "codemirror_mode": {
    "name": "ipython",
    "version": 3
   },
   "file_extension": ".py",
   "mimetype": "text/x-python",
   "name": "python",
   "nbconvert_exporter": "python",
   "pygments_lexer": "ipython3",
   "version": "3.8.3"
  }
 },
 "nbformat": 4,
 "nbformat_minor": 2
}
