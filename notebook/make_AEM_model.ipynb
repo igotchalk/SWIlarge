{
 "cells": [
  {
   "cell_type": "code",
   "execution_count": 1,
   "metadata": {},
   "outputs": [
    {
     "name": "stdout",
     "output_type": "stream",
     "text": [
      "flopy is installed in /home/users/ianpg/miniconda3/envs/SWIlarge-environment/lib/python3.8/site-packages/flopy\n",
      "system: linux\n"
     ]
    }
   ],
   "source": [
    "import flopy\n",
    "import os\n",
    "import sys\n",
    "from pathlib import Path\n",
    "import numpy as np\n",
    "import matplotlib.pyplot as plt\n",
    "import pandas as pd\n",
    "import shapefile as sf #in case you dont have it, form anaconda prompt: pip install pyshp\n",
    "from flopy.utils.gridgen import Gridgen\n",
    "from flopy.utils.reference import SpatialReference\n",
    "import mplleaflet\n",
    "from  pyproj import Proj\n",
    "from SimPEG import Mesh\n",
    "\n",
    "\n",
    "if sys.platform.lower()=='linux':\n",
    "    datadir = Path('/scratch/users/ianpg/SWIlarge/data')\n",
    "    workdir = Path('/scratch/users/ianpg/SWIlarge/work')\n",
    "#     sharedir = datadir.joinpath('SWIlarge/data/GIS')\n",
    "    MPSdir = datadir.joinpath('lith/sgems/MPS')\n",
    "    GISdir = datadir.joinpath('GIS')\n",
    "    simpegskytem_path = '../../kang-2019-3D-aem/codes'\n",
    "    \n",
    "    \n",
    "elif sys.platform.lower()=='darwin':\n",
    "    datadir = Path('../data')\n",
    "    workdir = Path('../work')\n",
    "    sharedir = Path('/Users/ianpg/Dropbox/temp_convenience/SWIlarge/data/GIS')\n",
    "    MPSdir = Path('/Users/ianpg/Dropbox/temp_convenience/SWIlarge/data/lith/sgems/MPS')\n",
    "    GISdir = sharedir\n",
    "\n",
    "nmgwmdir_cal = datadir.joinpath('Calibrated_small') #<-- removed RCH, WEL, GLO, LST from the NAM file to load much faster\n",
    "figdir = workdir.joinpath('figs')\n",
    "outputdir = workdir.joinpath('output')\n",
    "\n",
    "\n",
    "\n",
    "#Local imports and file creation\n",
    "if not simpegskytem_path in sys.path:\n",
    "    sys.path.append(simpegskytem_path)\n",
    "\n",
    "import simpegskytem\n",
    "from simpegskytem import ProblemSkyTEM, GlobalAEMSurveyTD, GlobalSkyTEM, get_skytem_survey,Utils\n",
    "\n",
    "import config\n",
    "from set_rc import *\n",
    "\n",
    "\n",
    "for d in (figdir,outputdir):\n",
    "    if not d.exists():\n",
    "        d.mkdir()\n",
    "\n",
    "\n",
    "p = Proj(\"epsg:26910\")\n",
    "xll=595855\n",
    "yll = 4059438\n",
    "rotation = -13.5"
   ]
  },
  {
   "cell_type": "code",
   "execution_count": 2,
   "metadata": {},
   "outputs": [],
   "source": [
    "#%% Useful functions\n",
    "\n",
    "def load_obj(dirname,name):\n",
    "    import pickle\n",
    "    with open(Path(dirname).joinpath(name + '.pkl').as_posix(), 'rb') as f:\n",
    "        return pickle.load(f)\n",
    "\n",
    "def save_obj(dirname,obj,name):\n",
    "    import pickle\n",
    "    with open(Path(dirname).joinpath(name + '.pkl').as_posix(), 'wb') as f:\n",
    "        pickle.dump(obj, f, pickle.HIGHEST_PROTOCOL)\n",
    "\n",
    "#Create new MC_file\n",
    "def create_MC_file():\n",
    "    import datetime\n",
    "    ts = datetime.datetime.now().strftime('%Y-%m-%d-%H-%M')\n",
    "    MC_dir = Path(os.path.join(m.model_ws, 'MC_expt_' + ts))\n",
    "    if not MC_dir.exists():\n",
    "        MC_dir.mkdir()\n",
    "    m.MC_file = MC_dir.joinpath('expt.txt')\n",
    "    with m.MC_file.open('w') as wf:\n",
    "        wf.close\n",
    "    print(m.MC_file)\n",
    "    return\n",
    "\n",
    "#nearest value in array\n",
    "def find_nearest(array,value):\n",
    "    import numpy as np\n",
    "    idx = (np.abs(array-value)).argmin()\n",
    "    idx.astype('int')\n",
    "    return array[idx]\n",
    "\n",
    "#take distance in meters, return column in model\n",
    "def loc_to_col(locs):\n",
    "    cols = [int(find_nearest((np.arange(ncol)*delc),loc)) for loc in locs]\n",
    "    return cols\n",
    "\n",
    "#make a line across the grid\n",
    "def get_line(start, end,allrows=1,nrow=None):\n",
    "    \"\"\"Bresenham's Line Algorithm\n",
    "    Produces a list of tuples from start and end\n",
    "\n",
    "    >>> points1 = get_line((0, 0), (3, 4))\n",
    "    >>> points2 = get_line((3, 4), (0, 0))\n",
    "    >>> assert(set(points1) == set(points2))\n",
    "    >>> print points1\n",
    "    [(0, 0), (1, 1), (1, 2), (2, 3), (3, 4)]\n",
    "    >>> print points2\n",
    "    [(3, 4), (2, 3), (1, 2), (1, 1), (0, 0)]\n",
    "    \"\"\"\n",
    "    # Setup initial conditions\n",
    "    x1, y1 = start\n",
    "    x2, y2 = end\n",
    "    dx = x2 - x1\n",
    "    dy = y2 - y1\n",
    "\n",
    "    # Determine how steep the line is\n",
    "    is_steep = abs(dy) > abs(dx)\n",
    "\n",
    "    # Rotate line\n",
    "    if is_steep:\n",
    "        x1, y1 = y1, x1\n",
    "        x2, y2 = y2, x2\n",
    "\n",
    "    # Swap start and end points if necessary and store swap state\n",
    "    swapped = False\n",
    "    if x1 > x2:\n",
    "        x1, x2 = x2, x1\n",
    "        y1, y2 = y2, y1\n",
    "        swapped = True\n",
    "\n",
    "    # Recalculate differentials\n",
    "    dx = x2 - x1\n",
    "    dy = y2 - y1\n",
    "\n",
    "    # Calculate error\n",
    "    error = int(dx / 2.0)\n",
    "    ystep = 1 if y1 < y2 else -1\n",
    "\n",
    "    # Iterate over bounding box generating points between start and end\n",
    "    y = y1\n",
    "    points = []\n",
    "    for x in range(x1, x2 + 1):\n",
    "        if allrows==1:\n",
    "            if nrow is None:\n",
    "                nrow = m.nrow\n",
    "            for row in range(nrow):\n",
    "                coord = (y, row, x) if is_steep else (x, row, y)\n",
    "                points.append(coord)\n",
    "        else:\n",
    "            coord = (y, x) if is_steep else (x, y)\n",
    "            points.append(coord)\n",
    "        error -= abs(dy)\n",
    "        if error < 0:\n",
    "            y += ystep\n",
    "            error += dx\n",
    "\n",
    "    # Reverse the list if the coordinates were swapped\n",
    "    if swapped:\n",
    "        points.reverse()\n",
    "    return points\n",
    "\n",
    "\n",
    "#make all cells=0 above the line from get_line()\n",
    "#Calculate freshwater head based on column of saltwater above each node (rho*g*z)\n",
    "def shade_above(nlay,nrow,ncol,point_list,third_dim=1):\n",
    "    import numpy as np\n",
    "    grd = np.ones((nlay,nrow,ncol),dtype='int')\n",
    "    ocean_hf = []\n",
    "    if len(point_list)==0:\n",
    "        return grd,ocean_hf\n",
    "    for (lay,row,col) in point_list:\n",
    "        grd[lay,:,col] = -1 #assign ocean ibound to -1\n",
    "        grd[:lay,:,col] = 0 #assign cells above ocean to 0\n",
    "        hf = densefresh/densesalt*ocean_elev - (densesalt - densefresh)/densefresh*(henry_botm[lay] +.5*delv)\n",
    "        for irow in range(nrow):\n",
    "            ocean_hf.append((int(lay),int(irow),int(col),hf))\n",
    "    ocean_hf = tuple(np.array(ocean_hf).T)\n",
    "    ocean_hf = (ocean_hf[0].astype('int'),\n",
    "                ocean_hf[1].astype('int'),\n",
    "                ocean_hf[2].astype('int'),\n",
    "                ocean_hf[3])\n",
    "    return grd,ocean_hf\n",
    "\n",
    "def get_ocean_right_edge(m,ocean_line_tuple,startlay=None,col=None):\n",
    "    import numpy as np\n",
    "    point_list = []\n",
    "    if col is None:\n",
    "        col = m.ncol-1\n",
    "    #If there is no vertical side boundary, return bottom-right corner node\n",
    "    if len(ocean_line_tuple)==0:\n",
    "        if startlay is None:\n",
    "            startlay = 0\n",
    "    elif max(ocean_line_tuple[0])==m.nlay:\n",
    "        startlay = m.nlay\n",
    "    elif max(ocean_line_tuple[0])<m.nlay:\n",
    "        startlay = max(ocean_line_tuple[0])\n",
    "    for lay in range(startlay,m.nlay):\n",
    "        for row in range(m.nrow):\n",
    "            point_list.append((lay,row,col))\n",
    "    point_list = tuple(np.array(point_list).T)\n",
    "    return point_list\n",
    "\n",
    "def add_pumping_wells(wel_data,ssm_data,n_wells,flx,rowcol,kper):\n",
    "    itype = flopy.mt3d.Mt3dSsm.itype_dict()\n",
    "    new_weldata = wel_data\n",
    "    new_ssmdata = ssm_data\n",
    "    wel_cells = []\n",
    "    for k in range(n_wells):\n",
    "        row,col = rowcol[k]\n",
    "        for i in range(nper):\n",
    "            if i in kper:\n",
    "                for j in range(nlay):\n",
    "                    #WEL {stress_period: [lay,row,col,flux]}\n",
    "                    new_weldata[i].append([j,row,col,-flx[k]*delv_weight[j]])\n",
    "                    wel_cells.append((j,row,col))\n",
    "                    #SSM: {stress_period: [lay,row,col,concentration,itype]}\n",
    "                    new_ssmdata[i].append([j,row,col,Cfresh,itype['WEL']]) #since it's a sink, conc. doesn't matter\n",
    "            else:\n",
    "                for j in range(nlay):\n",
    "                    #WEL {stress_period: [lay,row,col,flux]}\n",
    "                    new_weldata[i].append([j,row,col,0])\n",
    "                    #SSM: {stress_period: [lay,row,col,concentration,itype]}\n",
    "                    new_ssmdata[i].append([j,row,col,Cfresh,itype['WEL']]) #since it's a sink, conc. doesn't matter\n",
    "                    wel_cells.append((j,row,col))\n",
    "                continue\n",
    "    wel_cells = tuple(np.array(list(set(wel_cells))).T)\n",
    "    return new_weldata, new_ssmdata,wel_cells\n",
    "\n",
    "#Add recharge if desired\n",
    "def make_rech_array(low=1e-2,high=1e0):\n",
    "    import scipy.stats as sts\n",
    "    llow,lhigh = np.log10((low,high))\n",
    "    rech = np.exp(sts.uniform.rvs(size=1,loc=llow,scale=lhigh-llow)[0])\n",
    "    return rech/(nrow*ncol)\n",
    "\n",
    "def add_recharge_cells(recharge_generator,const=1,*args):\n",
    "    if const==1:\n",
    "        rech_data = recharge_generator(*args)\n",
    "    else:\n",
    "        rech_data = {}\n",
    "        for i in range(nper):\n",
    "            rech_array = recharge_generator(*args)\n",
    "        rech_data[i] = rech_array\n",
    "    return rech_data\n",
    "\n",
    "def sample_dist(distclass,size,*args):\n",
    "    smp = distclass.rvs(*args,size=size)\n",
    "    if size==1:\n",
    "        smp=smp[-1]\n",
    "    return smp\n",
    "\n",
    "def write_sample(fname,varname,distclass,sample):\n",
    "    fout= open(fname,\"a\")\n",
    "    fout.write(varname + ',' + str(type(distclass)) + ',' + str(sample) + '\\n')\n",
    "    fout.close()\n",
    "    return\n",
    "\n",
    "def truncate_grf(grid,lith_props,hk_vals,log10trans=True,plotyn=False,saveyn=False):\n",
    "    grid_cutoffs = []\n",
    "    for q in np.cumsum(lith_props):\n",
    "        grid_cutoffs.append(np.quantile(grid,q))\n",
    "\n",
    "    if plotyn:\n",
    "        h = plt.hist(grid.flatten())\n",
    "        for cutoff in grid_cutoffs:\n",
    "            plt.vlines(cutoff,0,14000)\n",
    "        plt.show()\n",
    "\n",
    "    outgrid = np.ones(grid.shape,dtype=np.float32)\n",
    "    for i,cutoff in reversed(list(enumerate(grid_cutoffs))):\n",
    "        outgrid[np.where(grid<cutoff)] = hk_vals[i]\n",
    "\n",
    "    if plotyn:\n",
    "        f,axs = plt.subplots(2,1,sharex=True)\n",
    "        axs[0].imshow(grid[:,0,:])\n",
    "        axs[1].imshow(outgrid[:,0,:])\n",
    "        if saveyn:\n",
    "            plt.savefig(m.MC_file.parent.joinpath('Truncated_GRF.png').as_posix(),resolution=300)\n",
    "    if log10trans:\n",
    "        return np.power(10,outgrid)\n",
    "    else:\n",
    "        return outgrid\n",
    "\n",
    "def make_timestamp(YMD=True,HM=True):\n",
    "    import datetime\n",
    "    if YMD:\n",
    "        ymd = '%Y%m%d'\n",
    "    else:\n",
    "        ymd = ''\n",
    "    if HM:\n",
    "        hm = '%H%M'\n",
    "    else:\n",
    "        hm = ''\n",
    "    if YMD and HM:\n",
    "        sep = '_'\n",
    "    else:\n",
    "        sep = ''\n",
    "    return datetime.datetime.now().strftime('{}{}{}'.format(ymd,sep,hm))\n",
    "\n",
    "def pec_num(delv,delc,delr,al):\n",
    "    delL = (delv,delc,delr) #length in the lay,row,col directions\n",
    "    pec_num = [round(d/al,2) for d in delL]\n",
    "    for num,point  in zip(pec_num,('lay','row','col')):\n",
    "        print('Pe = {} in the {} direction'.format(num,point))\n",
    "    return pec_num\n",
    "\n",
    "#%%"
   ]
  },
  {
   "cell_type": "code",
   "execution_count": 3,
   "metadata": {},
   "outputs": [
    {
     "name": "stdout",
     "output_type": "stream",
     "text": [
      "CPU times: user 328 ms, sys: 51.1 ms, total: 379 ms\n",
      "Wall time: 379 ms\n"
     ]
    }
   ],
   "source": [
    "%%time\n",
    "nmgwmdir_cal_empty = nmgwmdir_cal.parent.joinpath('nmgwmdir_empty')\n",
    "\n",
    "m_nm= flopy.modflow.Modflow.load('nm_cali.nam',version='mf2k',verbose=False,check=False,model_ws=nmgwmdir_cal_empty.as_posix())\n",
    "# m = flopy.modflow.Modflow.load(nmgwmdir_uncal.joinpath('C1-12_copy.nam').as_posix(),version='mf2k',verbose=False,check=False,model_ws=outputdir.joinpath('C1').as_posix())\n",
    "m_nm.exe_name = config.mf2000exe\n",
    "if not m_nm.DIS.lenuni==2:\n",
    "    m_nm.DIS.delr *= .3048\n",
    "    m_nm.DIS.delc *= .3048\n",
    "    m_nm.DIS.top *= .3048\n",
    "    m_nm.DIS.botm *= .3048\n",
    "m_nm.DIS.lenuni = 2\n",
    "m_nm.DIS.itmuni=4\n",
    "m_nm.DIS.rotation=-13.5\n",
    "# m_nm.DIS.xul = xll + 18288.0*np.sin(13.5*180/np.pi) #upper left UTM Zone 10N\n",
    "# m_nm.DIS.yul = yll + 18288.0*np.cos(13.5*180/np.pi)  #upper left UTM Zone 10N\n",
    "m_nm.DIS.proj4_str = p.srs\n",
    "m_nm.modelgrid.set_coord_info(xoff=xll, yoff=yll, angrot=rotation, proj4=p.srs)#,epsg='nad83-utm-zone-10n')\n"
   ]
  },
  {
   "cell_type": "code",
   "execution_count": 4,
   "metadata": {},
   "outputs": [],
   "source": [
    "start_nm_yr = 1979\n",
    "start_nm_mo = 10\n",
    "start_nm_str = 'Oct 1979'\n",
    "end_nm_yr = 2011\n",
    "end_nm_mo = 9\n",
    "end_nm_str = 'Sep 2011'\n",
    "Lt_nm = ( (end_nm_yr + end_nm_mo/12)  - (start_nm_yr + start_nm_mo/12) )     *365\n",
    "start_nm_datetime='{}/1/{}'.format(start_nm_mo,start_nm_yr)\n",
    "\n",
    "\n",
    "\n",
    "start_m_yr = 1979\n",
    "start_m_mo = 10\n",
    "start_m_str = 'Oct 1979'\n",
    "end_m_yr = 2011\n",
    "end_m_mo = 9\n",
    "end_m_str = 'Sep 2011'\n",
    "Lt_m = ( (end_m_yr + end_m_mo/12)  - (start_m_yr + start_m_mo/12) )     *365\n",
    "start_m_datetime='{}/1/{}'.format(start_m_mo,start_m_yr)\n"
   ]
  },
  {
   "cell_type": "code",
   "execution_count": null,
   "metadata": {},
   "outputs": [],
   "source": []
  },
  {
   "cell_type": "code",
   "execution_count": 5,
   "metadata": {},
   "outputs": [
    {
     "name": "stdout",
     "output_type": "stream",
     "text": [
      "Model setup: \n",
      "nlay: 20\n",
      "nrow: 27\n",
      "ncol: 345\n",
      "Total cells: 186300\n",
      "Total time: 11649.583333333361 days\n",
      "nper: 63\n",
      "\n",
      "test_simpleSWI.nam\n",
      "adding Package:  DIS\n",
      "xll:597733.4764816075; yll:4067262.41765696; rotation:-13.5; proj4_str:epsg:26910; units:undefined; lenuni:0\n"
     ]
    }
   ],
   "source": [
    "#Name model\n",
    "modelname = 'test_simpleSWI'\n",
    "model_ws = workdir.joinpath(\"test_simpleSWI\")\n",
    "#Name model\n",
    "sw_exe = config.swexe #set the exe path for seawat\n",
    "\n",
    "#Model discretization\n",
    "Lz = 150.\n",
    "\n",
    "nrow,ncol,nlay,nper = m_nm.nrow_ncol_nlay_nper\n",
    "\n",
    "# rows = np.arange(100,102)\n",
    "rows_nm = np.arange(m_nm.nrow-114,   m_nm.nrow-74)\n",
    "rows_sv = np.arange(m_nm.nrow-159,   m_nm.nrow-132)\n",
    "rows = rows_sv\n",
    "\n",
    "# rows = np.arange(160,165)\n",
    "# rows = np.arange(nrow)\n",
    "\n",
    "cols = np.arange(ncol)\n",
    "nrow =len(rows)\n",
    "ncol = len(cols)\n",
    "nlay=20\n",
    "\n",
    "\n",
    "henry_top = 2\n",
    "ocean_elev = 0\n",
    "delv_first = 4\n",
    "botm_first = henry_top-delv_first\n",
    "\n",
    "\n",
    "delv = (Lz-delv_first) / (nlay-1)\n",
    "delr = m_nm.dis.delr.array[0]\n",
    "delc = m_nm.dis.delc.array[0]\n",
    "\n",
    "henry_botm = np.hstack(([botm_first],np.linspace(botm_first-delv,henry_top-Lz,nlay-1)))\n",
    "delv_vec = np.hstack((delv_first,np.repeat(delv,nlay-1)))\n",
    "delv_weight = [x/np.sum(delv_vec) for x in delv_vec]\n",
    "\n",
    "\n",
    "topo_grid = np.load(GISdir.joinpath('topo_grid.npy'))\n",
    "henry_top = topo_grid[(slice(rows[0],rows[-1]+1),slice(cols[0],cols[-1]+1))]\n",
    "# henry_top = np.zeros((nrow,ncol))\n",
    "\n",
    "\n",
    "\n",
    "# beachslope = .05\n",
    "# ocean_col = [np.floor(ncol-1).astype('int'),ncol-1] #Manually done to make sure it's in the right place rn\n",
    "# ocean_col = [np.floor(ncol/2).astype('int'),ncol-1] #Manually done to make sure it's in the right place rn\n",
    "\n",
    "# inland_elev = beachslope*ocean_col[0]*delr\n",
    "# offshore_elev = -beachslope*(ocean_col[1]-ocean_col[0])*delr\n",
    "\n",
    "\n",
    "#Period data\n",
    "# nyrs= 2\n",
    "# Lt = 365*nyrs #Length of time in days\n",
    "\n",
    "perlen = list(np.repeat(365/2,int(Lt_m/(365/2))))\n",
    "nper = len(perlen)\n",
    "nstp = np.ones_like(perlen,dtype=np.int)\n",
    "\n",
    "# nstp = m_nm.dis.nstp.array\n",
    "# perlen = m_nm.dis.perlen.array\n",
    "# nper = m_nm.nper\n",
    "\n",
    "\n",
    "\n",
    "\n",
    "\n",
    "steady = [False for x in range(len(perlen))] #Never steady\n",
    "itmuni = 4 #time unit 4= days\n",
    "lenuni = 2 #length unit 2 = meter\n",
    "tsmult = 1.1\n",
    "ssm_data = None\n",
    "verbose = True\n",
    "\n",
    "print('Model setup: \\n'\n",
    "      'nlay: {}\\n'\n",
    "      'nrow: {}\\n'\n",
    "      'ncol: {}\\n'\n",
    "      'Total cells: {}\\n'\n",
    "      'Total time: {} days\\n'\n",
    "      'nper: {}\\n'.format(nlay,nrow,ncol,nlay*nrow*ncol,Lt_m,nper))\n",
    "# In[4]:\n",
    "\n",
    "#Create basic model instance and dis pacakge\n",
    "m = flopy.seawat.Seawat(modelname, exe_name=sw_exe, model_ws=model_ws.as_posix(),verbose=verbose)\n",
    "# SGD.ModelSGD.Seawat2SGD(m)  #convert to subclass ModelSGD\n",
    "print(m.namefile)\n",
    "\n",
    "# Add DIS package to the MODFLOW model\n",
    "dis = flopy.modflow.ModflowDis(m, nlay, nrow, ncol, nper=nper, delr=delr,\n",
    "                               delc=delc,\n",
    "                               laycbd=0, top=henry_top,\n",
    "                               botm=henry_botm, perlen=perlen, nstp=nstp,\n",
    "                               steady=steady,itmuni=itmuni,lenuni=lenuni,\n",
    "                               tsmult=tsmult,\n",
    "                               start_datetime=start_m_datetime)\n",
    "\n",
    "# xll=595855\n",
    "# yll = 4059438\n",
    "# rotation=-13.5\n",
    "# p = Proj(proj='utm',zone='10n',ellps='WGS84',units='meters', preserve_units=False)\n",
    "\n",
    "m.DIS.lenuni = 2\n",
    "m.DIS.itmuni=4\n",
    "m.DIS.rotation=-13.5\n",
    "# m.DIS.xul = xll + 18288.0*np.sin(13.5*180/np.pi) #upper left UTM Zone 10N\n",
    "# m.DIS.yul = yll + 18288.0*np.cos(13.5*180/np.pi)  #upper left UTM Zone 10N\n",
    "m.DIS.proj4_str = p.srs\n",
    "xll_m,yll_m = m_nm.modelgrid.xvertices[rows[-1]+1,0],m_nm.modelgrid.yvertices[rows[-1]+1,0]\n",
    "\n",
    "\n",
    "m.modelgrid.set_coord_info(xoff=xll_m, yoff=yll_m, angrot=rotation,epsg=26910)# proj4=p.srs)#,epsg='nad83-utm-zone-10n')\n",
    "print(m.modelgrid)\n",
    "\n"
   ]
  },
  {
   "cell_type": "code",
   "execution_count": 6,
   "metadata": {},
   "outputs": [],
   "source": [
    "m_empty = flopy.modflow.Modflow('m_empty', model_ws=model_ws.joinpath('m_empty').as_posix())\n",
    "\n",
    "\n",
    "flopy.modflow.ModflowDis(m_empty, nlay, nrow, ncol, nper=nper, delr=delr,\n",
    "                               delc=delc,\n",
    "                               laycbd=0, top=henry_top,\n",
    "                               botm=henry_botm, perlen=perlen, nstp=nstp,\n",
    "                               steady=steady,itmuni=itmuni,lenuni=lenuni,\n",
    "                               tsmult=tsmult,start_datetime=start_m_datetime)\n",
    "\n",
    "m_empty.DIS.lenuni = 2\n",
    "m_empty.DIS.itmuni=4\n",
    "m_empty.DIS.rotation=-13.5\n",
    "# m_empty.DIS.xul = xll + 18288.0*np.sin(13.5*180/np.pi) #upper left UTM Zone 10N\n",
    "# m_empty.DIS.yul = yll + 18288.0*np.cos(13.5*180/np.pi)  #upper left UTM Zone 10N\n",
    "m_empty.DIS.proj4_str = p.srs\n",
    "m_empty.modelgrid.set_coord_info(xoff=xll_m, yoff=yll_m, angrot=rotation, proj4=p.srs)#,epsg='nad83-utm-zone-10n')\n"
   ]
  },
  {
   "cell_type": "markdown",
   "metadata": {},
   "source": [
    "### Gridgen make grid"
   ]
  },
  {
   "cell_type": "raw",
   "metadata": {
    "scrolled": true
   },
   "source": [
    "%%time\n",
    "gridgen_ws = model_ws.joinpath('gridgen')\n",
    "if not gridgen_ws.exists():\n",
    "    gridgen_ws.mkdir()\n",
    "g = Gridgen(m_empty.dis, model_ws=gridgen_ws.as_posix(),exe_name=config.gridgenexe,surface_interpolation='replicate')\n",
    "g.build(verbose=False)"
   ]
  },
  {
   "cell_type": "markdown",
   "metadata": {},
   "source": [
    "### Import AEM data"
   ]
  },
  {
   "cell_type": "code",
   "execution_count": 7,
   "metadata": {},
   "outputs": [],
   "source": [
    "df_1719 = pd.read_pickle(datadir.joinpath('AEM','processed_df_1719.pkl'))\n",
    "df = df_1719.loc[df_1719.skytem_type==304,:]\n",
    "\n",
    "\n",
    "ch1_cols = [c for c in df.columns if c.startswith('DBDT_Ch1')]\n",
    "ch2_cols = [c for c in df.columns if c.startswith('DBDT_Ch2')]\n",
    "\n",
    "\n",
    "\n",
    "\n",
    "\n",
    "\n",
    "#Remove soundings with few time gates\n",
    "thresh = 15\n",
    "(df.loc[df.CHANNEL_NO==1,ch1_cols]==9999.).sum(axis=1).hist()\n",
    "plt.title('Distribution time gates')\n",
    "plt.xlabel('No. invalid time gates')\n",
    "plt.ylabel('No. soundings')\n",
    "ylims=plt.ylim()\n",
    "plt.vlines(thresh,0,ylims[1],label='threshold')\n",
    "plt.ylim(ylims)\n",
    "plt.legend()\n",
    "\n",
    "rm_mask = (df.loc[df.CHANNEL_NO==1,ch1_cols]==9999.).sum(axis=1) > thresh \n",
    "remove_inds = rm_mask[rm_mask==True].index\n",
    "df = df.drop(index=np.r_[remove_inds,remove_inds+1])\n",
    "\n",
    "\n",
    "\n",
    "\n",
    "#Remove soundings with large jumps\n",
    "ch1X = df.UTMX.values[::2]\n",
    "ch2X =  df.UTMX.values[1::2]\n",
    "ch1Y = df.UTMY.values[::2]\n",
    "ch2Y =  df.UTMY.values[1::2]\n",
    "diff = np.sqrt( (ch1X - ch2X)**2 + (ch1Y - ch2Y)**2)\n",
    "large_jump = diff > np.std(diff)\n",
    "large_jump_ind = df.UTMX[::2][large_jump].index.values\n",
    "df = df.drop(index=np.r_[large_jump_ind,large_jump_ind+1])\n"
   ]
  },
  {
   "cell_type": "code",
   "execution_count": 8,
   "metadata": {},
   "outputs": [
    {
     "data": {
      "image/png": "[encoded data removed]",
      "text/plain": [
       "<Figure size 432x288 with 1 Axes>"
      ]
     },
     "metadata": {
      "needs_background": "light"
     },
     "output_type": "display_data"
    }
   ],
   "source": [
    "def utmrotate(x,y,x0=595855,y0=4059438,rotation=13.5,local=False):\n",
    "    rotation = rotation*np.pi/180\n",
    "    if local:\n",
    "        orig_x,orig_y = (0,0)\n",
    "    else:\n",
    "        orig_x,orig_y = (x0,y0)\n",
    "        \n",
    "    x_rot = np.cos(rotation)*(x-x0) - np.sin(rotation)*(y-y0) + orig_x\n",
    "    y_rot = np.sin(rotation)*(x-x0) + np.cos(rotation)*(y-y0) + orig_y\n",
    "    return x_rot,y_rot  \n",
    "\n",
    "#xll,yll for local grid\n",
    "xmll,ymll = m_empty.modelgrid.xvertices[-1,0],m_empty.modelgrid.yvertices[-1,0]\n",
    "xmll_rot,ymll_rot = utmrotate(xmll,ymll,x0=xll,y0=yll)\n",
    "\n",
    "def global_to_local(x_glob,y_glob,rotx0=xll,roty0=yll,x0_local=xmll_rot,y0_local=ymll_rot):\n",
    "    x_temp,y_temp = utmrotate(x_glob,y_glob,local=False,x0=rotx0,y0=roty0)\n",
    "    x_temp -= x0_local\n",
    "    y_temp -= y0_local\n",
    "    return np.stack((x_temp,y_temp),axis=1)"
   ]
  },
  {
   "cell_type": "markdown",
   "metadata": {},
   "source": [
    "#### Get timegates within boundary"
   ]
  },
  {
   "cell_type": "code",
   "execution_count": 9,
   "metadata": {},
   "outputs": [
    {
     "data": {
      "text/plain": [
       "<matplotlib.collections.PathCollection at 0x7fe4dba8f880>"
      ]
     },
     "execution_count": 9,
     "metadata": {},
     "output_type": "execute_result"
    },
    {
     "data": {
      "image/png": "[encoded data removed]",
      "text/plain": [
       "<Figure size 432x288 with 1 Axes>"
      ]
     },
     "metadata": {
      "needs_background": "light"
     },
     "output_type": "display_data"
    }
   ],
   "source": [
    "#Remove values outside of the AEM_box\n",
    "\n",
    "from shapely.geometry import Point, Polygon\n",
    "iskip = 6\n",
    "coords = [(m_empty.modelgrid.xvertices[0,0], m_empty.modelgrid.yvertices[0,0]),\n",
    "          (m_empty.modelgrid.xvertices[-1,0], m_empty.modelgrid.yvertices[-1,0]),\n",
    "          (m_empty.modelgrid.xvertices[-1,-1], m_empty.modelgrid.yvertices[-1,-1]),\n",
    "          (m_empty.modelgrid.xvertices[0,-1], m_empty.modelgrid.yvertices[0,-1])\n",
    "         ]\n",
    "model_poly = Polygon(coords)\n",
    "msk_AEM = np.zeros(len(df),dtype=np.bool)\n",
    "for i,(x,y) in enumerate(zip(df.UTMX.values,df.UTMY.values)):\n",
    "    msk_AEM[i]=Point(x,y).within(model_poly)\n",
    "msk = np.logical_and(df.CHANNEL_NO==1, msk_AEM)\n",
    "data_hm_all = df.loc[msk[msk].index+1,ch2_cols][::iskip]\n",
    "data_lm_all = df.loc[msk[msk].index,ch1_cols][::iskip]\n",
    "\n",
    "\n",
    "\n",
    "#plot\n",
    "plt.scatter(df.UTMX[msk[msk].index],df.UTMY[msk[msk].index],s=10)\n",
    "plt.scatter(df.UTMX[msk[msk].index+1],df.UTMY[msk[msk].index+1],s=2)"
   ]
  },
  {
   "cell_type": "code",
   "execution_count": 10,
   "metadata": {},
   "outputs": [
    {
     "name": "stdout",
     "output_type": "stream",
     "text": [
      "msk (8504,) \n",
      "xy (83, 2) \n",
      "Line (83, 1) \n",
      "dem (83,) \n",
      "height (83,) \n",
      "system (83,) \n",
      "rx_locations (83, 3) \n",
      "src_locations (83, 3) \n",
      "topo (83, 3) \n",
      "\n"
     ]
    }
   ],
   "source": [
    "\n",
    "#TAKE THE LOCATION OF CHANNEL 1 FOR EACH SOUNDING\n",
    "# msk = np.logical_and(df.CHANNEL_NO==1, df.LINE_NO == line)\n",
    "x_m_rot,y_m_rot = utmrotate(m_empty.modelgrid.xvertices.flatten(),m_empty.modelgrid.yvertices.flatten(),local=False)\n",
    "\n",
    "xy_global = df.loc[msk,['UTMX', 'UTMY']].values[::iskip]\n",
    "xy = global_to_local(xy_global[:,0],xy_global[:,1])\n",
    "\n",
    "Line = df.loc[msk,['LINE_NO']].values[::iskip]\n",
    "dem = df.loc[msk,'ELEVATION'].values[::iskip]\n",
    "height = df.loc[msk,'INVALT'].values[::iskip]\n",
    "# height = df.loc[msk,'TX_ALTITUDE'].values[:]\n",
    "system = df.loc[msk,'skytem_type'].values[::iskip]\n",
    "msk_312 = system==312\n",
    "rx_locations = np.c_[xy[:,:], height+dem+2.]\n",
    "src_locations = np.c_[xy[:,:], height+dem]\n",
    "topo = np.c_[xy[:,:], dem]\n",
    "n_sounding= xy.shape[0]\n",
    "\n",
    "dx,dy,dz = (m_empty.dis.delr.array[0],\n",
    "            m_empty.dis.delc.array[0],\n",
    "            m_empty.dis.botm[-1] - m_empty.dis.botm[-2])\n",
    "\n",
    "\n",
    "print ( 'msk',msk.shape,'\\n'\n",
    "'xy',xy.shape,'\\n'\n",
    "'Line',Line.shape,'\\n'\n",
    "'dem',dem.shape,'\\n'\n",
    "'height',height.shape,'\\n'\n",
    "'system',system.shape,'\\n'\n",
    "'rx_locations',rx_locations.shape,'\\n'\n",
    "'src_locations',src_locations.shape,'\\n'\n",
    "'topo',topo.shape,'\\n')\n",
    "#nodenumber in grid corresponding to AEM locations\n",
    "# nodenumber_AEM = g.intersect(list(xy_global),'point',0).nodenumber"
   ]
  },
  {
   "cell_type": "code",
   "execution_count": 11,
   "metadata": {},
   "outputs": [],
   "source": [
    "def intersect_swi_contour(aquifer=180,yr_ind=None):\n",
    "    if aquifer==180:\n",
    "        yr = yrs_180[yr_ind]\n",
    "        f = sharedir.joinpath(\"chloride_contours\",\"by_year_180\",\"swi_180_{}\".format(yr)).as_posix()\n",
    "    elif aquifer==400:\n",
    "        yr = yrs_400[yr_ind]\n",
    "        f = sharedir.joinpath(\"chloride_contours\",\"by_year_400\",\"swi_400_{}\".format(yr)).as_posix()\n",
    "    else:\n",
    "        raise('enter either 180 or 400')\n",
    "    int_obj = g.intersect(f,'polygon',layer=layer)\n",
    "    a = np.zeros((g.nodes), dtype=np.int)\n",
    "    a[int_obj.nodenumber] = 1\n",
    "    return a.reshape((nlay,nrow,ncol),order='C')\n"
   ]
  },
  {
   "cell_type": "code",
   "execution_count": 12,
   "metadata": {},
   "outputs": [
    {
     "data": {
      "text/plain": [
       "<matplotlib.legend.Legend at 0x7fe4dbdc41f0>"
      ]
     },
     "execution_count": 12,
     "metadata": {},
     "output_type": "execute_result"
    },
    {
     "data": {
      "image/png": "[encoded data removed]",
      "text/plain": [
       "<Figure size 288x360 with 1 Axes>"
      ]
     },
     "metadata": {
      "needs_background": "light"
     },
     "output_type": "display_data"
    }
   ],
   "source": [
    "import cartopy\n",
    "from matplotlib.transforms import offset_copy\n",
    "import cartopy.crs as ccrs\n",
    "import cartopy.io.img_tiles as cimgt\n",
    "\n",
    "transform = ccrs.UTM(10)\n",
    "\n",
    "# Create a Stamen terrain background instance.\n",
    "stamen_terrain = cimgt.Stamen('terrain-background')\n",
    "\n",
    "fig = plt.figure(figsize=(4,5))\n",
    "ax = fig.add_subplot(1, 1, 1, projection=stamen_terrain.crs)\n",
    "\n",
    "ax.add_image(stamen_terrain, 11)\n",
    "\n",
    "m_empty.modelgrid.plot(ax=ax,transform=transform,label='SEAWAT model grid',alpha=.5)\n",
    "\n",
    "ax.set_extent([596000., 620000.,4052000., 4075962.], crs=transform)\n",
    "\n",
    "plt.scatter(df.loc[msk,'UTMX'],df.loc[msk,'UTMY'],c='r',s=.5,transform=transform,label='valid AEM data',zorder=3)\n",
    "plt.scatter(df.loc[~msk,'UTMX'],df.loc[~msk,'UTMY'],c='k',s=.5,transform=transform,label='all AEM data',zorder=2)\n",
    "\n",
    "\n",
    "# shp180 =  flopy.plot.plot_shapefile(f_shp_400,ax=ax,transform=transform,                        \n",
    "#                           facecolor='none',edgecolor='r',label='Cl. contour 180-FA')\n",
    "# shp400 =flopy.plot.plot_shapefile(f_shp_180,ax=ax,transform=transform,                        \n",
    "#                           facecolor='none',edgecolor='orange',label='Cl. contour 400-FA')\n",
    "plt.legend()\n",
    "# plt.savefig(figdir.joinpath('AEM_valid_fieldsite_SV.png'),dpi=300,bbox_inches='tight')"
   ]
  },
  {
   "cell_type": "markdown",
   "metadata": {},
   "source": [
    "#### Make layer_mapping_ind"
   ]
  },
  {
   "cell_type": "code",
   "execution_count": 13,
   "metadata": {},
   "outputs": [],
   "source": [
    "from scipy.interpolate import griddata\n",
    "\n",
    "def make_surf(grid_old,m_old,m_new,method='nearest'):\n",
    "    points = np.stack((m_old.modelgrid.xcellcenters.flatten(),m_old.modelgrid.ycellcenters.flatten())).T\n",
    "    values = grid_old.flatten()\n",
    "    grid_x=  m_new.modelgrid.xcellcenters\n",
    "    grid_y=  m_new.modelgrid.ycellcenters\n",
    "    return griddata(points, values, (grid_x, grid_y), method=method)\n",
    "\n",
    "botm_orig= m_nm.DIS.botm.array[:6]\n",
    "layer_mapping = np.zeros((7,nlay,nrow,ncol),dtype=bool)\n",
    "for lay in range(7):\n",
    "    if lay==0:\n",
    "        ind_inlay = np.zeros((nlay,nrow,ncol),dtype=np.bool)\n",
    "        ind_inlay[0,:,:] = True\n",
    "    elif lay==6:\n",
    "#         botm_orig_lay = interp_surf2newgrid(botm_orig[lay-1])\n",
    "        botm_orig_lay = make_surf(botm_orig[-1],m_nm,m_empty)\n",
    "        ind_inlay = m_empty.dis.botm.array<botm_orig_lay\n",
    "    else:\n",
    "        botm_orig_lay = make_surf(botm_orig[lay],m_nm,m_empty)\n",
    "        top_orig_lay = make_surf(botm_orig[lay-1],m_nm,m_empty)\n",
    "        ind_inlay =np.logical_and(m_empty.dis.botm.array>=botm_orig_lay,\n",
    "                                  m_empty.dis.botm.array<top_orig_lay)\n",
    "    layer_mapping[lay,:,:,:] = ind_inlay\n",
    "    \n",
    "layer_mapping_ind = np.zeros((nlay,nrow,ncol),dtype=int)\n",
    "for lay in range(7):\n",
    "    if lay==0:\n",
    "        val=-50\n",
    "    if lay==6:\n",
    "        val=50\n",
    "    else:\n",
    "        val=lay\n",
    "    layer_mapping_ind+=layer_mapping[lay].astype(int)*val\n",
    "    \n",
    "layer_mapping_ind[layer_mapping_ind<=0]= 0\n",
    "layer_mapping_ind[layer_mapping_ind>=6]=6\n",
    "\n",
    "\n",
    "layer_mapping_ind_full = np.load(datadir.joinpath('GIS','layer_mapping_ind_full.npy'))\n"
   ]
  },
  {
   "cell_type": "markdown",
   "metadata": {},
   "source": [
    "### Make mesh"
   ]
  },
  {
   "cell_type": "code",
   "execution_count": 14,
   "metadata": {},
   "outputs": [],
   "source": [
    "nlay,nrow,ncol = (m_empty.nlay,\n",
    "                  m_empty.nrow,\n",
    "                  m_empty.ncol)\n",
    "dx,dy,dz = (m_empty.dis.delr.array[0],\n",
    "            m_empty.dis.delc.array[0],\n",
    "             m_empty.dis.botm[-2]-m_empty.dis.botm[-1])\n",
    "Lx,Ly,Lz = (dx*ncol,\n",
    "            dy*nrow,\n",
    "            dz*nlay)\n",
    "\n",
    "\n",
    "n_pad_ocean = 0\n",
    "n_pad_inland = 100\n",
    "n_pad_row = 10\n",
    "\n",
    "hx = np.ones(ncol+n_pad_ocean+n_pad_inland) * dx\n",
    "hy = np.ones(m_nm.nrow) * dy\n",
    "\n",
    "hz = np.ones(71)*dz\n",
    "\n",
    "# x0 = (-n_pad_inland*dx +x_m_rot.min(),-n_pad_row*dy + y_m_rot.min(),-386.21)\n",
    "x0 = (-n_pad_ocean*dx,-n_pad_row*dy,-386.21)\n",
    "\n",
    "mesh_large = Mesh.TensorMesh([hx, hy, hz],x0=x0)\n",
    "\n",
    "\n",
    "hx = np.ones(ncol+n_pad_ocean+n_pad_inland) * dx\n",
    "hy = np.ones(nrow + 2*n_pad_row) * dy\n",
    "hz = np.ones(71)*dz\n",
    "\n",
    "mesh = Mesh.TensorMesh([hx, hy, hz],x0=x0)\n",
    "\n"
   ]
  },
  {
   "cell_type": "markdown",
   "metadata": {},
   "source": [
    "#### Find active indices"
   ]
  },
  {
   "cell_type": "raw",
   "metadata": {
    "scrolled": true
   },
   "source": [
    "from SimPEG.Utils import plot2Ddata, surface2ind_topo\n",
    "x_nm,y_nm = utmrotate(m_nm.modelgrid.xcellcenters.flatten(),\n",
    "                              m_nm.modelgrid.ycellcenters.flatten(),\n",
    "                             x0=xll,y0=yll)\n",
    "x_nm -= xmll_rot\n",
    "y_nm-= ymll_rot\n",
    "\n",
    "sealevel_X,sealevel_Y = np.meshgrid(mesh.vectorCCx,mesh.vectorCCy)\n",
    "sealevel_xyz = np.stack((sealevel_X.flatten(),sealevel_Y.flatten(),np.zeros(sealevel_X.size)),axis=1)\n",
    "topo_xyz =np.stack((x_nm.flatten(),\n",
    "                    y_nm.flatten(),\n",
    "                    topo_grid.flatten()),axis=1)\n",
    "\n",
    "actv = surface2ind_topo(mesh,topo_xyz) #True if below ground surface \n",
    "isabove_sealevel = ~surface2ind_topo(mesh,sealevel_xyz) #True if below sea level\n",
    "\n",
    "\n",
    "mesh.plotSlice(isabove_sealevel&actv ,normal='Y',ind=n_pad_row,grid=False)"
   ]
  },
  {
   "cell_type": "markdown",
   "metadata": {},
   "source": [
    "#### Get indices for inserted MODFLOW grids"
   ]
  },
  {
   "cell_type": "raw",
   "metadata": {},
   "source": [
    "ind_bot_lay_0 = np.argmin(np.abs(mesh.vectorNz- -2 ))\n",
    "ind_bot_lay_19 = ind_bot_lay_0 - 19\n",
    "\n",
    "modflow_insert = np.zeros(mesh.vnC,dtype=np.bool)\n",
    "modflow_insert[n_pad_ocean:mesh.vnC[0]-n_pad_inland,\n",
    "               n_pad_row:mesh.vnC[1]-n_pad_row,\n",
    "               ind_bot_lay_19:ind_bot_lay_0] = True\n",
    "modflow_insert = modflow_insert.flatten(order='F')\n",
    "\n",
    "\n",
    "ind_bot_lay_0_lf = np.argmin(np.abs(mesh.vectorNz[::-1]- -2))\n",
    "ind_bot_lay_19_lf = np.argmin(np.abs(mesh.vectorNz[::-1]- -148))\n",
    "\n",
    "\n",
    "\n",
    "\n",
    "\n",
    "\n",
    "\n",
    "#Insert a grid from seawat into simpeg mesh (here layer_mapping_ind)\n",
    "#If simpeg grid is in 1-D form\n",
    "z_mesh = np.zeros(mesh.nC)\n",
    "z_mesh[modflow_insert] = np.transpose(layer_mapping_ind[1:,:,:],(2,1,0)).flatten(order='F')\n",
    "\n",
    "\n",
    "#If simpeg grid is in 3-D form\n",
    "z_mesh = np.zeros(mesh.vnC)\n",
    "z_mesh[modflow_insert.reshape(mesh.vnC,order='F')] = np.transpose(layer_mapping_ind[1:,:,:],(2,1,0)).flatten(order='C')\n",
    "\n",
    "# mesh.plotSlice(modflow_insert,normal='Y',ind=n_pad_row,grid=False)"
   ]
  },
  {
   "cell_type": "markdown",
   "metadata": {},
   "source": [
    "##### 1) Merge MODFLOW grid and LF grid\n",
    "\n",
    "##### 2) Insert into mesh\n",
    "\n",
    "##### 3) Add above-ground resistivity values"
   ]
  },
  {
   "cell_type": "markdown",
   "metadata": {},
   "source": [
    "#### Find ocean line"
   ]
  },
  {
   "cell_type": "code",
   "execution_count": 15,
   "metadata": {},
   "outputs": [],
   "source": [
    "def find_ocean(m,layer_mapping_ind):\n",
    "    ocean_line = []\n",
    "\n",
    "    for lay in range(m.dis.nlay):\n",
    "        for row in range(m.dis.nrow):\n",
    "            thislay = (lay,row,np.where(layer_mapping_ind[lay,row,:]!=0)[0][0])\n",
    "            ocean_line.append(thislay)\n",
    "            if lay==m.dis.nlay-1:\n",
    "                pass\n",
    "            else:\n",
    "                nextlay = (lay+1,row,np.where(layer_mapping_ind[lay+1,row,:]!=0)[0][0])\n",
    "                for col in np.arange(thislay[2],nextlay[2],-1):\n",
    "                    ocean_line.append((lay,row,col))\n",
    "    ocean_line = np.array(ocean_line).T\n",
    "\n",
    "\n",
    "    ocean_grid = np.zeros((m.nlay,m.nrow,m.ncol),dtype=np.bool)\n",
    "    ocean_grid[tuple(ocean_line)]=True\n",
    "    ocean_grid[m.modelgrid.zvertices[1:,:,:]>ocean_elev]=False\n",
    "    return ocean_line,ocean_grid\n",
    "\n",
    "ocean_line,ocean_grid = find_ocean(m_nm,layer_mapping_ind_full)\n",
    "\n"
   ]
  },
  {
   "cell_type": "markdown",
   "metadata": {},
   "source": [
    "### Get actv"
   ]
  },
  {
   "cell_type": "code",
   "execution_count": 16,
   "metadata": {},
   "outputs": [],
   "source": [
    "from SimPEG.Utils import plot2Ddata, surface2ind_topo\n",
    "x_nm,y_nm = utmrotate(m_nm.modelgrid.xcellcenters.flatten(),\n",
    "                              m_nm.modelgrid.ycellcenters.flatten(),\n",
    "                             x0=xll,y0=yll)\n",
    "x_nm -= xmll_rot\n",
    "y_nm-= ymll_rot\n",
    "\n",
    "sealevel_X,sealevel_Y = np.meshgrid(mesh.vectorCCx,mesh.vectorCCy)\n",
    "sealevel_xyz = np.stack((sealevel_X.flatten(),sealevel_Y.flatten(),np.zeros(sealevel_X.size)),axis=1)\n",
    "topo_xyz =np.stack((x_nm.flatten(),\n",
    "                    y_nm.flatten(),\n",
    "                    topo_grid.flatten()),axis=1)\n",
    "\n",
    "actv = surface2ind_topo(mesh,topo_xyz) #True if below ground surface \n",
    "isabove_sealevel = ~surface2ind_topo(mesh,sealevel_xyz) #True if below sea level\n"
   ]
  },
  {
   "cell_type": "markdown",
   "metadata": {},
   "source": [
    "#### Output grid from SEAWAT"
   ]
  },
  {
   "cell_type": "code",
   "execution_count": 17,
   "metadata": {},
   "outputs": [],
   "source": [
    "mps180 = np.load(MPSdir.joinpath('reals','mps180_16node.npy'))\n",
    "# mps180[mps180==1]=hkSand\n",
    "# mps180[mps180==0]=hkClay\n",
    "\n",
    "sigma_bulk = np.ones_like(mps180,dtype=np.float)\n",
    "sigma_bulk[mps180==0]=1/10\n",
    "sigma_bulk[mps180==1]=1/100\n",
    "\n",
    "\n",
    "#Slice it\n",
    "# sigma_bulk = sigma_bulk[:,rows,:]\n",
    "sigma_bulk[np.isin(layer_mapping_ind_full,(2,4))] = 1/10"
   ]
  },
  {
   "cell_type": "markdown",
   "metadata": {},
   "source": [
    "#### AEM resistivity grid"
   ]
  },
  {
   "cell_type": "code",
   "execution_count": 18,
   "metadata": {},
   "outputs": [],
   "source": [
    "aem_rho_tmp = np.load(datadir.joinpath('AEM','resistivity','AEM_Modflowsize.npy'),allow_pickle=True)\n",
    "aem_msk = aem_rho_tmp =='OUT'\n",
    "aem_rho = np.zeros_like(aem_rho_tmp,dtype='float')\n",
    "aem_rho[~aem_msk] = aem_rho_tmp[~aem_msk]\n",
    "aem_rho[aem_msk] = np.nan\n",
    "aem_rho=aem_rho.reshape((52,m_nm.nrow,m_nm.ncol))[::-1,::-1,:]\n",
    "aem_rho = np.power(10,aem_rho)"
   ]
  },
  {
   "cell_type": "markdown",
   "metadata": {},
   "source": [
    "##### Merge grids"
   ]
  },
  {
   "cell_type": "code",
   "execution_count": 19,
   "metadata": {},
   "outputs": [],
   "source": [
    "rho_background=10.\n",
    "ind_bot_lay_0_lf = np.argmin(np.abs(mesh_large.vectorNz[::-1]- -2))\n",
    "ind_bot_lay_19_lf = np.argmin(np.abs(mesh_large.vectorNz[::-1]- -148))\n",
    "\n",
    "merged= aem_rho.copy()\n",
    "merged[np.isnan(aem_rho)]=rho_background\n",
    "\n",
    "#Insert modflow grid\n",
    "merged[ind_bot_lay_0_lf:ind_bot_lay_19_lf,rows,:] = 1/sigma_bulk[1:,rows,:]\n",
    "\n",
    "#Set ocean resistivity \n",
    "for lay in range(ocean_grid.shape[0]):\n",
    "    for row in range(ocean_grid.shape[1]):\n",
    "        col = int(np.argwhere(ocean_grid[lay,row,:])[0])\n",
    "        merged[ind_bot_lay_0_lf+lay-1,row,:col]=.2\n",
    "\n",
    "merged = merged[::-1,:,:]"
   ]
  },
  {
   "cell_type": "code",
   "execution_count": 20,
   "metadata": {},
   "outputs": [],
   "source": [
    "lf_insert = np.zeros(mesh_large.vnC,dtype=np.bool)\n",
    "lf_insert[n_pad_ocean:mesh_large.vnC[0]-n_pad_inland,\n",
    "               :,\n",
    "               -aem_rho.shape[0]:] = True\n"
   ]
  },
  {
   "cell_type": "code",
   "execution_count": 28,
   "metadata": {},
   "outputs": [
    {
     "data": {
      "image/png": "[encoded data removed]",
      "text/plain": [
       "<Figure size 432x288 with 4 Axes>"
      ]
     },
     "metadata": {
      "needs_background": "light"
     },
     "output_type": "display_data"
    }
   ],
   "source": [
    "rho_grid = np.ones(mesh_large.vnC) * rho_background\n",
    "rho_grid[lf_insert] = np.transpose(merged,(2,1,0)).flatten(order='C')\n",
    "\n",
    "rho_grid = rho_grid[:,np.arange(rows[0]-n_pad_row,rows[-1]+n_pad_row + 1),:]\n",
    "\n",
    "rho_grid[~(actv.reshape(mesh.vnC,order='F'))] = np.nan\n",
    "rho_grid = rho_grid.flatten(order='F')\n",
    "mesh.plot_3d_slicer(np.log10(rho_grid),xslice=10000,yslice=0,zslice=-50,pcolorOpts={'vmin':-.2,'vmax':2,'cmap':'jet_r'})\n",
    "\n"
   ]
  },
  {
   "cell_type": "raw",
   "metadata": {},
   "source": [
    "rho_grid = np.ones(mesh.vnC) * rho_background\n",
    "rho_grid[lf_insert] = np.transpose(merged,(2,1,0)).flatten(order='C')\n",
    "\n",
    "rho_grid[~(actv.reshape(mesh.vnC,order='F'))] = np.nan\n",
    "rho_grid = rho_grid.flatten(order='F')\n",
    "mesh.plot_3d_slicer(np.log10(rho_grid),xslice=10000,yslice=8750,zslice=-50,pcolorOpts={'vmin':-.2,'vmax':2,'cmap':'jet_r'})"
   ]
  },
  {
   "cell_type": "raw",
   "metadata": {},
   "source": [
    "\n",
    "#Row padding\n",
    "rho_transf = np.append(rho_transf,\n",
    "                       np.tile(rho_transf[:,np.newaxis,-1,:],(1,n_pad_row,1)),\n",
    "                       axis=1)\n",
    "\n",
    "rho_transf = np.append(np.tile(rho_transf[:,np.newaxis,0,:],(1,n_pad_row,1)),\n",
    "                       rho_transf,\n",
    "                       axis=1)\n",
    "\n",
    "#Inland padding\n",
    "rho_transf = np.append(rho_transf,\n",
    "                           rho_transf[:,:,-1].mean()*np.ones(\n",
    "                               (rho_transf.shape[0],rho_transf.shape[1],n_pad_inland)),axis=2)\n",
    "\n",
    "\n",
    "#Ocean padding\n",
    "rho_transf = np.append(rho_transf[:,:,0].min()*np.ones(\n",
    "                           (rho_transf.shape[0],rho_transf.shape[1],n_pad_ocean)),\n",
    "                       rho_transf,\n",
    "                       axis=2)\n",
    "\n",
    "rho_grid = np.ones(mesh.vnC)*rho_background\n",
    "rho_grid[:,:,ind_bot_lay_19:ind_bot_lay_0] = rho_transf[1:,:,:].transpose((2,1,0))[:,:,::-1]\n",
    "# np.transpose(rho_transf,(2,1,0))\n",
    "#First layer\n",
    "rho_grid[:,:,ind_bot_lay_0+1] = np.ones((mesh.vnC[0],mesh.vnC[1]))*1\n",
    "rho_grid[~(actv.reshape(mesh.vnC,order='F'))] = np.nan\n",
    "rho_grid = rho_grid.flatten(order='F')"
   ]
  },
  {
   "cell_type": "raw",
   "metadata": {},
   "source": [
    "aem_rho_tmp = np.load(datadir.joinpath('AEM','resistivity','AEM_Modflowsize.npy'),allow_pickle=True)\n",
    "aem_msk = aem_rho_tmp =='OUT'\n",
    "aem_rho = np.zeros_like(aem_rho_tmp,dtype='float')\n",
    "aem_rho[~aem_msk] = aem_rho_tmp[~aem_msk]\n",
    "aem_rho[aem_msk] = np.nan\n",
    "# aem_rho=aem_rho.reshape((52,m_nm.nrow,m_nm.ncol))[::-1,::-1,:][:,rows,:]\n",
    "aem_rho=aem_rho.reshape((52,m_nm.nrow,m_nm.ncol))[::-1,::-1,:][:,rows,:]\n",
    "\n",
    "\n",
    "\n",
    "aem_rho_tmp = np.power(10,aem_rho.copy())\n",
    "aem_rho_tmp[np.where(np.isnan(aem_rho_tmp))]=2\n",
    "aem_rho_insert = aem_rho_tmp[ind_bot_lay_0_lf:ind_bot_lay_19_lf,:,:][::-1,:,:]\n",
    "\n",
    "\n"
   ]
  },
  {
   "cell_type": "markdown",
   "metadata": {},
   "source": [
    "### Leapfrog AEM discretization:\n",
    "\n",
    "52 lay\n",
    "300 row\n",
    "345 col\n",
    "\n",
    "top of model = 159.36849121 <br>\n",
    "shared with SimPEG top of mesh <br>\n",
    "rows and lays need to be reversed to line up with modflow model"
   ]
  },
  {
   "cell_type": "raw",
   "metadata": {},
   "source": [
    "f,ax=plt.subplots(1,figsize=(5,6))\n",
    "\n",
    "xtemp,ytemp =utmrotate(df.UTMX,df.UTMY)\n",
    "xtemp -= xmll_rot\n",
    "ytemp-= ymll_rot\n",
    "\n",
    "plt.scatter(xtemp,ytemp,c='r',s=10,zorder=3,label='AEM data outside grid')\n",
    "q = mesh.plotSlice(modflow_insert.astype(int),ind=40,grid=True,ax=ax,clim=(0,1))#,pcolorOpts={'alpha':0})\n",
    "plt.scatter(xy[:,0],xy[:,1],c='k',s=30,zorder=4,label='AEM data in grid')\n",
    "\n",
    "plt.xlim(10000, 12000)\n",
    "plt.ylim(-1000,1000)\n",
    "plt.title('Zoom-in of local grid')\n",
    "ax.set_aspect(1)\n",
    "plt.legend()\n",
    "# plt.savefig(figdir.joinpath('Localgrid_AEMdata.png'),dpi=300,bbox_inches='tight')\n"
   ]
  },
  {
   "cell_type": "markdown",
   "metadata": {},
   "source": [
    "### Set up survey"
   ]
  },
  {
   "cell_type": "code",
   "execution_count": 22,
   "metadata": {},
   "outputs": [],
   "source": [
    "waveform_dir = datadir.joinpath('AEM','aem_waveform_marina')\n",
    "\n",
    "\n",
    "### 304 Waveform ###\n",
    "area_304 = 337.04\n",
    "unit_conversion = 1e-12\n",
    "\n",
    "i_start_hm = 10\n",
    "i_start_lm = 10\n",
    "\n",
    "i_end_hm = -1\n",
    "i_end_lm = -2\n",
    "\n",
    "sl_hm_304 = slice(i_start_hm,i_end_hm)\n",
    "sl_lm_304 = slice(i_start_lm,i_end_lm)\n",
    "\n",
    "waveform_hm_304 = np.loadtxt(waveform_dir.joinpath('hm_304.txt'))\n",
    "waveform_lm_304 = np.loadtxt(waveform_dir.joinpath('lm_304.txt'))\n",
    "time_input_currents_HM_304 = waveform_hm_304[:,0] \n",
    "input_currents_HM_304 = waveform_hm_304[:,1]\n",
    "time_input_currents_LM_304 = waveform_lm_304[:,0] \n",
    "input_currents_LM_304 = waveform_lm_304[:,1]\n",
    "\n",
    "time_gates = np.loadtxt(waveform_dir.joinpath('time_gates.txt'))\n",
    "GateTimeShift=-1.8E-06\n",
    "MeaTimeDelay=0.000E+00\n",
    "NoGates=28\n",
    "t0_lm_304 = waveform_lm_304[:,0].max()\n",
    "# times_LM_304 = (time_gates[:NoGates,0] + GateTimeShift + MeaTimeDelay)[i_start_lm:] - t0_lm_304\n",
    "times_LM_304 = (time_gates[:NoGates,0] + GateTimeShift + MeaTimeDelay)[sl_lm_304] - t0_lm_304\n",
    "\n",
    "GateTimeShift=-1.4E-06\n",
    "MeaTimeDelay=6.000E-05\n",
    "NoGates=37\n",
    "t0_hm_304 = waveform_hm_304[:,0].max()\n",
    "# times_HM_304 = (time_gates[:NoGates,0] + GateTimeShift + MeaTimeDelay)[i_start_hm:] - t0_hm_304    \n",
    "times_HM_304 = (time_gates[:NoGates,0] + GateTimeShift + MeaTimeDelay)[sl_hm_304] - t0_hm_304    "
   ]
  },
  {
   "cell_type": "raw",
   "metadata": {},
   "source": [
    "hm_times_TEM_304 = [5.93150e-05,6.08150e-05,6.28150e-05,6.48150e-05,6.68150e-05,6.88200e-05,7.08100e-05,\n",
    "                    7.33200e-05,7.68100e-05,8.13100e-05,8.68100e-05,9.38200e-05,1.02810e-04,1.14310e-04,\n",
    "                    1.28810e-04,1.46810e-04,1.69300e-04,1.97300e-04,2.32800e-04,2.78300e-04,3.35300e-04,\n",
    "                    4.07300e-04,4.98300e-04,6.12300e-04,7.56300e-04,9.37800e-04,1.16660e-03,1.45460e-03,\n",
    "                    1.81860e-03,2.27760e-03,2.85560e-03,3.57460e-03,4.45460e-03,5.53160e-03,6.84960e-03,\n",
    "                    8.46360e-03,1.04386e-02]\n",
    "\n",
    "lm_times_TEM_304 = [1.00000e-07,4.15000e-07,2.41500e-06,4.41500e-06,6.41500e-06,8.42000e-06,1.04100e-05,\n",
    "                    1.29200e-05,1.64100e-05,2.09100e-05,2.64100e-05,3.34200e-05,4.24100e-05,5.39100e-05,\n",
    "                    6.84100e-05,8.64100e-05,1.08900e-04,1.36900e-04,1.72400e-04,2.17900e-04,2.74900e-04,\n",
    "                    3.46900e-04,4.37900e-04,5.51900e-04,6.95900e-04,8.77400e-04,1.10620e-03,1.39420e-03]"
   ]
  },
  {
   "cell_type": "code",
   "execution_count": 23,
   "metadata": {},
   "outputs": [
    {
     "data": {
      "text/plain": [
       "Text(0.5, 1.0, 'High moment')"
      ]
     },
     "execution_count": 23,
     "metadata": {},
     "output_type": "execute_result"
    },
    {
     "data": {
      "image/png": "[encoded data removed]",
      "text/plain": [
       "<Figure size 432x288 with 1 Axes>"
      ]
     },
     "metadata": {
      "needs_background": "light"
     },
     "output_type": "display_data"
    },
    {
     "data": {
      "image/png": "[encoded data removed]",
      "text/plain": [
       "<Figure size 432x288 with 1 Axes>"
      ]
     },
     "metadata": {
      "needs_background": "light"
     },
     "output_type": "display_data"
    }
   ],
   "source": [
    "plt.plot(time_input_currents_LM_304, input_currents_LM_304,label='304')\n",
    "plt.title('Low moment')\n",
    "plt.figure()\n",
    "plt.plot(time_input_currents_HM_304, input_currents_HM_304,label='304')\n",
    "plt.title('High moment')"
   ]
  },
  {
   "cell_type": "code",
   "execution_count": 24,
   "metadata": {},
   "outputs": [
    {
     "name": "stdout",
     "output_type": "stream",
     "text": [
      ">> Set parameters\n"
     ]
    }
   ],
   "source": [
    "survey = get_skytem_survey(\n",
    "    topo,\n",
    "    src_locations,\n",
    "    rx_locations,\n",
    "    times_HM_304,\n",
    "    time_input_currents_HM_304,\n",
    "    input_currents_HM_304,\n",
    "    base_frequency=25.,\n",
    "    src_type=\"VMD\",\n",
    "    rx_type=\"dBzdt\",    \n",
    "    moment_type=\"dual\",        \n",
    "    time_dual_moment=times_LM_304,\n",
    "    time_input_currents_dual_moment=time_input_currents_LM_304,\n",
    "    input_currents_dual_moment=input_currents_LM_304,\n",
    "    base_frequency_dual_moment=210.,\n",
    "    wave_type=\"general\",    \n",
    "    field_type=\"secondary\",    \n",
    ")"
   ]
  },
  {
   "cell_type": "markdown",
   "metadata": {},
   "source": [
    "### Create model"
   ]
  },
  {
   "cell_type": "raw",
   "metadata": {},
   "source": [
    "def find_ocean(m,layer_mapping_ind):\n",
    "    ocean_line = []\n",
    "\n",
    "    for lay in range(m.dis.nlay):\n",
    "        for row in range(m.dis.nrow):\n",
    "            thislay = (lay,row,np.where(layer_mapping_ind[lay,row,:]!=0)[0][0])\n",
    "            ocean_line.append(thislay)\n",
    "            if lay==m.dis.nlay-1:\n",
    "                pass\n",
    "            else:\n",
    "                nextlay = (lay+1,row,np.where(layer_mapping_ind[lay+1,row,:]!=0)[0][0])\n",
    "                for col in np.arange(thislay[2],nextlay[2],-1):\n",
    "                    ocean_line.append((lay,row,col))\n",
    "    ocean_line = np.array(ocean_line).T\n",
    "\n",
    "\n",
    "    ocean_grid = np.zeros((nlay,nrow,ncol),dtype=np.bool)\n",
    "    ocean_grid[tuple(ocean_line)]=True\n",
    "    ocean_grid[m.modelgrid.zvertices[1:,:,:]>ocean_elev]=False\n",
    "    return ocean_line,ocean_grid\n",
    "\n",
    "ocean_line,ocean_grid = find_ocean(m_empty,layer_mapping_ind)"
   ]
  },
  {
   "cell_type": "raw",
   "metadata": {},
   "source": [
    "hkSand = 100\n",
    "hkClay = 1\n",
    "mps180 = np.load(MPSdir.joinpath('reals','mps180_16node.npy'))\n",
    "# mps180[mps180==1]=hkSand\n",
    "# mps180[mps180==0]=hkClay\n",
    "\n",
    "sigma_bulk = np.zeros_like(mps180,dtype=np.float)\n",
    "sigma_bulk[mps180==0]=.1\n",
    "sigma_bulk[mps180==1]=.01\n",
    "\n",
    "\n",
    "#Slice it\n",
    "sigma_bulk = sigma_bulk[:,rows,:]\n",
    "\n",
    "#Set ocean resistivity \n",
    "for lay in range(sigma_bulk.shape[0]):\n",
    "    for row in range(sigma_bulk.shape[1]):\n",
    "        col = int(np.argwhere(ocean_grid[lay,row,:])[0])\n",
    "        sigma_bulk[lay,row,:col]=1/0.2\n",
    "\n"
   ]
  },
  {
   "cell_type": "raw",
   "metadata": {},
   "source": [
    "rho_transf = 1/sigma_bulk\n",
    "rho_background = 20.\n",
    "\n",
    "\n",
    "#Row padding\n",
    "rho_transf = np.append(rho_transf,\n",
    "                       np.tile(rho_transf[:,np.newaxis,-1,:],(1,n_pad_row,1)),\n",
    "                       axis=1)\n",
    "\n",
    "rho_transf = np.append(np.tile(rho_transf[:,np.newaxis,0,:],(1,n_pad_row,1)),\n",
    "                       rho_transf,\n",
    "                       axis=1)\n",
    "\n",
    "#Inland padding\n",
    "rho_transf = np.append(rho_transf,\n",
    "                           rho_transf[:,:,-1].mean()*np.ones(\n",
    "                               (rho_transf.shape[0],rho_transf.shape[1],n_pad_inland)),axis=2)\n",
    "\n",
    "\n",
    "#Ocean padding\n",
    "rho_transf = np.append(rho_transf[:,:,0].min()*np.ones(\n",
    "                           (rho_transf.shape[0],rho_transf.shape[1],n_pad_ocean)),\n",
    "                       rho_transf,\n",
    "                       axis=2)\n",
    "\n",
    "rho_grid = np.ones(mesh.vnC)*rho_background\n",
    "rho_grid[:,:,ind_bot_lay_19:ind_bot_lay_0] = rho_transf[1:,:,:].transpose((2,1,0))[:,:,::-1]\n",
    "# np.transpose(rho_transf,(2,1,0))\n",
    "#First layer\n",
    "rho_grid[:,:,ind_bot_lay_0+1] = np.ones((mesh.vnC[0],mesh.vnC[1]))*1\n",
    "rho_grid[~(actv.reshape(mesh.vnC,order='F'))] = np.nan\n",
    "rho_grid = rho_grid.flatten(order='F')"
   ]
  },
  {
   "cell_type": "raw",
   "metadata": {},
   "source": [
    "rho_grid = z_mesh"
   ]
  },
  {
   "cell_type": "raw",
   "metadata": {},
   "source": [
    "mesh.plot_3d_slicer(rho_grid)\n",
    "\n",
    "f,ax = plt.subplots(1)\n",
    "\n",
    "mesh.plotSlice(rho_grid,grid=False,ax=ax)\n",
    "plt.scatter(xy[:,0],xy[:,1],s=1,c='k',label='AEM locations')\n",
    "plt.legend()\n",
    "# plt.xlim(20000,22000)"
   ]
  },
  {
   "cell_type": "markdown",
   "metadata": {},
   "source": [
    "#### Create simulation"
   ]
  },
  {
   "cell_type": "code",
   "execution_count": 25,
   "metadata": {},
   "outputs": [],
   "source": [
    "import shutil\n",
    "\n",
    "time = '00'\n",
    "it = 0\n",
    "simulation_workdir = outputdir.joinpath('{it}_{tim}'.format(it=it,tim=int(time)))\n",
    "\n",
    "try:\n",
    "    shutil.rmtree(simulation_workdir)\n",
    "except:\n",
    "    pass\n",
    "simulation_workdir.mkdir()\n",
    "\n",
    "try:\n",
    "    survey.unpair()\n",
    "except:\n",
    "    pass\n",
    "\n",
    "\n",
    "\n",
    "simulation = GlobalSkyTEM(\n",
    "    mesh, \n",
    "    sigma=1./rho_grid, \n",
    "    actv=actv, \n",
    "    parallel_option='multiprocess',\n",
    "    n_cpu=2,\n",
    "    work_dir=simulation_workdir.as_posix()\n",
    ")\n",
    "simulation.pair(survey)\n"
   ]
  },
  {
   "cell_type": "code",
   "execution_count": 26,
   "metadata": {
    "scrolled": true
   },
   "outputs": [
    {
     "name": "stdout",
     "output_type": "stream",
     "text": [
      "writing inputs...\n",
      "\n",
      "running simulation...\n",
      "\n",
      "finished simulation!\n",
      "CPU times: user 3.86 s, sys: 3.37 s, total: 7.23 s\n",
      "Wall time: 1min 42s\n"
     ]
    }
   ],
   "source": [
    "%%time\n",
    "print('writing inputs...\\n')\n",
    "simulation.write_inputs_on_disk_pool()\n",
    "print('running simulation...\\n')\n",
    "dpred = simulation.forward(1./rho_grid)\n",
    "print('finished simulation!')"
   ]
  },
  {
   "cell_type": "markdown",
   "metadata": {},
   "source": [
    "### Compare simulated to observed data"
   ]
  },
  {
   "cell_type": "code",
   "execution_count": 27,
   "metadata": {},
   "outputs": [],
   "source": [
    "sl_hm_304 = slice(i_start_hm,i_end_hm)\n",
    "sl_lm_304 = slice(i_start_lm,i_end_lm)\n",
    "lm_header_304 = ch1_cols[sl_lm_304]\n",
    "hm_header_304 = ch2_cols[sl_hm_304]\n",
    "\n",
    "\n",
    "floor_hm = 0.\n",
    "floor_lm = 0.\n",
    "std = 0.05\n",
    "\n",
    "data = []\n",
    "uncert = []\n",
    "for idx in data_lm_all.index:\n",
    "    if idx%1000==0:\n",
    "        print(idx)\n",
    "    data.append(np.r_[data_hm_all.loc[idx+1,hm_header_304].values/area_304,\n",
    "                      data_lm_all.loc[idx,lm_header_304].values/area_304])\n",
    "    uncert.append(np.r_[abs(data_hm_all.loc[idx+1,hm_header_304].values)/area_304*std + floor_hm,\n",
    "                        abs(data_lm_all.loc[idx,lm_header_304].values)/area_304*std + floor_lm])\n",
    "    \n",
    "dobs = np.concatenate(data).ravel().astype('float')\n",
    "uncert = np.concatenate(uncert).ravel().astype('float')\n",
    "dobs[np.isnan(dobs)] = 9999./area_304\n",
    "inactive_inds = dobs==9999./area_304\n",
    "survey.dobs = -dobs.copy() \n",
    "uncert[inactive_inds] = np.Inf"
   ]
  },
  {
   "cell_type": "code",
   "execution_count": 28,
   "metadata": {},
   "outputs": [],
   "source": [
    "DOBS = np.array(data).T\n",
    "UNCERT  = np.array(uncert).T\n",
    "invalid_inds = np.logical_or(DOBS==9999./area_304,DOBS==9999.)\n",
    "DOBS[invalid_inds]=np.nan\n",
    "DOBS_HM = DOBS[:times_HM_304.size,:]\n",
    "DOBS_LM = DOBS[times_HM_304.size:,:]\n"
   ]
  },
  {
   "cell_type": "code",
   "execution_count": 29,
   "metadata": {},
   "outputs": [],
   "source": [
    "DATA = dpred.reshape((times_HM_304.size+times_LM_304.size, n_sounding), order='F')\n",
    "DATA[invalid_inds]=np.nan\n",
    "DATA_HM = -DATA[:times_HM_304.size,:]\n",
    "DATA_LM = -DATA[times_HM_304.size:,:]\n"
   ]
  },
  {
   "cell_type": "code",
   "execution_count": 30,
   "metadata": {},
   "outputs": [
    {
     "data": {
      "text/plain": [
       "Text(0.5, 1.0, 'Fractional mismatch (simulated-observed)/observed')"
      ]
     },
     "execution_count": 30,
     "metadata": {},
     "output_type": "execute_result"
    },
    {
     "data": {
      "image/png": "[encoded data removed]",
      "text/plain": [
       "<Figure size 432x288 with 1 Axes>"
      ]
     },
     "metadata": {
      "needs_background": "light"
     },
     "output_type": "display_data"
    },
    {
     "data": {
      "image/png": "[encoded data removed]",
      "text/plain": [
       "<Figure size 432x288 with 1 Axes>"
      ]
     },
     "metadata": {
      "needs_background": "light"
     },
     "output_type": "display_data"
    }
   ],
   "source": [
    "f,ax = plt.subplots(1)\n",
    "\n",
    "n_lines = 2\n",
    "\n",
    "l1 = plt.loglog(times_HM_304,DATA_HM[:,:n_lines],'k+',label='simulated')\n",
    "plt.loglog(times_LM_304,DATA_LM[:,:n_lines],'k+')\n",
    "l2 = plt.loglog(times_HM_304,DOBS_HM[:,:n_lines],'r',label='observed')\n",
    "plt.loglog(times_LM_304,DOBS_LM[:,:n_lines],'r')\n",
    "ax.grid(True)\n",
    "plt.legend((ax.get_children()[0],ax.get_children()[n_lines*2]),\n",
    "           (ax.get_children()[0].get_label(),ax.get_children()[n_lines*2].get_label()))\n",
    "plt.title(\"Observed vs simulated\")\n",
    "\n",
    "\n",
    "f,ax = plt.subplots(1)\n",
    "plt.semilogx(times_HM_304,((DATA_HM - DOBS_HM)/DOBS_HM)[:,:n_lines],'k+',label='HM')\n",
    "plt.semilogx(times_LM_304,((DATA_LM - DOBS_LM)/DOBS_LM)[:,:n_lines],'b+',label='LM')\n",
    "ax.grid(True)\n",
    "\n",
    "plt.title('Fractional mismatch (simulated-observed)/observed')"
   ]
  },
  {
   "cell_type": "code",
   "execution_count": 82,
   "metadata": {},
   "outputs": [
    {
     "data": {
      "text/plain": [
       "<matplotlib.legend.Legend at 0x7f1c59414f10>"
      ]
     },
     "execution_count": 82,
     "metadata": {},
     "output_type": "execute_result"
    },
    {
     "data": {
      "image/png": "[encoded data removed]",
      "text/plain": [
       "<Figure size 1440x1080 with 4 Axes>"
      ]
     },
     "metadata": {
      "needs_background": "light"
     },
     "output_type": "display_data"
    }
   ],
   "source": [
    "fig, axs = plt.subplots(2,1, figsize=(20, 15),sharex='col')\n",
    "\n",
    "plt.sca(axs.flatten()[0])\n",
    "ax = plt.gca()\n",
    "out = plt.semilogy(xy[:,0], abs(DOBS_LM[:,:].T), 'k.', ms=5)\n",
    "out = plt.semilogy(xy[:,0], abs(DATA_LM[:,:].T), 'rx', ms=5)\n",
    "ax_1 = ax.twinx()\n",
    "ax.set_ylim(1e-12, 1e-8)\n",
    "ax_1.scatter(xy[:,0],height,label='flight alitude')\n",
    "plt.title('304 LOW MOMENT')\n",
    "plt.legend()\n",
    "\n",
    "plt.sca(axs.flatten()[1])\n",
    "ax = plt.gca()\n",
    "out = plt.semilogy(xy[:,0], abs(DOBS_HM[:,:].T), 'k.', ms=5)\n",
    "out = plt.semilogy(xy[:,0], abs(DATA_HM[:,:].T), 'rx', ms=5)\n",
    "ax_1 = ax.twinx()\n",
    "ax.set_ylim(1e-12, 1e-8)\n",
    "ax_1.scatter(xy[:,0],height,label='flight alitude')\n",
    "plt.title('304 HIGH MOMENT')\n",
    "plt.legend()\n",
    "\n",
    "\n",
    "\n",
    "\n",
    "\n"
   ]
  },
  {
   "cell_type": "code",
   "execution_count": null,
   "metadata": {},
   "outputs": [],
   "source": []
  }
 ],
 "metadata": {
  "kernelspec": {
   "display_name": "Python 3",
   "language": "python",
   "name": "python3"
  },
  "language_info": {
   "codemirror_mode": {
    "name": "ipython",
    "version": 3
   },
   "file_extension": ".py",
   "mimetype": "text/x-python",
   "name": "python",
   "nbconvert_exporter": "python",
   "pygments_lexer": "ipython3",
   "version": "3.8.3"
  }
 },
 "nbformat": 4,
 "nbformat_minor": 4
}
