{
 "cells": [
  {
   "cell_type": "code",
   "execution_count": 1,
   "metadata": {},
   "outputs": [
    {
     "name": "stdout",
     "output_type": "stream",
     "text": [
      "flopy is installed in /home/users/ianpg/miniconda3/envs/SWIlarge-environment/lib/python3.8/site-packages/flopy\n",
      "0 ../data/PriorModel/varlist.pkl\n",
      "system: linux\n"
     ]
    }
   ],
   "source": [
    "import flopy\n",
    "import os\n",
    "import sys\n",
    "from pathlib import Path\n",
    "import numpy as np\n",
    "import matplotlib.pyplot as plt\n",
    "import datetime\n",
    "import shutil\n",
    "\n",
    "########## INPUT #############\n",
    "# it = int(sys.argv[1])-1\n",
    "# f_varlist = Path(sys.argv[2])\n",
    "\n",
    "it=0\n",
    "f_varlist = Path('../data/PriorModel/varlist.pkl')\n",
    "print(it,f_varlist)\n",
    "\n",
    "########## INPUT #############\n",
    "\n",
    "\n",
    "if sys.platform.lower()=='linux':\n",
    "    datadir = Path('/scratch/users/ianpg/SWIlarge/data')\n",
    "    workdir = Path('/scratch/users/ianpg/SWIlarge/work')\n",
    "    MPSdir = datadir.joinpath('lith/sgems/MPS')\n",
    "    lithdir = datadir.joinpath('lith/sgems/')\n",
    "    GISdir = datadir.joinpath('GIS')\n",
    "    priordir = datadir.joinpath('PriorModel')\n",
    "    modeldir = datadir.joinpath('NM_model')\n",
    "elif sys.platform.lower()=='darwin':\n",
    "    datadir = Path('../data')\n",
    "    workdir = Path('../work')\n",
    "    MPSdir = Path('/Users/ianpg/Dropbox/temp_convenience/SWIlarge/data/lith/sgems/MPS')\n",
    "    GISdir = datadir.joinpath('GIS')\n",
    "    lithdir = datadir.joinpath('lith/sgems/')\n",
    "    priordir = datadir.joinpath('PriorModel')\n",
    "    modeldir = datadir.joinpath('NM_model')\n",
    "\n",
    "nmgwmdir_empty = datadir.joinpath('nmgwmdir_empty') #<-- removed everything but DIS\n",
    "nmgwmdir_cal = datadir.joinpath('Calibrated_small') #<-- removed RCH, WEL, GLO, LST from the NAM file to load much faster\n",
    "figdir = workdir.joinpath('figs')\n",
    "outputdir = workdir.joinpath('output')\n",
    "\n",
    "import config\n",
    "import utils\n",
    "\n",
    "\n",
    "#%% Useful functions\n",
    "def load_obj(dirname,name):\n",
    "    import pickle\n",
    "    with open(Path(dirname).joinpath(name + '.pkl').as_posix(), 'rb') as f:\n",
    "        return pickle.load(f)\n",
    "\n",
    "def save_obj(dirname,obj,name):\n",
    "    import pickle\n",
    "    with open(Path(dirname).joinpath(name + '.pkl').as_posix(), 'wb') as f:\n",
    "        pickle.dump(obj, f, pickle.HIGHEST_PROTOCOL)\n",
    "\n",
    "def make_timestamp(YMD=True,HM=True):\n",
    "    import datetime\n",
    "    if YMD:\n",
    "        ymd = '%Y%m%d'\n",
    "    else:\n",
    "        ymd = ''\n",
    "    if HM:\n",
    "        hm = '%H%M'\n",
    "    else:\n",
    "        hm = ''\n",
    "    if YMD and HM:\n",
    "        sep = '_'\n",
    "    else:\n",
    "        sep = ''\n",
    "    return datetime.datetime.now().strftime('{}{}{}'.format(ymd,sep,hm))\n",
    "\n",
    "\n",
    "\n",
    "if len(f_varlist.name.split('.'))>1:\n",
    "    nam = f_varlist.name.split('.')[0]\n",
    "else:\n",
    "    nam = f_varlist.name\n",
    "varlist = load_obj(f_varlist.parent,nam)\n",
    "ts = make_timestamp()\n",
    "\n"
   ]
  },
  {
   "cell_type": "code",
   "execution_count": 3,
   "metadata": {},
   "outputs": [
    {
     "data": {
      "text/plain": [
       "PosixPath('/scratch/users/ianpg/SWIlarge/work/SV_0')"
      ]
     },
     "execution_count": 3,
     "metadata": {},
     "output_type": "execute_result"
    }
   ],
   "source": [
    "model_ws_read = workdir.joinpath(\"SV\")\n",
    "model_ws = workdir.joinpath('SV_{}'.format(it))\n",
    "model_ws"
   ]
  },
  {
   "cell_type": "code",
   "execution_count": 27,
   "metadata": {},
   "outputs": [],
   "source": [
    "directories = [ f.path for f in os.scandir(model_ws.parent.as_posix()) if f.is_dir()]\n",
    "for d in directories:\n",
    "    if Path(d).name.startswith(\"SV_\"):\n",
    "        shutil.rmtree(d)"
   ]
  },
  {
   "cell_type": "code",
   "execution_count": 29,
   "metadata": {},
   "outputs": [
    {
     "data": {
      "text/plain": [
       "PosixPath('/scratch/users/ianpg/SWIlarge/work/SV')"
      ]
     },
     "execution_count": 29,
     "metadata": {},
     "output_type": "execute_result"
    }
   ],
   "source": [
    "model_ws_read"
   ]
  },
  {
   "cell_type": "code",
   "execution_count": 31,
   "metadata": {},
   "outputs": [
    {
     "data": {
      "text/plain": [
       "PosixPath('/scratch/users/ianpg/SWIlarge/work/SV_0')"
      ]
     },
     "execution_count": 31,
     "metadata": {},
     "output_type": "execute_result"
    }
   ],
   "source": []
  },
  {
   "cell_type": "code",
   "execution_count": 3,
   "metadata": {},
   "outputs": [],
   "source": [
    "##Make temp folder for writing\n",
    "model_ws_read = workdir.joinpath(\"SV\")\n",
    "model_ws = workdir.joinpath('SV_{}'.format(it))\n",
    "\n",
    "try:\n",
    "    shutil.rmtree(model_ws.as_posix(),)\n",
    "except:\n",
    "    try:\n",
    "        shutil.rmtree(model_ws.as_posix())\n",
    "    except:\n",
    "        pass\n",
    "# shutil.rmtree(model_ws.as_posix())\n",
    "shutil.copytree(model_ws_read.as_posix(),model_ws.as_posix())\n",
    "\n",
    "\n",
    "\n",
    "# if not model_ws.exists():\n",
    "#     model_ws.mkdir()\n",
    "# m.model_ws = model_ws.as_posix()\n",
    "\n",
    "\n",
    "\n",
    "##Loading\n",
    "modelname = 'SV'\n",
    "m= flopy.seawat.Seawat.load(modelname + '.nam',exe_name=config.swexe, model_ws=model_ws.as_posix())\n",
    "rows = np.load(model_ws.joinpath('rows.npy'))\n",
    "starttime = np.load(model_ws.joinpath('starttime.npy'))\n",
    "layer_mapping_ind_full = np.load(GISdir.joinpath('layer_mapping_ind_full.npy'))                                 \n",
    "layer_mapping_ind = layer_mapping_ind_full[:,rows,:]\n",
    "# m = flopy.seawat.Seawat(modelname, exe_name=config.swexe, model_ws=model_ws.as_posix(),verbose=verbose)\n",
    "thinmsk_in_aqt = np.load(model_ws.joinpath('thinmsk_in_aqt.npy'))\n",
    "wellmsk_in_aqt = np.load(model_ws.joinpath('wellmsk_in_aqt.npy'))\n",
    "\n",
    "\n",
    "\n",
    "\n",
    "\n",
    "\n"
   ]
  },
  {
   "cell_type": "code",
   "execution_count": 4,
   "metadata": {},
   "outputs": [],
   "source": [
    "\n",
    "\n",
    "##Unpack vars\n",
    "thinning =varlist['thinning'][it] #done\n",
    "n_conduits = int(varlist['n_conduits'][it])\n",
    "\n",
    "\n",
    "por_sand = varlist['por_sand'][it] #done\n",
    "por_clay = varlist['por_clay'][it] #done\n",
    "aL = varlist['aL'][it] #done\n",
    "kvh = varlist['kvh'][it] #done\n",
    "kh_sand_180 = varlist['kh_sand_180'][it] #done\n",
    "kh_clay_180 = varlist['kh_clay_180'][it] #done\n",
    "kh_sand_400 = varlist['kh_sand_400'][it] #done\n",
    "kh_clay_400 = varlist['kh_clay_400'][it] #done\n",
    "kh_lay1     = varlist['kh_lay1'][it] #done \n",
    "\n"
   ]
  },
  {
   "cell_type": "code",
   "execution_count": 6,
   "metadata": {},
   "outputs": [],
   "source": [
    "x_cond =  np.random.randint(150,m.ncol-1,size=n_conduits)\n",
    "y_cond =np.random.randint(0,m.nrow-1,size=n_conduits)\n",
    "# x_cond = np.r_[x_cond,x_cond+1,x_cond,x_cond+1,x_cond-1,x_cond-1]\n",
    "# y_cond = np.r_[y_cond,y_cond,y_cond+1,y_cond+1,y_cond,y_cond+1]\n",
    "\n",
    "x_cond=np.r_[x_cond-1,x_cond,x_cond+1,x_cond-1,x_cond,x_cond+1,x_cond-1,x_cond,x_cond+1,x_cond-1,x_cond,x_cond+1]\n",
    "y_cond = np.r_[y_cond,y_cond,y_cond,y_cond+1,y_cond+1,y_cond+1,y_cond+2,y_cond+2,y_cond+2,y_cond-1,y_cond-1,y_cond-1]\n",
    "\n",
    "extra_conds = np.zeros_like(thinmsk_in_aqt)\n",
    "extra_conds[:,y_cond,x_cond] = True\n",
    "extra_conds = np.logical_and(extra_conds,layer_mapping_ind_full==4)"
   ]
  },
  {
   "cell_type": "code",
   "execution_count": 7,
   "metadata": {},
   "outputs": [],
   "source": [
    "# thinning_msk = thinmsk_in_aqt.copy()\n",
    "thinning_msk = np.logical_or(thinmsk_in_aqt,extra_conds)\n",
    "thin =np.round(thinning/25,2)*25\n",
    "thck = thinmsk_in_aqt.sum(axis=0)\n",
    "thck_new = np.round((1-thin)*thck,0).astype(np.int)\n",
    "\n",
    "for lay in range(m.nlay):\n",
    "    ij = np.argwhere(thinmsk_in_aqt[lay,:,:])\n",
    "    if len(ij)>0:\n",
    "        for val in ij:\n",
    "            thck_val = thinning_msk[:,val[0],val[1]].sum()\n",
    "            if thck_new[val[0],val[1]]==0:\n",
    "#                 print('zero thickness now...')\n",
    "                thinning_msk[:,val[0],val[1]]=False\n",
    "            else:\n",
    "#                 print('thinning now...')\n",
    "                thinning_msk[lay:lay+thck_new[val[0],val[1]],val[0],val[1]]=True\n",
    "                thinning_msk[:lay,val[0],val[1]]=False\n",
    "                thinning_msk[lay+thck_new[val[0],val[1]]:,val[0],val[1]]=False        "
   ]
  },
  {
   "cell_type": "code",
   "execution_count": 8,
   "metadata": {},
   "outputs": [],
   "source": [
    "hk_aquitard = min(kh_clay_180,kh_clay_400)\n",
    "hk = np.zeros_like(layer_mapping_ind_full,dtype=np.float)\n",
    "lith_180 = np.load(lithdir.joinpath('snesim','mps180_{}.npy'.format(it))).astype(np.float)\n",
    "lith_400 = np.load(lithdir.joinpath('sisim','sisim400_{}.npy'.format(it))).astype(np.float)\n",
    "\n",
    "\n",
    "\n",
    "lith_180[lith_180==1.] = kh_sand_180\n",
    "lith_180[lith_180==0.] = kh_clay_180\n",
    "lith_400[lith_400==1.] = kh_sand_400\n",
    "lith_400[lith_400==0.] = kh_clay_400\n",
    "\n",
    "\n",
    "hk[np.where(layer_mapping_ind_full==0)] = 10000\n",
    "hk[np.where(layer_mapping_ind_full==1)] = kh_lay1\n",
    "hk[np.where(layer_mapping_ind_full==2)] = hk_aquitard\n",
    "hk[np.where(layer_mapping_ind_full==3)] = lith_180[np.where(layer_mapping_ind_full==3)]\n",
    "hk[np.where(layer_mapping_ind_full==4)] = hk_aquitard\n",
    "hk[np.where(layer_mapping_ind_full==5)] = lith_400[np.where(layer_mapping_ind_full==5)]\n",
    "hk[np.where(layer_mapping_ind_full>5)] = 1.\n",
    "\n",
    "prsity = np.zeros_like(layer_mapping_ind_full,dtype=np.float)\n",
    "prsity[np.isin(hk,(kh_lay1,kh_sand_180,kh_sand_400))]=por_sand\n",
    "prsity[np.where(prsity==0.)]=por_clay\n",
    "\n",
    "\n",
    "hk = hk[:,rows,:]\n",
    "prsity = prsity[:,rows,:]\n",
    "\n"
   ]
  },
  {
   "cell_type": "code",
   "execution_count": 9,
   "metadata": {},
   "outputs": [
    {
     "name": "stdout",
     "output_type": "stream",
     "text": [
      "WARNING: unit 15 of package LPF already in use\n",
      "****Warning -- two packages of the same type:  <class 'flopy.modflow.mflpf.ModflowLpf'> <class 'flopy.modflow.mflpf.ModflowLpf'>\n",
      "replacing existing Package...\n",
      "WARNING: unit 31 of package BTN already in use\n",
      "****Warning -- two packages of the same type:  <class 'flopy.mt3d.mtbtn.Mt3dBtn'> <class 'flopy.mt3d.mtbtn.Mt3dBtn'>\n",
      "replacing existing Package...\n",
      "WARNING: unit 33 of package DSP already in use\n",
      "****Warning -- two packages of the same type:  <class 'flopy.mt3d.mtdsp.Mt3dDsp'> <class 'flopy.mt3d.mtdsp.Mt3dDsp'>\n",
      "replacing existing Package...\n"
     ]
    }
   ],
   "source": [
    "\n",
    "lpf = flopy.modflow.ModflowLpf(m, hk=hk, vka=kvh, ipakcb=m.lpf.ipakcb,laytyp=0,laywet=0,\n",
    "                              ss=m.lpf.ss.array,sy=m.lpf.sy.array)\n",
    "\n",
    "try:\n",
    "    sconc= m.btn.sconc.array\n",
    "except:\n",
    "    sconc= m.btn.sconc[0].array\n",
    "btn = flopy.mt3d.Mt3dBtn(m,\n",
    "                         laycon=m.btn.laycon.array, htop=m.btn.htop.array,\n",
    "                         dz=m.dis.thickness.get_value(), prsity=prsity, icbund=m.btn.icbund.array,\n",
    "                         sconc=sconc, nprs=1,timprs=m.btn.timprs)\n",
    "\n",
    "dsp = flopy.mt3d.Mt3dDsp(m, al=aL,dmcoef=2.0e-9)\n"
   ]
  },
  {
   "cell_type": "code",
   "execution_count": 10,
   "metadata": {},
   "outputs": [
    {
     "name": "stdout",
     "output_type": "stream",
     "text": [
      "Not running model!\n"
     ]
    },
    {
     "ename": "FileNotFoundError",
     "evalue": "[Errno 2] No such file or directory: '../work/SV_0/MT3D001.UCN'",
     "output_type": "error",
     "traceback": [
      "\u001b[0;31m---------------------------------------------------------------------------\u001b[0m",
      "\u001b[0;31mFileNotFoundError\u001b[0m                         Traceback (most recent call last)",
      "\u001b[0;32m<ipython-input-10-6cce4af618c2>\u001b[0m in \u001b[0;36m<module>\u001b[0;34m\u001b[0m\n\u001b[1;32m     37\u001b[0m \u001b[0;34m\u001b[0m\u001b[0m\n\u001b[1;32m     38\u001b[0m \u001b[0mfname\u001b[0m \u001b[0;34m=\u001b[0m \u001b[0mos\u001b[0m\u001b[0;34m.\u001b[0m\u001b[0mpath\u001b[0m\u001b[0;34m.\u001b[0m\u001b[0mjoin\u001b[0m\u001b[0;34m(\u001b[0m\u001b[0mm\u001b[0m\u001b[0;34m.\u001b[0m\u001b[0mmodel_ws\u001b[0m\u001b[0;34m,\u001b[0m \u001b[0;34m'MT3D001.UCN'\u001b[0m\u001b[0;34m)\u001b[0m\u001b[0;34m\u001b[0m\u001b[0;34m\u001b[0m\u001b[0m\n\u001b[0;32m---> 39\u001b[0;31m \u001b[0mtotim\u001b[0m \u001b[0;34m=\u001b[0m \u001b[0mflopy\u001b[0m\u001b[0;34m.\u001b[0m\u001b[0mutils\u001b[0m\u001b[0;34m.\u001b[0m\u001b[0mbinaryfile\u001b[0m\u001b[0;34m.\u001b[0m\u001b[0mUcnFile\u001b[0m\u001b[0;34m(\u001b[0m\u001b[0mfname\u001b[0m\u001b[0;34m)\u001b[0m\u001b[0;34m.\u001b[0m\u001b[0mget_times\u001b[0m\u001b[0;34m(\u001b[0m\u001b[0;34m)\u001b[0m\u001b[0;34m[\u001b[0m\u001b[0;34m-\u001b[0m\u001b[0;36m1\u001b[0m\u001b[0;34m]\u001b[0m\u001b[0;34m\u001b[0m\u001b[0;34m\u001b[0m\u001b[0m\n\u001b[0m\u001b[1;32m     40\u001b[0m conc_fname = 'conc{}_{}_totim{}.UCN'.format(\n\u001b[1;32m     41\u001b[0m     it, ts, str(int(totim)))\n",
      "\u001b[0;32m~/anaconda/lib/python3.6/site-packages/flopy/utils/binaryfile.py\u001b[0m in \u001b[0;36m__init__\u001b[0;34m(self, filename, text, precision, verbose, **kwargs)\u001b[0m\n\u001b[1;32m    497\u001b[0m         \u001b[0mself\u001b[0m\u001b[0;34m.\u001b[0m\u001b[0mtext\u001b[0m \u001b[0;34m=\u001b[0m \u001b[0mtext\u001b[0m\u001b[0;34m.\u001b[0m\u001b[0mencode\u001b[0m\u001b[0;34m(\u001b[0m\u001b[0;34m)\u001b[0m\u001b[0;34m\u001b[0m\u001b[0;34m\u001b[0m\u001b[0m\n\u001b[1;32m    498\u001b[0m         \u001b[0;32mif\u001b[0m \u001b[0mprecision\u001b[0m \u001b[0;34m==\u001b[0m \u001b[0;34m'auto'\u001b[0m\u001b[0;34m:\u001b[0m\u001b[0;34m\u001b[0m\u001b[0;34m\u001b[0m\u001b[0m\n\u001b[0;32m--> 499\u001b[0;31m             \u001b[0mprecision\u001b[0m \u001b[0;34m=\u001b[0m \u001b[0mget_headfile_precision\u001b[0m\u001b[0;34m(\u001b[0m\u001b[0mfilename\u001b[0m\u001b[0;34m)\u001b[0m\u001b[0;34m\u001b[0m\u001b[0;34m\u001b[0m\u001b[0m\n\u001b[0m\u001b[1;32m    500\u001b[0m         \u001b[0;32mif\u001b[0m \u001b[0mprecision\u001b[0m \u001b[0;34m==\u001b[0m \u001b[0;34m'unknown'\u001b[0m\u001b[0;34m:\u001b[0m\u001b[0;34m\u001b[0m\u001b[0;34m\u001b[0m\u001b[0m\n\u001b[1;32m    501\u001b[0m             s = 'Error. Precision could not be determined for {}'.format(\n",
      "\u001b[0;32m~/anaconda/lib/python3.6/site-packages/flopy/utils/binaryfile.py\u001b[0m in \u001b[0;36mget_headfile_precision\u001b[0;34m(filename)\u001b[0m\n\u001b[1;32m    201\u001b[0m \u001b[0;34m\u001b[0m\u001b[0m\n\u001b[1;32m    202\u001b[0m     \u001b[0;31m# first try single\u001b[0m\u001b[0;34m\u001b[0m\u001b[0;34m\u001b[0m\u001b[0;34m\u001b[0m\u001b[0m\n\u001b[0;32m--> 203\u001b[0;31m     \u001b[0mf\u001b[0m \u001b[0;34m=\u001b[0m \u001b[0mopen\u001b[0m\u001b[0;34m(\u001b[0m\u001b[0mfilename\u001b[0m\u001b[0;34m,\u001b[0m \u001b[0;34m'rb'\u001b[0m\u001b[0;34m)\u001b[0m\u001b[0;34m\u001b[0m\u001b[0;34m\u001b[0m\u001b[0m\n\u001b[0m\u001b[1;32m    204\u001b[0m     vartype = [('kstp', '<i4'), ('kper', '<i4'), ('pertim', '<f4'),\n\u001b[1;32m    205\u001b[0m                ('totim', '<f4'), ('text', 'S16')]\n",
      "\u001b[0;31mFileNotFoundError\u001b[0m: [Errno 2] No such file or directory: '../work/SV_0/MT3D001.UCN'"
     ]
    }
   ],
   "source": [
    "writeyn= True\n",
    "runyn = False\n",
    "#Write input\n",
    "if writeyn:\n",
    "    m.write_input()\n",
    "    \n",
    "    \n",
    "# Try to delete the output files, to prevent accidental use of older files\n",
    "f_delete = [os.path.join(m.model_ws,'MT3D.CNF'),\n",
    "            os.path.join(m.model_ws,'MT3D001.MAS'),\n",
    "            os.path.join(m.model_ws, 'MT3D001.UCN'),\n",
    "            os.path.join(m.model_ws, modelname + '.hds'),\n",
    "            os.path.join(m.model_ws, modelname + '.cbc')]\n",
    "\n",
    "for f in f_delete:\n",
    "    try:\n",
    "        os.remove(f)\n",
    "    except:\n",
    "        pass\n",
    "\n",
    "#%%\n",
    "\n",
    "if runyn:\n",
    "    v = m.run_model(silent=False, report=True)\n",
    "    for idx in range(-3, 0):\n",
    "        print(v[1][idx])\n",
    "else:\n",
    "    print('Not running model!')\n",
    "\n",
    "exportdir = outputdir.joinpath('SV')\n",
    "if not exportdir.exists():\n",
    "    exportdir.mkdir(parents=True)\n",
    "\n",
    "date_per = starttime + np.cumsum(m.dis.perlen.array)/365\n",
    "survey_date = 2017.25\n",
    "survey_kper = np.argmin(np.abs(date_per-survey_date))\n",
    "\n",
    "fname = os.path.join(m.model_ws, 'MT3D001.UCN')\n",
    "totim = flopy.utils.binaryfile.UcnFile(fname).get_times()[-1]\n",
    "conc_fname = 'conc{}_{}_totim{}.UCN'.format(\n",
    "    it, ts, str(int(totim)))\n",
    "\n",
    "utils.copy_rename(fname,\n",
    "                 exportdir.joinpath(conc_fname))\n",
    "conc = flopy.utils.binaryfile.UcnFile(fname).get_data(kstpkper=(0,survey_kper))\n",
    "np.save(exportdir.joinpath(conc_fname[:-4] + '.npy'),conc)"
   ]
  },
  {
   "cell_type": "code",
   "execution_count": null,
   "metadata": {},
   "outputs": [],
   "source": []
  },
  {
   "cell_type": "code",
   "execution_count": null,
   "metadata": {},
   "outputs": [],
   "source": []
  }
 ],
 "metadata": {
  "kernelspec": {
   "display_name": "Python 3",
   "language": "python",
   "name": "python3"
  },
  "language_info": {
   "codemirror_mode": {
    "name": "ipython",
    "version": 3
   },
   "file_extension": ".py",
   "mimetype": "text/x-python",
   "name": "python",
   "nbconvert_exporter": "python",
   "pygments_lexer": "ipython3",
   "version": "3.8.3"
  }
 },
 "nbformat": 4,
 "nbformat_minor": 2
}
