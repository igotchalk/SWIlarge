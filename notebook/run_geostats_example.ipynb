{
 "cells": [
  {
   "cell_type": "code",
   "execution_count": 1,
   "metadata": {},
   "outputs": [],
   "source": [
    "import pickle\n",
    "from pathlib import Path\n",
    "import numpy as np\n",
    "import sys\n",
    "\n",
    "ws_dir = Path('..')\n",
    "\n",
    "if sys.platform.lower()=='linux':\n",
    "    datadir = Path('/scratch/users/ianpg/SWIlarge/data')\n",
    "    workdir = Path('/scratch/users/ianpg/SWIlarge/work')\n",
    "    MPSdir = datadir.joinpath('lith/sgems/MPS')\n",
    "    lithdir = datadir.joinpath('lith/sgems/')\n",
    "    GISdir = datadir.joinpath('GIS')\n",
    "    priordir = datadir.joinpath('PriorModel')\n",
    "    modeldir = datadir.joinpath('NM_model')\n",
    "elif sys.platform.lower()=='darwin':\n",
    "    lithdir = ws_dir.joinpath('data','lith','sgems')\n",
    "\n",
    "\n",
    "def load_obj(dirname, name):\n",
    "    import pickle\n",
    "    with open(Path(dirname).joinpath(name + '.pkl').as_posix(), 'rb') as f:\n",
    "        return pickle.load(f)\n",
    "\n",
    "\n",
    "def save_obj(dirname, obj, name):\n",
    "    import pickle\n",
    "    with open(Path(dirname).joinpath(name + '.pkl').as_posix(), 'wb') as f:\n",
    "        pickle.dump(obj, f, pickle.HIGHEST_PROTOCOL)\n"
   ]
  },
  {
   "cell_type": "code",
   "execution_count": null,
   "metadata": {},
   "outputs": [],
   "source": [
    "outputdir_sisim = lithdir.joinpath('sisim')\n",
    "if not outputdir_sisim.exists():\n",
    "    outputdir_sisim.mkdir(parents=True)\n",
    "outputdir_snesim = lithdir.joinpath('snesim')\n",
    "if not outputdir_snesim.exists():\n",
    "    outputdir_snesim.mkdir(parents=True)\n",
    "    \n",
    "varlist = load_obj(ws_dir.joinpath('data/PriorModel'), 'varlist')\n",
    "n_it = len(varlist[varlist.keys()[0]])\n",
    "# TI_prop_values = np.array([45 ,55 ,65 ,75])\n",
    "# TI_props = TI_prop_values[varlist['TI_prop']].astype(int)\n",
    "# varlist['TI_props']=TI_props"
   ]
  },
  {
   "cell_type": "code",
   "execution_count": 202,
   "metadata": {},
   "outputs": [],
   "source": [
    "def write_run_save_snesim(name,varlist,it):  \n",
    "    cmd_run = ('RunGeostatAlgorithm  snesim_std::/GeostatParamUtils/XML::<parameters>  '\n",
    "           '<algorithm name=\"snesim_std\" />     '\n",
    "           '<Use_Affinity  value=\"0\"  />     <Use_Rotation  value=\"0\"  />     '\n",
    "           '<Cmin  value=\"1\" />     <Constraint_Marginal_ADVANCED  value=\"0\" />     '\n",
    "           '<resimulation_criterion  value=\"-1\" />     <resimulation_iteration_nb  value=\"1\" />     <Nb_Multigrids_ADVANCED  value=\"5\" />     '\n",
    "           '<Debug_Level  value=\"0\" />     <Subgrid_choice  value=\"0\"  />     '\n",
    "           '<expand_isotropic  value=\"1\"  />     <expand_anisotropic  value=\"0\"  />     '\n",
    "           '<aniso_factor  value=\"        \" />     <Hard_Data  grid=\"lith_bin_rot\" region=\"\" property=\"Lith_binary\"  />     '\n",
    "           '<use_pre_simulated_gridded_data  value=\"0\"  />     <Use_ProbField  value=\"0\"  />     '\n",
    "           '<ProbField_properties count=\"0\"   value=\"\"  />     '\n",
    "           '<TauModelObject  value=\"1 1\" />     <use_vertical_proportion  value=\"0\"  />     '\n",
    "           '<GridSelector_Sim value=\"swi_large_grid_2\" region=\"\"  />     '\n",
    "           '<Property_Name_Sim  value=\"{name}_{it}\" />     <Nb_Realizations  value=\"1\" />     '\n",
    "           '<Seed  value=\"{seed}\" />     '\n",
    "           '<PropertySelector_Training  grid=\"swi_grid_small2\" region=\"\" property=\"{ti_name}\"  />     '\n",
    "           '<Nb_Facies  value=\"2\" />     '\n",
    "           '<Marginal_Cdf  value=\"0.33 0.67\" />     <Max_Cond  value=\"30\" />     '\n",
    "           '<Search_Ellipsoid  value=\"4000 2000 20  90 0 0\" />  </parameters>   '.format(\n",
    "               it=it,\n",
    "               name=name,\n",
    "               seed=varlist['seed'][it] + 1, #ones-based\n",
    "               ti_name='ti_' + str(varlist['TI_props'][it])\n",
    "           ))\n",
    "    cmd_save = 'SaveGeostatGrid  swi_large_grid_2::C:/Users/ianpg/Documents/git/SWIlarge/data/lith/sgems/snesim/{name}_{it}.gslib::gslib::0::{name}_{it}__real0'.format(name=name,it=it)\n",
    "    return cmd_run,cmd_save\n",
    "\n",
    "\n",
    "def write_run_save_sisim(name,varlist,it):  \n",
    "    cmd_run = ('RunGeostatAlgorithm  sisim::/GeostatParamUtils/XML::<parameters>  <algorithm name=\"sisim\" />     '\n",
    "           '<Hard_Data_Grid value=\"lith_bin_rot\" region=\"\"  />     '\n",
    "           '<Hard_Data_Property  value=\"Lith_binary\"  />     <Assign_Hard_Data  value=\"1\"  />     '\n",
    "           '<coded_grid value=\"\" region=\"\"  />     <coded_props count=\"0\"   value=\"\"  />     '\n",
    "           '<Max_Conditioning_Data  value=\"30\" />     <Search_Ellipsoid  value=\"1000 500 25  90 0 0\" />    '\n",
    "           '<AdvancedSearch  use_advanced_search=\"0\"></AdvancedSearch>    '\n",
    "           '<Variogram_Median_Ik  nugget=\"0\" structures_count=\"1\"  >    <structure_1  contribution=\"1\"  type=\"Spherical\"   >      '\n",
    "           '<ranges max=\"{r_x}\"  medium=\"{r_y}\"  min=\"{r_z}\"   />      '\n",
    "           '<angles x=\"90\"  y=\"0\"  z=\"0\"   />    </structure_1>  </Variogram_Median_Ik>    <Grid_Name value=\"swi_large_grid_2\" region=\"\"  />     '\n",
    "           '<Property_Name  value=\"{name}_{it}\" />     '\n",
    "           '<Nb_Realizations  value=\"1\" />     <Seed  value=\"{seed}\" />     <Categorical_Variable_Flag  value=\"1\"  />     '\n",
    "           '<Nb_Indicators  value=\"2\" />     '\n",
    "           '<Marginal_Probabilities  value=\"{prop_comp} {prop}\" />     <lowerTailCdf  function =\"Power\"  extreme =\"0\"  omega =\"3\" />    '\n",
    "           '<upperTailCdf  function =\"Power\"  extreme =\"0\"  omega =\"0.333\" />    '\n",
    "           '<Median_Ik_Flag  value=\"1\"  />     <Full_Ik_Flag  value=\"0\"  />   </parameters>   '.format(\n",
    "           r_x=varlist['r_x'][it],\n",
    "           r_y=varlist['r_y'][it],\n",
    "           r_z=varlist['r_z'][it],\n",
    "           sill=varlist['sill'][it],\n",
    "           seed=varlist['seed'][it],\n",
    "           prop=round(varlist['prop_400'][it],2), \n",
    "           prop_comp= round(1-varlist['prop_400'][it],2), \n",
    "           name=name,\n",
    "           it=it\n",
    "           ))\n",
    "\n",
    "    cmd_save = 'SaveGeostatGrid  swi_large_grid_2::C:/Users/ianpg/Documents/git/SWIlarge/data/lith/sgems/sisim/{name}_{it}.gslib::gslib::0::{name}_{it}__real0'.format(name=name,it=it)\n",
    "    return cmd_run,cmd_save"
   ]
  },
  {
   "cell_type": "markdown",
   "metadata": {},
   "source": [
    "### SISIM"
   ]
  },
  {
   "cell_type": "code",
   "execution_count": 208,
   "metadata": {},
   "outputs": [],
   "source": [
    "its = np.arange(0,500)\n",
    "name = 'sisim400'\n",
    "fname_commands = outputdir_sisim.joinpath('{name}_{it1}_{it2}_commands.txt'.format(name=name,it1=its[0],it2=its[-1])).as_posix()\n",
    "\n",
    "with open(fname_commands, 'w') as f:\n",
    "    f.write('LoadProject  C:/Users/ianpg/Dropbox/temp_convenience/SWIlarge/data/lith/sgems/MPS/mps_180.prj \\n')\n",
    "    for it in its:\n",
    "        if it%10==0:\n",
    "            f.write('DeleteObjects  lith_bin_rot::swi_grid_large::swi_grid_small2::swi_large_grid_2 \\n')\n",
    "            f.write('LoadProject  C:/Users/ianpg/Dropbox/temp_convenience/SWIlarge/data/lith/sgems/MPS/mps_180.prj \\n')\n",
    "        cmd_run,cmd_save = write_run_save_sisim(name,varlist,it)\n",
    "        f.write(cmd_run + ' \\n')\n",
    "        f.write(cmd_save + ' \\n')\n",
    "# call(['sgems-x64', fname_commands], shell=False)"
   ]
  },
  {
   "cell_type": "markdown",
   "metadata": {},
   "source": [
    "### SNESIM"
   ]
  },
  {
   "cell_type": "code",
   "execution_count": 209,
   "metadata": {},
   "outputs": [],
   "source": [
    "its = np.arange(0,500)\n",
    "name = 'mps180'\n",
    "fname_commands = outputdir_snesim.joinpath('{name}_{it1}_{it2}_commands.txt'.format(name=name,it1=its[0],it2=its[-1])).as_posix()\n",
    "\n",
    "\n",
    "runyn=False\n",
    "\n",
    "with open(fname_commands, 'w') as f:\n",
    "    f.write('LoadProject  C:/Users/ianpg/Dropbox/temp_convenience/SWIlarge/data/lith/sgems/MPS/mps_180.prj \\n')\n",
    "    for it in its:\n",
    "        if it%10==0:\n",
    "            f.write('DeleteObjects  lith_bin_rot::swi_grid_large::swi_grid_small2::swi_large_grid_2 \\n')\n",
    "            f.write('LoadProject  C:/Users/ianpg/Dropbox/temp_convenience/SWIlarge/data/lith/sgems/MPS/mps_180.prj \\n')\n",
    "        cmd_run,cmd_save = write_run_save_snesim(name,varlist,it)\n",
    "        f.write(cmd_run + ' \\n')\n",
    "        f.write(cmd_save + ' \\n')\n",
    "if runyn:\n",
    "    call(['sgems-x64', fname_commands], shell=False)"
   ]
  }
 ],
 "metadata": {
  "kernelspec": {
   "display_name": "Python 3",
   "language": "python",
   "name": "python3"
  },
  "language_info": {
   "codemirror_mode": {
    "name": "ipython",
    "version": 3
   },
   "file_extension": ".py",
   "mimetype": "text/x-python",
   "name": "python",
   "nbconvert_exporter": "python",
   "pygments_lexer": "ipython3",
   "version": "3.6.8"
  }
 },
 "nbformat": 4,
 "nbformat_minor": 2
}
