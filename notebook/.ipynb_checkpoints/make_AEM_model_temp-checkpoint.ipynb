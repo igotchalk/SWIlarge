{
 "cells": [
  {
   "cell_type": "code",
   "execution_count": 24,
   "metadata": {},
   "outputs": [],
   "source": [
    "import flopy\n",
    "import os\n",
    "import sys\n",
    "from pathlib import Path\n",
    "import numpy as np\n",
    "import matplotlib.pyplot as plt\n",
    "import pandas as pd\n",
    "import shapefile as sf #in case you dont have it, form anaconda prompt: pip install pyshp\n",
    "from flopy.utils.gridgen import Gridgen\n",
    "from flopy.utils.reference import SpatialReference\n",
    "import mplleaflet\n",
    "from  pyproj import Proj\n",
    "from SimPEG import Mesh\n",
    "\n",
    "\n",
    "if sys.platform.lower()=='linux':\n",
    "    datadir = Path('/scratch/users/ianpg/SWIlarge/data')\n",
    "    workdir = Path('/scratch/users/ianpg/SWIlarge/work')\n",
    "#     sharedir = datadir.joinpath('SWIlarge/data/GIS')\n",
    "    MPSdir = datadir.joinpath('lith/sgems/MPS')\n",
    "    GISdir = datadir.joinpath('GIS')\n",
    "    simpegskytem_path = '../../'\n",
    "    \n",
    "    \n",
    "elif sys.platform.lower()=='darwin':\n",
    "    datadir = Path('../data')\n",
    "    workdir = Path('../work')\n",
    "    sharedir = Path('/Users/ianpg/Dropbox/temp_convenience/SWIlarge/data/GIS')\n",
    "    MPSdir = Path('/Users/ianpg/Dropbox/temp_convenience/SWIlarge/data/lith/sgems/MPS')\n",
    "    GISdir = sharedir\n",
    "\n",
    "nmgwmdir_cal = datadir.joinpath('Calibrated_small') #<-- removed RCH, WEL, GLO, LST from the NAM file to load much faster\n",
    "figdir = workdir.joinpath('figs')\n",
    "outputdir = workdir.joinpath('output')\n",
    "\n",
    "\n",
    "\n",
    "#Local imports and file creation\n",
    "if not simpegskytem_path in sys.path:\n",
    "    sys.path.append(simpegskytem_path)\n",
    "\n",
    "import simpegskytem\n",
    "from simpegskytem import ProblemSkyTEM, GlobalAEMSurveyTD, GlobalSkyTEM, get_skytem_survey,Utils\n",
    "\n",
    "import config\n",
    "from set_rc import *\n",
    "\n",
    "\n",
    "for d in (figdir,outputdir):\n",
    "    if not d.exists():\n",
    "        d.mkdir()\n",
    "\n",
    "\n",
    "p = Proj(\"epsg:26910\")\n",
    "xll=595855\n",
    "yll = 4059438\n",
    "rotation = -13.5"
   ]
  },
  {
   "cell_type": "code",
   "execution_count": 25,
   "metadata": {},
   "outputs": [],
   "source": [
    "#%% Useful functions\n",
    "\n",
    "def load_obj(dirname,name):\n",
    "    import pickle\n",
    "    with open(Path(dirname).joinpath(name + '.pkl').as_posix(), 'rb') as f:\n",
    "        return pickle.load(f)\n",
    "\n",
    "def save_obj(dirname,obj,name):\n",
    "    import pickle\n",
    "    with open(Path(dirname).joinpath(name + '.pkl').as_posix(), 'wb') as f:\n",
    "        pickle.dump(obj, f, pickle.HIGHEST_PROTOCOL)\n",
    "\n",
    "#Create new MC_file\n",
    "def create_MC_file():\n",
    "    import datetime\n",
    "    ts = datetime.datetime.now().strftime('%Y-%m-%d-%H-%M')\n",
    "    MC_dir = Path(os.path.join(m.model_ws, 'MC_expt_' + ts))\n",
    "    if not MC_dir.exists():\n",
    "        MC_dir.mkdir()\n",
    "    m.MC_file = MC_dir.joinpath('expt.txt')\n",
    "    with m.MC_file.open('w') as wf:\n",
    "        wf.close\n",
    "    print(m.MC_file)\n",
    "    return\n",
    "\n",
    "#nearest value in array\n",
    "def find_nearest(array,value):\n",
    "    import numpy as np\n",
    "    idx = (np.abs(array-value)).argmin()\n",
    "    idx.astype('int')\n",
    "    return array[idx]\n",
    "\n",
    "#take distance in meters, return column in model\n",
    "def loc_to_col(locs):\n",
    "    cols = [int(find_nearest((np.arange(ncol)*delc),loc)) for loc in locs]\n",
    "    return cols\n",
    "\n",
    "#make a line across the grid\n",
    "def get_line(start, end,allrows=1,nrow=None):\n",
    "    \"\"\"Bresenham's Line Algorithm\n",
    "    Produces a list of tuples from start and end\n",
    "\n",
    "    >>> points1 = get_line((0, 0), (3, 4))\n",
    "    >>> points2 = get_line((3, 4), (0, 0))\n",
    "    >>> assert(set(points1) == set(points2))\n",
    "    >>> print points1\n",
    "    [(0, 0), (1, 1), (1, 2), (2, 3), (3, 4)]\n",
    "    >>> print points2\n",
    "    [(3, 4), (2, 3), (1, 2), (1, 1), (0, 0)]\n",
    "    \"\"\"\n",
    "    # Setup initial conditions\n",
    "    x1, y1 = start\n",
    "    x2, y2 = end\n",
    "    dx = x2 - x1\n",
    "    dy = y2 - y1\n",
    "\n",
    "    # Determine how steep the line is\n",
    "    is_steep = abs(dy) > abs(dx)\n",
    "\n",
    "    # Rotate line\n",
    "    if is_steep:\n",
    "        x1, y1 = y1, x1\n",
    "        x2, y2 = y2, x2\n",
    "\n",
    "    # Swap start and end points if necessary and store swap state\n",
    "    swapped = False\n",
    "    if x1 > x2:\n",
    "        x1, x2 = x2, x1\n",
    "        y1, y2 = y2, y1\n",
    "        swapped = True\n",
    "\n",
    "    # Recalculate differentials\n",
    "    dx = x2 - x1\n",
    "    dy = y2 - y1\n",
    "\n",
    "    # Calculate error\n",
    "    error = int(dx / 2.0)\n",
    "    ystep = 1 if y1 < y2 else -1\n",
    "\n",
    "    # Iterate over bounding box generating points between start and end\n",
    "    y = y1\n",
    "    points = []\n",
    "    for x in range(x1, x2 + 1):\n",
    "        if allrows==1:\n",
    "            if nrow is None:\n",
    "                nrow = m.nrow\n",
    "            for row in range(nrow):\n",
    "                coord = (y, row, x) if is_steep else (x, row, y)\n",
    "                points.append(coord)\n",
    "        else:\n",
    "            coord = (y, x) if is_steep else (x, y)\n",
    "            points.append(coord)\n",
    "        error -= abs(dy)\n",
    "        if error < 0:\n",
    "            y += ystep\n",
    "            error += dx\n",
    "\n",
    "    # Reverse the list if the coordinates were swapped\n",
    "    if swapped:\n",
    "        points.reverse()\n",
    "    return points\n",
    "\n",
    "\n",
    "#make all cells=0 above the line from get_line()\n",
    "#Calculate freshwater head based on column of saltwater above each node (rho*g*z)\n",
    "def shade_above(nlay,nrow,ncol,point_list,third_dim=1):\n",
    "    import numpy as np\n",
    "    grd = np.ones((nlay,nrow,ncol),dtype='int')\n",
    "    ocean_hf = []\n",
    "    if len(point_list)==0:\n",
    "        return grd,ocean_hf\n",
    "    for (lay,row,col) in point_list:\n",
    "        grd[lay,:,col] = -1 #assign ocean ibound to -1\n",
    "        grd[:lay,:,col] = 0 #assign cells above ocean to 0\n",
    "        hf = densefresh/densesalt*ocean_elev - (densesalt - densefresh)/densefresh*(henry_botm[lay] +.5*delv)\n",
    "        for irow in range(nrow):\n",
    "            ocean_hf.append((int(lay),int(irow),int(col),hf))\n",
    "    ocean_hf = tuple(np.array(ocean_hf).T)\n",
    "    ocean_hf = (ocean_hf[0].astype('int'),\n",
    "                ocean_hf[1].astype('int'),\n",
    "                ocean_hf[2].astype('int'),\n",
    "                ocean_hf[3])\n",
    "    return grd,ocean_hf\n",
    "\n",
    "def get_ocean_right_edge(m,ocean_line_tuple,startlay=None,col=None):\n",
    "    import numpy as np\n",
    "    point_list = []\n",
    "    if col is None:\n",
    "        col = m.ncol-1\n",
    "    #If there is no vertical side boundary, return bottom-right corner node\n",
    "    if len(ocean_line_tuple)==0:\n",
    "        if startlay is None:\n",
    "            startlay = 0\n",
    "    elif max(ocean_line_tuple[0])==m.nlay:\n",
    "        startlay = m.nlay\n",
    "    elif max(ocean_line_tuple[0])<m.nlay:\n",
    "        startlay = max(ocean_line_tuple[0])\n",
    "    for lay in range(startlay,m.nlay):\n",
    "        for row in range(m.nrow):\n",
    "            point_list.append((lay,row,col))\n",
    "    point_list = tuple(np.array(point_list).T)\n",
    "    return point_list\n",
    "\n",
    "def add_pumping_wells(wel_data,ssm_data,n_wells,flx,rowcol,kper):\n",
    "    itype = flopy.mt3d.Mt3dSsm.itype_dict()\n",
    "    new_weldata = wel_data\n",
    "    new_ssmdata = ssm_data\n",
    "    wel_cells = []\n",
    "    for k in range(n_wells):\n",
    "        row,col = rowcol[k]\n",
    "        for i in range(nper):\n",
    "            if i in kper:\n",
    "                for j in range(nlay):\n",
    "                    #WEL {stress_period: [lay,row,col,flux]}\n",
    "                    new_weldata[i].append([j,row,col,-flx[k]*delv_weight[j]])\n",
    "                    wel_cells.append((j,row,col))\n",
    "                    #SSM: {stress_period: [lay,row,col,concentration,itype]}\n",
    "                    new_ssmdata[i].append([j,row,col,Cfresh,itype['WEL']]) #since it's a sink, conc. doesn't matter\n",
    "            else:\n",
    "                for j in range(nlay):\n",
    "                    #WEL {stress_period: [lay,row,col,flux]}\n",
    "                    new_weldata[i].append([j,row,col,0])\n",
    "                    #SSM: {stress_period: [lay,row,col,concentration,itype]}\n",
    "                    new_ssmdata[i].append([j,row,col,Cfresh,itype['WEL']]) #since it's a sink, conc. doesn't matter\n",
    "                    wel_cells.append((j,row,col))\n",
    "                continue\n",
    "    wel_cells = tuple(np.array(list(set(wel_cells))).T)\n",
    "    return new_weldata, new_ssmdata,wel_cells\n",
    "\n",
    "#Add recharge if desired\n",
    "def make_rech_array(low=1e-2,high=1e0):\n",
    "    import scipy.stats as sts\n",
    "    llow,lhigh = np.log10((low,high))\n",
    "    rech = np.exp(sts.uniform.rvs(size=1,loc=llow,scale=lhigh-llow)[0])\n",
    "    return rech/(nrow*ncol)\n",
    "\n",
    "def add_recharge_cells(recharge_generator,const=1,*args):\n",
    "    if const==1:\n",
    "        rech_data = recharge_generator(*args)\n",
    "    else:\n",
    "        rech_data = {}\n",
    "        for i in range(nper):\n",
    "            rech_array = recharge_generator(*args)\n",
    "        rech_data[i] = rech_array\n",
    "    return rech_data\n",
    "\n",
    "def sample_dist(distclass,size,*args):\n",
    "    smp = distclass.rvs(*args,size=size)\n",
    "    if size==1:\n",
    "        smp=smp[-1]\n",
    "    return smp\n",
    "\n",
    "def write_sample(fname,varname,distclass,sample):\n",
    "    fout= open(fname,\"a\")\n",
    "    fout.write(varname + ',' + str(type(distclass)) + ',' + str(sample) + '\\n')\n",
    "    fout.close()\n",
    "    return\n",
    "\n",
    "def truncate_grf(grid,lith_props,hk_vals,log10trans=True,plotyn=False,saveyn=False):\n",
    "    grid_cutoffs = []\n",
    "    for q in np.cumsum(lith_props):\n",
    "        grid_cutoffs.append(np.quantile(grid,q))\n",
    "\n",
    "    if plotyn:\n",
    "        h = plt.hist(grid.flatten())\n",
    "        for cutoff in grid_cutoffs:\n",
    "            plt.vlines(cutoff,0,14000)\n",
    "        plt.show()\n",
    "\n",
    "    outgrid = np.ones(grid.shape,dtype=np.float32)\n",
    "    for i,cutoff in reversed(list(enumerate(grid_cutoffs))):\n",
    "        outgrid[np.where(grid<cutoff)] = hk_vals[i]\n",
    "\n",
    "    if plotyn:\n",
    "        f,axs = plt.subplots(2,1,sharex=True)\n",
    "        axs[0].imshow(grid[:,0,:])\n",
    "        axs[1].imshow(outgrid[:,0,:])\n",
    "        if saveyn:\n",
    "            plt.savefig(m.MC_file.parent.joinpath('Truncated_GRF.png').as_posix(),resolution=300)\n",
    "    if log10trans:\n",
    "        return np.power(10,outgrid)\n",
    "    else:\n",
    "        return outgrid\n",
    "\n",
    "def make_timestamp(YMD=True,HM=True):\n",
    "    import datetime\n",
    "    if YMD:\n",
    "        ymd = '%Y%m%d'\n",
    "    else:\n",
    "        ymd = ''\n",
    "    if HM:\n",
    "        hm = '%H%M'\n",
    "    else:\n",
    "        hm = ''\n",
    "    if YMD and HM:\n",
    "        sep = '_'\n",
    "    else:\n",
    "        sep = ''\n",
    "    return datetime.datetime.now().strftime('{}{}{}'.format(ymd,sep,hm))\n",
    "\n",
    "def pec_num(delv,delc,delr,al):\n",
    "    delL = (delv,delc,delr) #length in the lay,row,col directions\n",
    "    pec_num = [round(d/al,2) for d in delL]\n",
    "    for num,point  in zip(pec_num,('lay','row','col')):\n",
    "        print('Pe = {} in the {} direction'.format(num,point))\n",
    "    return pec_num\n",
    "\n",
    "#%%"
   ]
  },
  {
   "cell_type": "code",
   "execution_count": 26,
   "metadata": {},
   "outputs": [
    {
     "name": "stdout",
     "output_type": "stream",
     "text": [
      "CPU times: user 406 ms, sys: 38.1 ms, total: 445 ms\n",
      "Wall time: 449 ms\n"
     ]
    }
   ],
   "source": [
    "%%time\n",
    "\n",
    "nmgwmdir_cal_empty = nmgwmdir_cal.parent.joinpath('nmgwmdir_empty')\n",
    "m_nm= flopy.modflow.Modflow.load('nm_cali.nam',version='mf2k',verbose=False,check=False,model_ws=nmgwmdir_cal_empty.as_posix())\n",
    "# m = flopy.modflow.Modflow.load(nmgwmdir_uncal.joinpath('C1-12_copy.nam').as_posix(),version='mf2k',verbose=False,check=False,model_ws=outputdir.joinpath('C1').as_posix())\n",
    "m_nm.exe_name = config.mf2000exe\n",
    "if not m_nm.DIS.lenuni==2:\n",
    "    m_nm.DIS.delr *= .3048\n",
    "    m_nm.DIS.delc *= .3048\n",
    "    m_nm.DIS.top *= .3048\n",
    "    m_nm.DIS.botm *= .3048\n",
    "m_nm.DIS.lenuni = 2\n",
    "m_nm.DIS.itmuni=4\n",
    "m_nm.DIS.rotation=-13.5\n",
    "# m_nm.DIS.xul = xll + 18288.0*np.sin(13.5*180/np.pi) #upper left UTM Zone 10N\n",
    "# m_nm.DIS.yul = yll + 18288.0*np.cos(13.5*180/np.pi)  #upper left UTM Zone 10N\n",
    "m_nm.DIS.proj4_str = p.srs\n",
    "m_nm.modelgrid.set_coord_info(xoff=xll, yoff=yll, angrot=rotation, proj4=p.srs)#,epsg='nad83-utm-zone-10n')\n",
    "\n",
    "\n",
    "'''\n",
    "#If need be, write a skeleton of m_nm for faster loading\n",
    "m_nm.model_ws = nmgwmdir_cal.parent.joinpath('nmgwmdir_empty').as_posix()\n",
    "\n",
    "\n",
    "\n",
    "for p in m_nm.get_package_list():\n",
    "    if p != 'DIS':\n",
    "        try:\n",
    "            m_nm.remove_package(p)\n",
    "        except:\n",
    "            pass\n",
    "m_nm.write_input()\n",
    "'''"
   ]
  },
  {
   "cell_type": "code",
   "execution_count": 32,
   "metadata": {},
   "outputs": [],
   "source": [
    "start_nm_yr = 1979\n",
    "start_nm_mo = 10\n",
    "start_nm_str = 'Oct 1979'\n",
    "end_nm_yr = 2011\n",
    "end_nm_mo = 9\n",
    "end_nm_str = 'Sep 2011'\n",
    "Lt_nm = ( (end_nm_yr + end_nm_mo/12)  - (start_nm_yr + start_nm_mo/12) )     *365\n",
    "start_nm_datetime='{}/1/{}'.format(start_nm_mo,start_nm_yr)\n",
    "\n",
    "\n",
    "\n",
    "start_m_yr = 1979\n",
    "start_m_mo = 10\n",
    "start_m_str = 'Oct 1979'\n",
    "end_m_yr = 2011\n",
    "end_m_mo = 9\n",
    "end_m_str = 'Sep 2011'\n",
    "Lt_m = ( (end_m_yr + end_m_mo/12)  - (start_m_yr + start_m_mo/12) )     *365\n",
    "start_m_datetime='{}/1/{}'.format(start_m_mo,start_m_yr)\n"
   ]
  },
  {
   "cell_type": "code",
   "execution_count": 33,
   "metadata": {},
   "outputs": [
    {
     "name": "stdout",
     "output_type": "stream",
     "text": [
      "Model setup: \n",
      "nlay: 20\n",
      "nrow: 5\n",
      "ncol: 345\n",
      "Total cells: 34500\n",
      "Total time: 11649.583333333361 days\n",
      "nper: 63\n",
      "\n",
      "test_simpleSWI.nam\n",
      "adding Package:  DIS\n",
      "xll:597776.1386218522; yll:4067440.118259913; rotation:-13.5; proj4_str:epsg:26910; units:undefined; lenuni:0\n"
     ]
    }
   ],
   "source": [
    "#Name model\n",
    "modelname = 'test_simpleSWI'\n",
    "model_ws = workdir.joinpath(\"test_simpleSWI\")\n",
    "#Name model\n",
    "sw_exe = config.swexe #set the exe path for seawat\n",
    "\n",
    "#Model discretization\n",
    "Lz = 150.\n",
    "\n",
    "nrow,ncol,nlay,nper = m_nm.nrow_ncol_nlay_nper\n",
    "\n",
    "# rows = np.arange(100,102)\n",
    "rows = np.arange(160,165)\n",
    "# rows = np.arange(nrow)\n",
    "\n",
    "cols = np.arange(ncol)\n",
    "nrow =len(rows)\n",
    "ncol = len(cols)\n",
    "nlay=20\n",
    "\n",
    "\n",
    "henry_top = 2\n",
    "ocean_elev = 0\n",
    "delv_first = 4\n",
    "botm_first = henry_top-delv_first\n",
    "\n",
    "\n",
    "delv = (Lz-delv_first) / (nlay-1)\n",
    "delr = m_nm.dis.delr.array[0]\n",
    "delc = m_nm.dis.delc.array[0]\n",
    "\n",
    "henry_botm = np.hstack(([botm_first],np.linspace(botm_first-delv,henry_top-Lz,nlay-1)))\n",
    "delv_vec = np.hstack((delv_first,np.repeat(delv,nlay-1)))\n",
    "delv_weight = [x/np.sum(delv_vec) for x in delv_vec]\n",
    "\n",
    "\n",
    "topo_grid = np.load(GISdir.joinpath('topo_grid.npy'))\n",
    "henry_top = topo_grid[(slice(rows[0],rows[-1]+1),slice(cols[0],cols[-1]+1))]\n",
    "# henry_top = np.zeros((nrow,ncol))\n",
    "\n",
    "\n",
    "\n",
    "# beachslope = .05\n",
    "# ocean_col = [np.floor(ncol-1).astype('int'),ncol-1] #Manually done to make sure it's in the right place rn\n",
    "# ocean_col = [np.floor(ncol/2).astype('int'),ncol-1] #Manually done to make sure it's in the right place rn\n",
    "\n",
    "# inland_elev = beachslope*ocean_col[0]*delr\n",
    "# offshore_elev = -beachslope*(ocean_col[1]-ocean_col[0])*delr\n",
    "\n",
    "\n",
    "#Period data\n",
    "# nyrs= 2\n",
    "# Lt = 365*nyrs #Length of time in days\n",
    "\n",
    "perlen = list(np.repeat(365/2,int(Lt_m/(365/2))))\n",
    "nper = len(perlen)\n",
    "nstp = np.ones_like(perlen,dtype=np.int)\n",
    "\n",
    "# nstp = m_nm.dis.nstp.array\n",
    "# perlen = m_nm.dis.perlen.array\n",
    "# nper = m_nm.nper\n",
    "\n",
    "\n",
    "\n",
    "\n",
    "\n",
    "steady = [False for x in range(len(perlen))] #Never steady\n",
    "itmuni = 4 #time unit 4= days\n",
    "lenuni = 2 #length unit 2 = meter\n",
    "tsmult = 1.1\n",
    "ssm_data = None\n",
    "verbose = True\n",
    "\n",
    "print('Model setup: \\n'\n",
    "      'nlay: {}\\n'\n",
    "      'nrow: {}\\n'\n",
    "      'ncol: {}\\n'\n",
    "      'Total cells: {}\\n'\n",
    "      'Total time: {} days\\n'\n",
    "      'nper: {}\\n'.format(nlay,nrow,ncol,nlay*nrow*ncol,Lt_m,nper))\n",
    "# In[4]:\n",
    "\n",
    "#Create basic model instance and dis pacakge\n",
    "m = flopy.seawat.Seawat(modelname, exe_name=sw_exe, model_ws=model_ws.as_posix(),verbose=verbose)\n",
    "# SGD.ModelSGD.Seawat2SGD(m)  #convert to subclass ModelSGD\n",
    "print(m.namefile)\n",
    "\n",
    "# Add DIS package to the MODFLOW model\n",
    "dis = flopy.modflow.ModflowDis(m, nlay, nrow, ncol, nper=nper, delr=delr,\n",
    "                               delc=delc,\n",
    "                               laycbd=0, top=henry_top,\n",
    "                               botm=henry_botm, perlen=perlen, nstp=nstp,\n",
    "                               steady=steady,itmuni=itmuni,lenuni=lenuni,\n",
    "                               tsmult=tsmult,\n",
    "                               start_datetime=start_m_datetime)\n",
    "\n",
    "# xll=595855\n",
    "# yll = 4059438\n",
    "# rotation=-13.5\n",
    "# p = Proj(proj='utm',zone='10n',ellps='WGS84',units='meters', preserve_units=False)\n",
    "\n",
    "m.DIS.lenuni = 2\n",
    "m.DIS.itmuni=4\n",
    "m.DIS.rotation=-13.5\n",
    "# m.DIS.xul = xll + 18288.0*np.sin(13.5*180/np.pi) #upper left UTM Zone 10N\n",
    "# m.DIS.yul = yll + 18288.0*np.cos(13.5*180/np.pi)  #upper left UTM Zone 10N\n",
    "m.DIS.proj4_str = p.srs\n",
    "xll_m,yll_m = m_nm.modelgrid.xvertices[rows[-1]+1,0],m_nm.modelgrid.yvertices[rows[-1]+1,0]\n",
    "\n",
    "\n",
    "m.modelgrid.set_coord_info(xoff=xll_m, yoff=yll_m, angrot=rotation,epsg=26910)# proj4=p.srs)#,epsg='nad83-utm-zone-10n')\n",
    "print(m.modelgrid)\n",
    "\n"
   ]
  },
  {
   "cell_type": "code",
   "execution_count": 34,
   "metadata": {},
   "outputs": [],
   "source": [
    "m_empty = flopy.modflow.Modflow('m_empty', model_ws=model_ws.joinpath('m_empty').as_posix())\n",
    "\n",
    "\n",
    "flopy.modflow.ModflowDis(m_empty, nlay, nrow, ncol, nper=nper, delr=delr,\n",
    "                               delc=delc,\n",
    "                               laycbd=0, top=henry_top,\n",
    "                               botm=henry_botm, perlen=perlen, nstp=nstp,\n",
    "                               steady=steady,itmuni=itmuni,lenuni=lenuni,\n",
    "                               tsmult=tsmult,start_datetime=start_m_datetime)\n",
    "\n",
    "m_empty.DIS.lenuni = 2\n",
    "m_empty.DIS.itmuni=4\n",
    "m_empty.DIS.rotation=-13.5\n",
    "# m_empty.DIS.xul = xll + 18288.0*np.sin(13.5*180/np.pi) #upper left UTM Zone 10N\n",
    "# m_empty.DIS.yul = yll + 18288.0*np.cos(13.5*180/np.pi)  #upper left UTM Zone 10N\n",
    "m_empty.DIS.proj4_str = p.srs\n",
    "m_empty.modelgrid.set_coord_info(xoff=xll_m, yoff=yll_m, angrot=rotation, proj4=p.srs)#,epsg='nad83-utm-zone-10n')\n"
   ]
  },
  {
   "cell_type": "markdown",
   "metadata": {},
   "source": [
    "### Gridgen make grid"
   ]
  },
  {
   "cell_type": "raw",
   "metadata": {
    "scrolled": true
   },
   "source": [
    "%%time\n",
    "gridgen_ws = model_ws.joinpath('gridgen')\n",
    "if not gridgen_ws.exists():\n",
    "    gridgen_ws.mkdir()\n",
    "g = Gridgen(m_empty.dis, model_ws=gridgen_ws.as_posix(),exe_name=config.gridgenexe,surface_interpolation='replicate')\n",
    "g.build(verbose=False)"
   ]
  },
  {
   "cell_type": "markdown",
   "metadata": {},
   "source": [
    "### Import AEM data"
   ]
  },
  {
   "cell_type": "code",
   "execution_count": 35,
   "metadata": {},
   "outputs": [],
   "source": [
    "df_1719 = pd.read_pickle(datadir.joinpath('AEM','processed_df_1719.pkl'))\n",
    "df = df_1719.loc[df_1719.skytem_type==304,:]"
   ]
  },
  {
   "cell_type": "code",
   "execution_count": 63,
   "metadata": {},
   "outputs": [],
   "source": [
    "def utmrotate(x,y,x0=595855,y0=4059438,rotation=13.5,local=False):\n",
    "    rotation = rotation*np.pi/180\n",
    "    if local:\n",
    "        orig_x,orig_y = (0,0)\n",
    "    else:\n",
    "        orig_x,orig_y = (x0,y0)\n",
    "        \n",
    "    x_rot = np.cos(rotation)*(x-x0) - np.sin(rotation)*(y-y0) + orig_x\n",
    "    y_rot = np.sin(rotation)*(x-x0) + np.cos(rotation)*(y-y0) + orig_y\n",
    "    return x_rot,y_rot  \n",
    "def global_to_local(x_glob,y_glob,rotx0=xll,roty0=yll,x0_local=xmll_rot,y0_local=ymll_rot):\n",
    "    x_temp,y_temp = utmrotate(x_glob,y_glob,local=False,x0=rotx0,y0=roty0)\n",
    "    x_temp -= x0_local\n",
    "    y_temp -= y0_local\n",
    "    return np.stack((x_temp,y_temp),axis=1)"
   ]
  },
  {
   "cell_type": "code",
   "execution_count": 65,
   "metadata": {},
   "outputs": [
    {
     "name": "stdout",
     "output_type": "stream",
     "text": [
      "msk (25776,) \n",
      "xy (65, 2) \n",
      "Line (65, 1) \n",
      "dem (65,) \n",
      "height (65,) \n",
      "system (65,) \n",
      "rx_locations (65, 3) \n",
      "src_locations (65, 3) \n",
      "topo (65, 3) \n",
      "skytem_type (25776,) \n",
      "\n"
     ]
    }
   ],
   "source": [
    "from shapely.geometry import Point, Polygon\n",
    "coords = [(m_empty.modelgrid.xvertices[0,0], m_empty.modelgrid.yvertices[0,0]),\n",
    "          (m_empty.modelgrid.xvertices[-1,0], m_empty.modelgrid.yvertices[-1,0]),\n",
    "          (m_empty.modelgrid.xvertices[-1,-1], m_empty.modelgrid.yvertices[-1,-1]),\n",
    "          (m_empty.modelgrid.xvertices[0,-1], m_empty.modelgrid.yvertices[0,-1])\n",
    "         ]\n",
    "model_poly = Polygon(coords)\n",
    "msk_AEM = np.zeros(len(df),dtype=np.bool)\n",
    "for i,(x,y) in enumerate(zip(df.UTMX.values,df.UTMY.values)):\n",
    "    msk_AEM[i]=Point(x,y).within(model_poly)\n",
    "msk = np.logical_and(df.CHANNEL_NO==1, msk_AEM)\n",
    "iskip=6\n",
    "\n",
    "\n",
    "\n",
    "#xll,yll for local grid\n",
    "xmll,ymll = m_empty.modelgrid.xvertices[-1,0],m_empty.modelgrid.yvertices[-1,0]\n",
    "xmll_rot,ymll_rot = utmrotate(xmll,ymll,x0=xll,y0=yll)\n",
    "\n",
    "#TAKE THE LOCATION OF CHANNEL 1 FOR EACH SOUNDING\n",
    "# msk = np.logical_and(df.CHANNEL_NO==1, df.LINE_NO == line)\n",
    "x_m_rot,y_m_rot = utmrotate(m_empty.modelgrid.xvertices.flatten(),m_empty.modelgrid.yvertices.flatten(),local=False)\n",
    "\n",
    "\n",
    "xy_global = df.loc[msk,['UTMX', 'UTMY']].values[::iskip]\n",
    "xy = global_to_local(xy_global[:,0],xy_global[:,1])\n",
    "Line = df.loc[msk,['LINE_NO']].values[::iskip]\n",
    "dem = df.loc[msk,'ELEVATION'].values[::iskip]\n",
    "height = df.loc[msk,'INVALT'].values[::iskip]\n",
    "system = df.loc[msk,'skytem_type'].values[::iskip]\n",
    "msk_312 = system==312\n",
    "rx_locations = np.c_[xy[:,:], height+dem+2.]\n",
    "src_locations = np.c_[xy[:,:], height+dem]\n",
    "topo = np.c_[xy[:,:], dem]\n",
    "skytem_type = df.skytem_type.values\n",
    "n_sounding= xy.shape[0]\n",
    "\n",
    "\n",
    "\n",
    "\n",
    "dx,dy,dz = (m_empty.dis.delr.array[0],\n",
    "            m_empty.dis.delc.array[0],\n",
    "            m_empty.dis.botm[-1] - m_empty.dis.botm[-2])\n",
    "\n",
    "\n",
    "print ( 'msk',msk.shape,'\\n'\n",
    "'xy',xy.shape,'\\n'\n",
    "'Line',Line.shape,'\\n'\n",
    "'dem',dem.shape,'\\n'\n",
    "'height',height.shape,'\\n'\n",
    "'system',system.shape,'\\n'\n",
    "'rx_locations',rx_locations.shape,'\\n'\n",
    "'src_locations',src_locations.shape,'\\n'\n",
    "'topo',topo.shape,'\\n'\n",
    "'skytem_type',skytem_type.shape,'\\n')\n",
    "\n",
    "#nodenumber in grid corresponding to AEM locations\n",
    "# nodenumber_AEM = g.intersect(list(xy_global),'point',0).nodenumber"
   ]
  },
  {
   "cell_type": "code",
   "execution_count": 66,
   "metadata": {},
   "outputs": [],
   "source": [
    "def intersect_swi_contour(aquifer=180,yr_ind=None):\n",
    "    if aquifer==180:\n",
    "        yr = yrs_180[yr_ind]\n",
    "        f = sharedir.joinpath(\"chloride_contours\",\"by_year_180\",\"swi_180_{}\".format(yr)).as_posix()\n",
    "    elif aquifer==400:\n",
    "        yr = yrs_400[yr_ind]\n",
    "        f = sharedir.joinpath(\"chloride_contours\",\"by_year_400\",\"swi_400_{}\".format(yr)).as_posix()\n",
    "    else:\n",
    "        raise('enter either 180 or 400')\n",
    "    int_obj = g.intersect(f,'polygon',layer=layer)\n",
    "    a = np.zeros((g.nodes), dtype=np.int)\n",
    "    a[int_obj.nodenumber] = 1\n",
    "    return a.reshape((nlay,nrow,ncol),order='C')\n"
   ]
  },
  {
   "cell_type": "code",
   "execution_count": 67,
   "metadata": {},
   "outputs": [
    {
     "data": {
      "text/plain": [
       "<matplotlib.legend.Legend at 0x7ff1b88f6c10>"
      ]
     },
     "execution_count": 67,
     "metadata": {},
     "output_type": "execute_result"
    },
    {
     "data": {
      "image/png": "[encoded data removed]",
      "text/plain": [
       "<Figure size 288x360 with 1 Axes>"
      ]
     },
     "metadata": {
      "needs_background": "light"
     },
     "output_type": "display_data"
    }
   ],
   "source": [
    "import cartopy\n",
    "from matplotlib.transforms import offset_copy\n",
    "import cartopy.crs as ccrs\n",
    "import cartopy.io.img_tiles as cimgt\n",
    "\n",
    "transform = ccrs.UTM(10)\n",
    "\n",
    "# Create a Stamen terrain background instance.\n",
    "stamen_terrain = cimgt.Stamen('terrain-background')\n",
    "\n",
    "fig = plt.figure(figsize=(4,5))\n",
    "ax = fig.add_subplot(1, 1, 1, projection=stamen_terrain.crs)\n",
    "\n",
    "ax.add_image(stamen_terrain, 11)\n",
    "\n",
    "m_empty.modelgrid.plot(ax=ax,transform=transform,label='SEAWAT model grid',alpha=.5)\n",
    "\n",
    "ax.set_extent([596000., 620000.,4052000., 4075962.], crs=transform)\n",
    "\n",
    "plt.scatter(df.loc[msk,'UTMX'],df.loc[msk,'UTMY'],c='r',s=.5,transform=transform,label='valid AEM data',zorder=3)\n",
    "plt.scatter(df.loc[~msk,'UTMX'],df.loc[~msk,'UTMY'],c='k',s=.5,transform=transform,label='all AEM data',zorder=2)\n",
    "\n",
    "\n",
    "# shp180 =  flopy.plot.plot_shapefile(f_shp_400,ax=ax,transform=transform,                        \n",
    "#                           facecolor='none',edgecolor='r',label='Cl. contour 180-FA')\n",
    "# shp400 =flopy.plot.plot_shapefile(f_shp_180,ax=ax,transform=transform,                        \n",
    "#                           facecolor='none',edgecolor='orange',label='Cl. contour 400-FA')\n",
    "plt.legend()\n",
    "# plt.savefig(figdir.joinpath('AEM_valid_fieldsite.png'),dpi=300,bbox_inches='tight')"
   ]
  },
  {
   "cell_type": "markdown",
   "metadata": {},
   "source": [
    "#### Make layer_mapping_ind"
   ]
  },
  {
   "cell_type": "code",
   "execution_count": 68,
   "metadata": {},
   "outputs": [],
   "source": [
    "from scipy.interpolate import griddata\n",
    "\n",
    "def make_surf(grid_old,m_old,m_new,method='nearest'):\n",
    "    points = np.stack((m_old.modelgrid.xcellcenters.flatten(),m_old.modelgrid.ycellcenters.flatten())).T\n",
    "    values = grid_old.flatten()\n",
    "    grid_x=  m_new.modelgrid.xcellcenters\n",
    "    grid_y=  m_new.modelgrid.ycellcenters\n",
    "    return griddata(points, values, (grid_x, grid_y), method=method)\n",
    "\n",
    "botm_orig= m_nm.DIS.botm.array[:6]\n",
    "layer_mapping = np.zeros((7,nlay,nrow,ncol),dtype=bool)\n",
    "for lay in range(7):\n",
    "    if lay==0:\n",
    "        ind_inlay = np.zeros((nlay,nrow,ncol),dtype=np.bool)\n",
    "        ind_inlay[0,:,:] = True\n",
    "    elif lay==6:\n",
    "#         botm_orig_lay = interp_surf2newgrid(botm_orig[lay-1])\n",
    "        botm_orig_lay = make_surf(botm_orig[-1],m_nm,m_empty)\n",
    "        ind_inlay = m_empty.dis.botm.array<botm_orig_lay\n",
    "    else:\n",
    "        botm_orig_lay = make_surf(botm_orig[lay],m_nm,m_empty)\n",
    "        top_orig_lay = make_surf(botm_orig[lay-1],m_nm,m_empty)\n",
    "        ind_inlay =np.logical_and(m_empty.dis.botm.array>=botm_orig_lay,\n",
    "                                  m_empty.dis.botm.array<top_orig_lay)\n",
    "    layer_mapping[lay,:,:,:] = ind_inlay\n",
    "    \n",
    "layer_mapping_ind = np.zeros((nlay,nrow,ncol),dtype=int)\n",
    "for lay in range(7):\n",
    "    if lay==0:\n",
    "        val=-50\n",
    "    if lay==6:\n",
    "        val=50\n",
    "    else:\n",
    "        val=lay\n",
    "    layer_mapping_ind+=layer_mapping[lay].astype(int)*val\n",
    "    \n",
    "layer_mapping_ind[layer_mapping_ind<=0]= 0\n",
    "layer_mapping_ind[layer_mapping_ind>=6]=6\n"
   ]
  },
  {
   "cell_type": "code",
   "execution_count": 69,
   "metadata": {},
   "outputs": [],
   "source": [
    "    nlay,nrow,ncol = (m_empty.nlay,\n",
    "                      m_empty.nrow,\n",
    "                      m_empty.ncol)\n",
    "    dx,dy,dz = (m_empty.dis.delr.array[0],\n",
    "                m_empty.dis.delc.array[0],\n",
    "                 m_empty.dis.botm[-2]-m_empty.dis.botm[-1])\n",
    "    Lx,Ly,Lz = (dx*ncol,\n",
    "                dy*nrow,\n",
    "                dz*nlay)\n"
   ]
  },
  {
   "cell_type": "raw",
   "metadata": {},
   "source": [
    "def create_mesh(m_empty,n_pad_ocean = 20,n_pad_inland = 20,n_pad_row = 20):\n",
    "    nlay,nrow,ncol = (m_empty.nlay,\n",
    "                      m_empty.nrow,\n",
    "                      m_empty.ncol)\n",
    "    dx,dy,dz = (m_empty.dis.delr.array[0],\n",
    "                m_empty.dis.delc.array[0],\n",
    "                 m_empty.dis.botm[-2] - m_empty.dis.botm[-1])\n",
    "    Lx,Ly,Lz = (dx*ncol,\n",
    "                dy*nrow,\n",
    "                dz*nlay)\n",
    "    \n",
    "    #rotation\n",
    "    rotation = -13.5\n",
    "    u_ratio = np.tan(rotation*np.pi/180)\n",
    "    v_ratio = np.tan(rotation*np.pi/180 - np.pi/2)\n",
    "\n",
    "    x=1\n",
    "    axis_u=(1,-np.abs(u_ratio),0)\n",
    "    axis_v=(-1,-np.abs(v_ratio),0)\n",
    "\n",
    "    axis_w = (0,0,1)\n",
    "    axis_u /= np.sqrt(np.sum(np.array(axis_u)**2))\n",
    "    axis_v /= np.sqrt(np.sum(np.array(axis_v)**2))\n",
    "    \n",
    "    n_sounding_x = ncol\n",
    "    n_sounding_y = nrow\n",
    "\n",
    "    hx = np.ones(ncol+n_pad_ocean+n_pad_inland) * dx\n",
    "    hy = np.ones(nrow + 2*n_pad_row) * dy\n",
    "    hz = np.ones(120)*dz\n",
    "    x0 = (-n_pad_inland*dx,-n_pad_row*dy,-300)\n",
    "    return Mesh.TensorMesh([hx, hy, hz],x0=x0,axis_u=axis_u,axis_v=axis_v,axis_w=axis_w)"
   ]
  },
  {
   "cell_type": "code",
   "execution_count": 70,
   "metadata": {
    "scrolled": false
   },
   "outputs": [
    {
     "data": {
      "text/html": [
       "<table>\n",
       "  <tr>\n",
       "    <td style='font-weight: bold; font-size: 1.2em; text-align: center;' colspan='3'>TensorMesh</td>\n",
       "    <td style='font-size: 1.2em; text-align: center;'colspan='4'>2,002,500 cells</td>\n",
       "  </tr>\n",
       "  <tr>\n",
       "    <th></th>\n",
       "    <th></th>\n",
       "    <th colspan='2' style='padding: 5px 20px 5px 20px;'>MESH EXTENT</th>\n",
       "    <th colspan='2' style='padding: 5px 20px 5px 20px;'>CELL WIDTH</th>\n",
       "    <th style='padding: 5px 20px 5px 20px;'>FACTOR</th>\n",
       "  </tr>\n",
       "  <tr>\n",
       "    <th style='padding: 5px 20px 5px 20px;'>dir</th>\n",
       "    <th style='padding: 5px 20px 5px 20px;'>nC</th>\n",
       "    <th style='padding: 5px 20px 5px 20px;'>min</th>\n",
       "    <th style='padding: 5px 20px 5px 20px;'>max</th>\n",
       "    <th style='padding: 5px 20px 5px 20px;'>min</th>\n",
       "    <th style='padding: 5px 20px 5px 20px;'>max</th>\n",
       "    <th style='padding: 5px 20px 5px 20px;'>max</th>\n",
       "  </tr>\n",
       "  <tr>\n",
       "    <td style='padding: 5px 20px 5px 20px;'>x</td>\n",
       "    <td style='padding: 5px 20px 5px 20px;'>445</td>\n",
       "    <td style='padding: 5px 20px 5px 20px;'>0.00</td>\n",
       "    <td style='padding: 5px 20px 5px 20px;'>27,127.20</td>\n",
       "    <td style='padding: 5px 20px 5px 20px;'>60.96</td>\n",
       "    <td style='padding: 5px 20px 5px 20px;'>60.96</td>\n",
       "    <td style='padding: 5px 20px 5px 20px;'>1.00</td>\n",
       "  </tr>\n",
       "  <tr>\n",
       "    <td style='padding: 5px 20px 5px 20px;'>y</td>\n",
       "    <td style='padding: 5px 20px 5px 20px;'>45</td>\n",
       "    <td style='padding: 5px 20px 5px 20px;'>-1,219.20</td>\n",
       "    <td style='padding: 5px 20px 5px 20px;'>1,524.00</td>\n",
       "    <td style='padding: 5px 20px 5px 20px;'>60.96</td>\n",
       "    <td style='padding: 5px 20px 5px 20px;'>60.96</td>\n",
       "    <td style='padding: 5px 20px 5px 20px;'>1.00</td>\n",
       "  </tr>\n",
       "  <tr>\n",
       "    <td style='padding: 5px 20px 5px 20px;'>z</td>\n",
       "    <td style='padding: 5px 20px 5px 20px;'>100</td>\n",
       "    <td style='padding: 5px 20px 5px 20px;'>-493.79</td>\n",
       "    <td style='padding: 5px 20px 5px 20px;'>274.63</td>\n",
       "    <td style='padding: 5px 20px 5px 20px;'>7.68</td>\n",
       "    <td style='padding: 5px 20px 5px 20px;'>7.68</td>\n",
       "    <td style='padding: 5px 20px 5px 20px;'>1.00</td>\n",
       "  </tr>\n",
       "</table>\n"
      ],
      "text/plain": [
       "\n",
       "  TensorMesh: 2,002,500 cells\n",
       "\n",
       "                      MESH EXTENT             CELL WIDTH      FACTOR\n",
       "  dir    nC        min           max         min       max      max\n",
       "  ---   ---  ---------------------------  ------------------  ------\n",
       "   x    445          0.00     27,127.20     60.96     60.96    1.00\n",
       "   y     45     -1,219.20      1,524.00     60.96     60.96    1.00\n",
       "   z    100       -493.79        274.63      7.68      7.68    1.00\n"
      ]
     },
     "execution_count": 70,
     "metadata": {},
     "output_type": "execute_result"
    }
   ],
   "source": [
    "#rotation\n",
    "rotation = -13.5\n",
    "u_ratio = np.tan(rotation*np.pi/180)\n",
    "v_ratio = np.tan(rotation*np.pi/180 - np.pi/2)\n",
    "\n",
    "x=1\n",
    "axis_u=(1,-np.abs(u_ratio),0)\n",
    "axis_v=(-1,-np.abs(v_ratio),0)\n",
    "\n",
    "axis_w = (0,0,1)\n",
    "axis_u /= np.sqrt(np.sum(np.array(axis_u)**2))\n",
    "axis_v /= np.sqrt(np.sum(np.array(axis_v)**2))\n",
    "\n",
    "\n",
    "n_pad_ocean = 0\n",
    "n_pad_inland = 100\n",
    "n_pad_row = 20\n",
    "\n",
    "\n",
    "hx = np.ones(ncol+n_pad_ocean+n_pad_inland) * dx\n",
    "hy = np.ones(nrow + 2*n_pad_row) * dy\n",
    "# hz = np.ones(71)*dz\n",
    "hz = np.ones(100)*dz\n",
    "\n",
    "\n",
    "\n",
    "# x0 = (-n_pad_inland*dx +x_m_rot.min(),-n_pad_row*dy + y_m_rot.min(),-386.21)\n",
    "# x0 = (-n_pad_ocean*dx,-n_pad_row*dy,-386.21)\n",
    "x0 = (-n_pad_ocean*dx,-n_pad_row*dy,-493.78885742)\n",
    "\n",
    "mesh = Mesh.TensorMesh([hx, hy, hz],x0=x0,axis_u=axis_u,axis_v=axis_v,axis_w=axis_w)\n",
    "mesh"
   ]
  },
  {
   "cell_type": "markdown",
   "metadata": {},
   "source": [
    "#### Find active indices"
   ]
  },
  {
   "cell_type": "code",
   "execution_count": 71,
   "metadata": {
    "scrolled": true
   },
   "outputs": [
    {
     "data": {
      "text/plain": [
       "(<matplotlib.collections.QuadMesh at 0x7ff1b5b43a90>,)"
      ]
     },
     "execution_count": 71,
     "metadata": {},
     "output_type": "execute_result"
    },
    {
     "data": {
      "image/png": "[encoded data removed]",
      "text/plain": [
       "<Figure size 432x288 with 1 Axes>"
      ]
     },
     "metadata": {
      "needs_background": "light"
     },
     "output_type": "display_data"
    }
   ],
   "source": [
    "from SimPEG.Utils import plot2Ddata, surface2ind_topo\n",
    "x_nm,y_nm = utmrotate(m_nm.modelgrid.xcellcenters.flatten(),\n",
    "                              m_nm.modelgrid.ycellcenters.flatten(),\n",
    "                             x0=xll,y0=yll)\n",
    "x_nm -= xmll_rot\n",
    "y_nm-= ymll_rot\n",
    "\n",
    "sealevel_X,sealevel_Y = np.meshgrid(mesh.vectorCCx,mesh.vectorCCy)\n",
    "sealevel_xyz = np.stack((sealevel_X.flatten(),sealevel_Y.flatten(),np.zeros(sealevel_X.size)),axis=1)\n",
    "topo_xyz =np.stack((x_nm.flatten(),\n",
    "                    y_nm.flatten(),\n",
    "                    topo_grid.flatten()),axis=1)\n",
    "\n",
    "actv = surface2ind_topo(mesh,topo_xyz) #True if below ground surface \n",
    "isabove_sealevel = ~surface2ind_topo(mesh,sealevel_xyz) #True if below sea level\n",
    "mesh.plotSlice(isabove_sealevel&actv ,normal='Y',ind=n_pad_row,grid=False)"
   ]
  },
  {
   "cell_type": "markdown",
   "metadata": {},
   "source": [
    "#### Get indices for inserted MODFLOW grids"
   ]
  },
  {
   "cell_type": "code",
   "execution_count": 72,
   "metadata": {},
   "outputs": [],
   "source": [
    "ind_bot_lay_0 = np.argmin(np.abs(mesh.vectorNz- -2 ))\n",
    "ind_bot_lay_19 = ind_bot_lay_0 - 19\n",
    "\n",
    "modflow_insert = np.zeros(mesh.vnC,dtype=np.bool)\n",
    "modflow_insert[n_pad_ocean:mesh.vnC[0]-n_pad_inland,\n",
    "               n_pad_row:mesh.vnC[1]-n_pad_row,\n",
    "               ind_bot_lay_19:ind_bot_lay_0] = True\n",
    "modflow_insert = modflow_insert.flatten(order='F')\n",
    "\n",
    "\n",
    "#Insert a grid from seawat into simpeg mesh (here layer_mapping_ind)\n",
    "#If simpeg grid is in 1-D form\n",
    "z_mesh = np.zeros(mesh.nC)\n",
    "z_mesh[modflow_insert] = np.transpose(layer_mapping_ind[1:,:,:],(2,1,0)).flatten(order='F')\n",
    "\n",
    "\n",
    "#If simpeg grid is in 3-D form\n",
    "z_mesh = np.zeros(mesh.vnC)\n",
    "z_mesh[modflow_insert.reshape(mesh.vnC,order='F')] = np.transpose(layer_mapping_ind[1:,:,:],(2,1,0)).flatten(order='C')\n",
    "\n",
    "# mesh.plotSlice(modflow_insert,normal='Y',ind=n_pad_row,grid=False)"
   ]
  },
  {
   "cell_type": "code",
   "execution_count": 73,
   "metadata": {},
   "outputs": [
    {
     "data": {
      "image/png": "[encoded data removed]",
      "text/plain": [
       "<Figure size 432x288 with 1 Axes>"
      ]
     },
     "metadata": {
      "needs_background": "light"
     },
     "output_type": "display_data"
    },
    {
     "data": {
      "text/plain": [
       "<Figure size 432x288 with 0 Axes>"
      ]
     },
     "metadata": {},
     "output_type": "display_data"
    },
    {
     "data": {
      "image/png": "[encoded data removed]",
      "text/plain": [
       "<Figure size 432x288 with 4 Axes>"
      ]
     },
     "metadata": {
      "needs_background": "light"
     },
     "output_type": "display_data"
    }
   ],
   "source": [
    "z_mesh = np.zeros(mesh.vnC)\n",
    "z_mesh[modflow_insert.reshape(mesh.vnC,order='F')] = np.transpose(layer_mapping_ind[1:,:,:],(2,1,0)).flatten(order='C')\n",
    "mesh.plotSlice(z_mesh ,normal='Y',ind=n_pad_row,grid=False)\n",
    "# plt.ylim(-200,0)\n",
    "# plt.xlim(0,3000)\n",
    "plt.figure()\n",
    "mesh.plot_3d_slicer(z_mesh)"
   ]
  },
  {
   "cell_type": "code",
   "execution_count": 74,
   "metadata": {},
   "outputs": [
    {
     "ename": "NameError",
     "evalue": "name 'rho_grid' is not defined",
     "output_type": "error",
     "traceback": [
      "\u001b[0;31m---------------------------------------------------------------------------\u001b[0m",
      "\u001b[0;31mNameError\u001b[0m                                 Traceback (most recent call last)",
      "\u001b[0;32m<ipython-input-74-2fba2c1479f5>\u001b[0m in \u001b[0;36m<module>\u001b[0;34m\u001b[0m\n\u001b[1;32m     20\u001b[0m \u001b[0;34m\u001b[0m\u001b[0m\n\u001b[1;32m     21\u001b[0m \u001b[0mplt\u001b[0m\u001b[0;34m.\u001b[0m\u001b[0mscatter\u001b[0m\u001b[0;34m(\u001b[0m\u001b[0mxtemp\u001b[0m\u001b[0;34m,\u001b[0m\u001b[0mytemp\u001b[0m\u001b[0;34m,\u001b[0m\u001b[0mc\u001b[0m\u001b[0;34m=\u001b[0m\u001b[0;34m'r'\u001b[0m\u001b[0;34m,\u001b[0m\u001b[0ms\u001b[0m\u001b[0;34m=\u001b[0m\u001b[0;36m10\u001b[0m\u001b[0;34m,\u001b[0m\u001b[0mzorder\u001b[0m\u001b[0;34m=\u001b[0m\u001b[0;36m3\u001b[0m\u001b[0;34m,\u001b[0m\u001b[0mlabel\u001b[0m\u001b[0;34m=\u001b[0m\u001b[0;34m'AEM data outside grid'\u001b[0m\u001b[0;34m)\u001b[0m\u001b[0;34m\u001b[0m\u001b[0;34m\u001b[0m\u001b[0m\n\u001b[0;32m---> 22\u001b[0;31m \u001b[0mq\u001b[0m \u001b[0;34m=\u001b[0m \u001b[0mmesh\u001b[0m\u001b[0;34m.\u001b[0m\u001b[0mplotSlice\u001b[0m\u001b[0;34m(\u001b[0m\u001b[0mrho_grid\u001b[0m\u001b[0;34m,\u001b[0m\u001b[0mind\u001b[0m\u001b[0;34m=\u001b[0m\u001b[0mint\u001b[0m\u001b[0;34m(\u001b[0m\u001b[0mind_bot_lay_0\u001b[0m\u001b[0;34m)\u001b[0m\u001b[0;34m-\u001b[0m\u001b[0;36m1\u001b[0m\u001b[0;34m,\u001b[0m\u001b[0mgrid\u001b[0m\u001b[0;34m=\u001b[0m\u001b[0;32mTrue\u001b[0m\u001b[0;34m,\u001b[0m\u001b[0max\u001b[0m\u001b[0;34m=\u001b[0m\u001b[0max\u001b[0m\u001b[0;34m)\u001b[0m\u001b[0;31m#,pcolorOpts={'alpha':0})\u001b[0m\u001b[0;34m\u001b[0m\u001b[0;34m\u001b[0m\u001b[0m\n\u001b[0m\u001b[1;32m     23\u001b[0m \u001b[0mplt\u001b[0m\u001b[0;34m.\u001b[0m\u001b[0mscatter\u001b[0m\u001b[0;34m(\u001b[0m\u001b[0mxy\u001b[0m\u001b[0;34m[\u001b[0m\u001b[0;34m:\u001b[0m\u001b[0;34m,\u001b[0m\u001b[0;36m0\u001b[0m\u001b[0;34m]\u001b[0m\u001b[0;34m,\u001b[0m\u001b[0mxy\u001b[0m\u001b[0;34m[\u001b[0m\u001b[0;34m:\u001b[0m\u001b[0;34m,\u001b[0m\u001b[0;36m1\u001b[0m\u001b[0;34m]\u001b[0m\u001b[0;34m,\u001b[0m\u001b[0mc\u001b[0m\u001b[0;34m=\u001b[0m\u001b[0;34m'k'\u001b[0m\u001b[0;34m,\u001b[0m\u001b[0ms\u001b[0m\u001b[0;34m=\u001b[0m\u001b[0;36m30\u001b[0m\u001b[0;34m,\u001b[0m\u001b[0mzorder\u001b[0m\u001b[0;34m=\u001b[0m\u001b[0;36m4\u001b[0m\u001b[0;34m,\u001b[0m\u001b[0mlabel\u001b[0m\u001b[0;34m=\u001b[0m\u001b[0;34m'AEM data in grid'\u001b[0m\u001b[0;34m)\u001b[0m\u001b[0;34m\u001b[0m\u001b[0;34m\u001b[0m\u001b[0m\n\u001b[1;32m     24\u001b[0m \u001b[0;34m\u001b[0m\u001b[0m\n",
      "\u001b[0;31mNameError\u001b[0m: name 'rho_grid' is not defined"
     ]
    },
    {
     "data": {
      "image/png": "[encoded data removed]",
      "text/plain": [
       "<Figure size 360x432 with 1 Axes>"
      ]
     },
     "metadata": {
      "needs_background": "light"
     },
     "output_type": "display_data"
    },
    {
     "data": {
      "image/png": "[encoded data removed]",
      "text/plain": [
       "<Figure size 360x432 with 1 Axes>"
      ]
     },
     "metadata": {
      "needs_background": "light"
     },
     "output_type": "display_data"
    }
   ],
   "source": [
    "f,ax=plt.subplots(1,figsize=(5,6))\n",
    "\n",
    "xtemp,ytemp =utmrotate(df.UTMX,df.UTMY)\n",
    "xtemp -= xmll_rot\n",
    "ytemp-= ymll_rot\n",
    "\n",
    "plt.scatter(xtemp,ytemp,c='r',s=10,zorder=3,label='AEM data outside grid')\n",
    "q = mesh.plotSlice(modflow_insert.astype(int),ind=int(ind_bot_lay_0)-1,grid=True,ax=ax,clim=(0,1))#,pcolorOpts={'alpha':0})\n",
    "plt.scatter(xy[:,0],xy[:,1],c='k',s=30,zorder=4,label='AEM data in grid')\n",
    "\n",
    "plt.xlim(10000, 12000)\n",
    "plt.ylim(-1000,1000)\n",
    "plt.title('Zoom-in of local grid')\n",
    "ax.set_aspect(1)\n",
    "plt.legend()\n",
    "# plt.savefig(figdir.joinpath('Localgrid_AEMdata.png'),dpi=300,bbox_inches='tight')\n",
    "\n",
    "\n",
    "f,ax=plt.subplots(1,figsize=(5,6))\n",
    "\n",
    "plt.scatter(xtemp,ytemp,c='r',s=10,zorder=3,label='AEM data outside grid')\n",
    "q = mesh.plotSlice(rho_grid,ind=int(ind_bot_lay_0)-1,grid=True,ax=ax)#,pcolorOpts={'alpha':0})\n",
    "plt.scatter(xy[:,0],xy[:,1],c='k',s=30,zorder=4,label='AEM data in grid')\n",
    "\n",
    "plt.xlim(10000, 12000)\n",
    "plt.ylim(-1000,1000)\n",
    "plt.title('Zoom-in of local grid')\n",
    "ax.set_aspect(1)\n",
    "plt.legend()\n"
   ]
  },
  {
   "cell_type": "code",
   "execution_count": null,
   "metadata": {},
   "outputs": [],
   "source": [
    "rho_grid"
   ]
  },
  {
   "cell_type": "markdown",
   "metadata": {},
   "source": [
    "### Create model"
   ]
  },
  {
   "cell_type": "code",
   "execution_count": 154,
   "metadata": {},
   "outputs": [],
   "source": [
    "def find_ocean(m,layer_mapping_ind):\n",
    "    ocean_line = []\n",
    "\n",
    "    for lay in range(m.dis.nlay):\n",
    "        for row in range(m.dis.nrow):\n",
    "            thislay = (lay,row,np.where(layer_mapping_ind[lay,row,:]!=0)[0][0])\n",
    "            ocean_line.append(thislay)\n",
    "            if lay==m.dis.nlay-1:\n",
    "                pass\n",
    "            else:\n",
    "                nextlay = (lay+1,row,np.where(layer_mapping_ind[lay+1,row,:]!=0)[0][0])\n",
    "                for col in np.arange(thislay[2],nextlay[2],-1):\n",
    "                    ocean_line.append((lay,row,col))\n",
    "    ocean_line = np.array(ocean_line).T\n",
    "\n",
    "\n",
    "    ocean_grid = np.zeros((nlay,nrow,ncol),dtype=np.bool)\n",
    "    ocean_grid[tuple(ocean_line)]=True\n",
    "    ocean_grid[m.modelgrid.zvertices[1:,:,:]>ocean_elev]=False\n",
    "    return ocean_line,ocean_grid\n",
    "\n",
    "ocean_line,ocean_grid = find_ocean(m_empty,layer_mapping_ind)"
   ]
  },
  {
   "cell_type": "code",
   "execution_count": 155,
   "metadata": {},
   "outputs": [
    {
     "data": {
      "text/plain": [
       "<matplotlib.image.AxesImage at 0x7f6e429a9340>"
      ]
     },
     "execution_count": 155,
     "metadata": {},
     "output_type": "execute_result"
    },
    {
     "data": {
      "image/png": "[encoded data removed]",
      "text/plain": [
       "<Figure size 432x288 with 1 Axes>"
      ]
     },
     "metadata": {
      "needs_background": "light"
     },
     "output_type": "display_data"
    }
   ],
   "source": [
    "plt.imshow(ocean_grid[:,0,:])\n"
   ]
  },
  {
   "cell_type": "code",
   "execution_count": 189,
   "metadata": {},
   "outputs": [],
   "source": [
    "hkSand = 100\n",
    "hkClay = 1\n",
    "mps180 = np.load(MPSdir.joinpath('reals','mps180_16node.npy'))\n",
    "# mps180[mps180==1]=hkSand\n",
    "# mps180[mps180==0]=hkClay\n",
    "\n",
    "sigma_bulk = np.zeros_like(mps180,dtype=np.float)\n",
    "sigma_bulk[mps180==0]=.1\n",
    "sigma_bulk[mps180==1]=.01\n",
    "\n",
    "\n",
    "#Slice it\n",
    "sigma_bulk = sigma_bulk[:,rows,:]\n",
    "\n",
    "#Set ocean resistivity \n",
    "for lay in range(sigma_bulk.shape[0]):\n",
    "    for row in range(sigma_bulk.shape[1]):\n",
    "        col = int(np.argwhere(ocean_grid[lay,row,:])[0])\n",
    "        sigma_bulk[lay,row,:col]=1/0.2\n",
    "\n",
    "rho_transf = 1/sigma_bulk\n",
    "rho_background = 20.\n"
   ]
  },
  {
   "cell_type": "code",
   "execution_count": 190,
   "metadata": {},
   "outputs": [
    {
     "data": {
      "text/plain": [
       "(20, 1, 345)"
      ]
     },
     "execution_count": 190,
     "metadata": {},
     "output_type": "execute_result"
    }
   ],
   "source": [
    "rho_transf[:,np.newaxis,0,:].shape"
   ]
  },
  {
   "cell_type": "code",
   "execution_count": 191,
   "metadata": {},
   "outputs": [],
   "source": [
    "#Row padding\n",
    "rho_transf = np.append(rho_transf,\n",
    "                       np.tile(rho_transf[:,np.newaxis,-1,:],(1,n_pad_row,1)),\n",
    "                       axis=1)\n",
    "\n",
    "\n",
    "rho_transf = np.append(np.tile(rho_transf[:,np.newaxis,0,:],(1,n_pad_row,1)),\n",
    "                       rho_transf,\n",
    "                       axis=1)\n",
    "\n",
    "\n",
    "\n",
    "#Inland padding\n",
    "rho_transf = np.append(rho_transf,\n",
    "                           rho_transf[:,:,-1].mean()*np.ones(\n",
    "                               (rho_transf.shape[0],rho_transf.shape[1],n_pad_inland)),axis=2)\n",
    "\n",
    "\n",
    "#Ocean padding\n",
    "rho_transf = np.append(rho_transf[:,:,0].min()*np.ones(\n",
    "                           (rho_transf.shape[0],rho_transf.shape[1],n_pad_ocean)),\n",
    "                       rho_transf,\n",
    "                       axis=2)\n",
    "\n",
    "rho_grid = np.ones(mesh.vnC)*rho_background\n",
    "rho_grid[:,:,ind_bot_lay_19:ind_bot_lay_0] = rho_transf[1:,:,:].transpose((2,1,0))[:,:,::-1]\n",
    "# np.transpose(rho_transf,(2,1,0))\n",
    "#First layer\n",
    "rho_grid[:,:,ind_bot_lay_0+1] = np.ones((mesh.vnC[0],mesh.vnC[1]))*1\n",
    "rho_grid[~(actv.reshape(mesh.vnC,order='F'))] = np.nan\n",
    "rho_grid = rho_grid.flatten(order='F')"
   ]
  },
  {
   "cell_type": "code",
   "execution_count": 192,
   "metadata": {
    "scrolled": false
   },
   "outputs": [
    {
     "data": {
      "image/png": "[encoded data removed]",
      "text/plain": [
       "<Figure size 432x288 with 4 Axes>"
      ]
     },
     "metadata": {
      "needs_background": "light"
     },
     "output_type": "display_data"
    }
   ],
   "source": [
    "mesh.plot_3d_slicer(rho_grid)\n"
   ]
  },
  {
   "cell_type": "code",
   "execution_count": 193,
   "metadata": {
    "scrolled": true
   },
   "outputs": [
    {
     "data": {
      "text/plain": [
       "<matplotlib.collections.PathCollection at 0x7f6e4838fe50>"
      ]
     },
     "execution_count": 193,
     "metadata": {},
     "output_type": "execute_result"
    },
    {
     "data": {
      "image/png": "[encoded data removed]",
      "text/plain": [
       "<Figure size 432x288 with 1 Axes>"
      ]
     },
     "metadata": {
      "needs_background": "light"
     },
     "output_type": "display_data"
    }
   ],
   "source": [
    "f,ax = plt.subplots(1)\n",
    "\n",
    "mesh.plotSlice(rho_grid,grid=False,ax=ax)\n",
    "plt.scatter(src_locations[:,0],src_locations[:,1],s=1,c='r')\n",
    "\n",
    "# plt.xlim(20000,22000)"
   ]
  },
  {
   "cell_type": "markdown",
   "metadata": {},
   "source": [
    "### Set up survey"
   ]
  },
  {
   "cell_type": "raw",
   "metadata": {},
   "source": [
    "waveform_dir = datadir.joinpath('AEM','aem_waveform_marina')\n",
    "\n",
    "\n",
    "### 304 Waveform ###\n",
    "area_304 = 337.04\n",
    "unit_conversion = 1e-12\n",
    "\n",
    "i_start_hm = 10\n",
    "i_start_lm = 10\n",
    "\n",
    "i_end_hm = -1\n",
    "i_end_lm = -2\n",
    "\n",
    "sl_hm_304 = slice(i_start_hm,i_end_hm)\n",
    "sl_lm_304 = slice(i_start_lm,i_end_lm)\n",
    "\n",
    "waveform_hm_304 = np.loadtxt(waveform_dir.joinpath('hm_304.txt'))\n",
    "waveform_lm_304 = np.loadtxt(waveform_dir.joinpath('lm_304.txt'))\n",
    "time_input_currents_HM_304 = waveform_hm_304[:,0] \n",
    "input_currents_HM_304 = waveform_hm_304[:,1]\n",
    "time_input_currents_LM_304 = waveform_lm_304[:,0] \n",
    "input_currents_LM_304 = waveform_lm_304[:,1]\n",
    "\n",
    "time_gates = np.loadtxt(waveform_dir.joinpath('time_gates.txt'))\n",
    "GateTimeShift=-1.8E-06\n",
    "MeaTimeDelay=0.000E+00\n",
    "NoGates=28\n",
    "t0_lm_304 = waveform_lm_304[:,0].max()\n",
    "# times_LM_304 = (time_gates[:NoGates,0] + GateTimeShift + MeaTimeDelay)[i_start_lm:] - t0_lm_304\n",
    "times_LM_304 = (time_gates[:NoGates,0] + GateTimeShift + MeaTimeDelay)[sl_lm_304] - t0_lm_304\n",
    "\n",
    "GateTimeShift=-1.4E-06\n",
    "MeaTimeDelay=6.000E-05\n",
    "NoGates=37\n",
    "t0_hm_304 = waveform_hm_304[:,0].max()\n",
    "# times_HM_304 = (time_gates[:NoGates,0] + GateTimeShift + MeaTimeDelay)[i_start_hm:] - t0_hm_304    \n",
    "times_HM_304 = (time_gates[:NoGates,0] + GateTimeShift + MeaTimeDelay)[sl_hm_304] - t0_hm_304    "
   ]
  },
  {
   "cell_type": "code",
   "execution_count": 199,
   "metadata": {},
   "outputs": [],
   "source": [
    "#TAKEN FROM SWISMALL\n",
    "survey_inputs = {\n",
    "    'xy':xy,\n",
    "    'Line':Line,\n",
    "    'dem':dem,\n",
    "    'height':height,\n",
    "    'system':system,\n",
    "    'rx_locations':rx_locations,\n",
    "    'src_locations':src_locations,\n",
    "    'topo':topo,\n",
    "    'n_sounding':n_sounding\n",
    "    }"
   ]
  },
  {
   "cell_type": "code",
   "execution_count": null,
   "metadata": {},
   "outputs": [],
   "source": []
  },
  {
   "cell_type": "code",
   "execution_count": 210,
   "metadata": {},
   "outputs": [],
   "source": [
    "def create_survey(mesh,survey_inputs):\n",
    "    #Set source and receiver locations\n",
    "    waveform_dir = datadir.joinpath('AEM','aem-waveform')\n",
    "    unit_conversion = 1e-12\n",
    "\n",
    "    i_start_hm = 10\n",
    "    i_start_lm = 10\n",
    "\n",
    "    waveform_hm_312 = np.loadtxt(waveform_dir.joinpath('waveform_hm_312.txt'))\n",
    "    waveform_lm_312 = np.loadtxt(waveform_dir.joinpath('waveform_lm_312.txt'))\n",
    "    time_input_currents_hm_312 = waveform_hm_312[:,0] \n",
    "    input_currents_hm_312 = waveform_hm_312[:,1]\n",
    "    time_input_currents_lm_312 = waveform_lm_312[:,0] \n",
    "    input_currents_lm_312 = waveform_lm_312[:,1]\n",
    "\n",
    "    time_gates = np.loadtxt(waveform_dir.joinpath('time_gates'))\n",
    "    GateTimeShift=-2.09E-06\n",
    "    MeaTimeDelay=0.000E+00\n",
    "    NoGates=28\n",
    "    t0_lm_312 = waveform_lm_312[:,0].max()\n",
    "    times_lm_312 = (time_gates[:NoGates,0] + GateTimeShift + MeaTimeDelay)[i_start_lm:] - t0_lm_312\n",
    "\n",
    "    GateTimeShift=-1.5E-06\n",
    "    MeaTimeDelay=3.500E-04\n",
    "    NoGates=37\n",
    "    t0_hm_312 = waveform_hm_312[:,0].max()\n",
    "    times_hm_312 = (time_gates[:NoGates,0] + GateTimeShift + MeaTimeDelay)[i_start_hm:] - t0_hm_312    \n",
    "\n",
    "    survey = get_skytem_survey(\n",
    "        survey_inputs['topo'],\n",
    "        survey_inputs['src_locations'],\n",
    "        survey_inputs['rx_locations'],\n",
    "        times_hm_312,\n",
    "        time_input_currents_hm_312,\n",
    "        input_currents_hm_312,\n",
    "        base_frequency=25.,\n",
    "        src_type=\"VMD\",\n",
    "        rx_type=\"dBzdt\",    \n",
    "        moment_type=\"dual\",        \n",
    "        time_dual_moment=times_lm_312,\n",
    "        time_input_currents_dual_moment=time_input_currents_lm_312,\n",
    "        input_currents_dual_moment=input_currents_lm_312,\n",
    "        base_frequency_dual_moment=210.,\n",
    "        wave_type=\"general\",    \n",
    "        field_type=\"secondary\",    \n",
    "    )\n",
    "    return survey\n",
    "\n",
    "def create_simulation(it,time,rho_grid,actv,mesh,survey):\n",
    "    simulation_workdir = outputdir.joinpath('./tmp{}_time{}'.format(it,int(time)))\n",
    "    \n",
    "    simulation = GlobalSkyTEM(\n",
    "        mesh, \n",
    "        sigma=1./rho_grid, \n",
    "        actv=actv, \n",
    "        parallel_option='multiprocess',\n",
    "        n_cpu=2,\n",
    "        work_dir=simulation_workdir.as_posix()\n",
    "    )\n",
    "    simulation.pair(survey)\n",
    "    return simulation\n",
    "\n",
    "def run_collect_data(simulation,rho_grid):\n",
    "    print('writing inputs...\\n')\n",
    "    simulation.write_inputs_on_disk_pool()\n",
    "    print('running simulation...\\n')\n",
    "    data = simulation.forward(1./rho_grid)\n",
    "    print('finished simulation!')\n",
    "    # DATA = data.reshape((times_hm_312.size+times_lm_312.size, n_sounding), order='F')\n",
    "    # DATA_HM = -DATA[:times_hm_312.size,:]\n",
    "    # DATA_LM = -DATA[times_hm_312.size:,:]\n",
    "    return data\n"
   ]
  },
  {
   "cell_type": "code",
   "execution_count": 212,
   "metadata": {},
   "outputs": [
    {
     "name": "stdout",
     "output_type": "stream",
     "text": [
      ">> Set parameters\n"
     ]
    },
    {
     "name": "stderr",
     "output_type": "stream",
     "text": [
      "Process ForkPoolWorker-28:\n",
      "Process ForkPoolWorker-27:\n",
      "Process ForkPoolWorker-25:\n",
      "Traceback (most recent call last):\n",
      "  File \"/home/users/ianpg/miniconda3/envs/SWIlarge-environment/lib/python3.8/site-packages/multiprocess/process.py\", line 315, in _bootstrap\n",
      "    self.run()\n",
      "Traceback (most recent call last):\n",
      "  File \"/home/users/ianpg/miniconda3/envs/SWIlarge-environment/lib/python3.8/site-packages/multiprocess/process.py\", line 315, in _bootstrap\n",
      "    self.run()\n"
     ]
    },
    {
     "ename": "KeyboardInterrupt",
     "evalue": "",
     "output_type": "error",
     "traceback": [
      "\u001b[0;31m---------------------------------------------------------------------------\u001b[0m",
      "\u001b[0;31mKeyboardInterrupt\u001b[0m                         Traceback (most recent call last)",
      "\u001b[0;32m<ipython-input-212-bc1b031f31a1>\u001b[0m in \u001b[0;36m<module>\u001b[0;34m\u001b[0m\n\u001b[1;32m      5\u001b[0m \u001b[0msimulation\u001b[0m \u001b[0;34m=\u001b[0m \u001b[0mcreate_simulation\u001b[0m\u001b[0;34m(\u001b[0m\u001b[0mit\u001b[0m\u001b[0;34m,\u001b[0m\u001b[0mtime\u001b[0m\u001b[0;34m,\u001b[0m\u001b[0mrho_grid\u001b[0m\u001b[0;34m,\u001b[0m\u001b[0mactv\u001b[0m\u001b[0;34m,\u001b[0m\u001b[0mmesh\u001b[0m\u001b[0;34m,\u001b[0m\u001b[0msurvey\u001b[0m\u001b[0;34m)\u001b[0m\u001b[0;34m\u001b[0m\u001b[0;34m\u001b[0m\u001b[0m\n\u001b[1;32m      6\u001b[0m \u001b[0;31m# data = run_collect_data(simulation,rho_grid)\u001b[0m\u001b[0;34m\u001b[0m\u001b[0;34m\u001b[0m\u001b[0;34m\u001b[0m\u001b[0m\n\u001b[0;32m----> 7\u001b[0;31m \u001b[0msimulation\u001b[0m\u001b[0;34m.\u001b[0m\u001b[0mwrite_inputs_on_disk_pool\u001b[0m\u001b[0;34m(\u001b[0m\u001b[0;34m)\u001b[0m\u001b[0;34m\u001b[0m\u001b[0;34m\u001b[0m\u001b[0m\n\u001b[0m",
      "\u001b[0;32m~/git_cloned/simpegskytem/GlobalTDEM.py\u001b[0m in \u001b[0;36mwrite_inputs_on_disk_pool\u001b[0;34m(self)\u001b[0m\n\u001b[1;32m    239\u001b[0m         \u001b[0;32mif\u001b[0m \u001b[0mself\u001b[0m\u001b[0;34m.\u001b[0m\u001b[0mparallel_option\u001b[0m \u001b[0;34m==\u001b[0m \u001b[0;34m'multiprocess'\u001b[0m\u001b[0;34m:\u001b[0m\u001b[0;34m\u001b[0m\u001b[0;34m\u001b[0m\u001b[0m\n\u001b[1;32m    240\u001b[0m             \u001b[0mpool\u001b[0m \u001b[0;34m=\u001b[0m \u001b[0mPool\u001b[0m\u001b[0;34m(\u001b[0m\u001b[0mself\u001b[0m\u001b[0;34m.\u001b[0m\u001b[0mn_cpu\u001b[0m\u001b[0;34m)\u001b[0m\u001b[0;34m\u001b[0m\u001b[0;34m\u001b[0m\u001b[0m\n\u001b[0;32m--> 241\u001b[0;31m             out = pool.map(\n\u001b[0m\u001b[1;32m    242\u001b[0m                 \u001b[0mself\u001b[0m\u001b[0;34m.\u001b[0m\u001b[0mwrite_inputs_on_disk\u001b[0m\u001b[0;34m,\u001b[0m\u001b[0;34m\u001b[0m\u001b[0;34m\u001b[0m\u001b[0m\n\u001b[1;32m    243\u001b[0m                 \u001b[0;34m[\u001b[0m\u001b[0mi_src\u001b[0m \u001b[0;32mfor\u001b[0m \u001b[0mi_src\u001b[0m \u001b[0;32min\u001b[0m \u001b[0mrange\u001b[0m\u001b[0;34m(\u001b[0m\u001b[0mn_src\u001b[0m\u001b[0;34m)\u001b[0m\u001b[0;34m]\u001b[0m\u001b[0;34m\u001b[0m\u001b[0;34m\u001b[0m\u001b[0m\n",
      "\u001b[0;32m~/miniconda3/envs/SWIlarge-environment/lib/python3.8/site-packages/multiprocess/pool.py\u001b[0m in \u001b[0;36mmap\u001b[0;34m(self, func, iterable, chunksize)\u001b[0m\n\u001b[1;32m    362\u001b[0m         \u001b[0;32min\u001b[0m \u001b[0ma\u001b[0m \u001b[0mlist\u001b[0m \u001b[0mthat\u001b[0m \u001b[0;32mis\u001b[0m \u001b[0mreturned\u001b[0m\u001b[0;34m.\u001b[0m\u001b[0;34m\u001b[0m\u001b[0;34m\u001b[0m\u001b[0m\n\u001b[1;32m    363\u001b[0m         '''\n\u001b[0;32m--> 364\u001b[0;31m         \u001b[0;32mreturn\u001b[0m \u001b[0mself\u001b[0m\u001b[0;34m.\u001b[0m\u001b[0m_map_async\u001b[0m\u001b[0;34m(\u001b[0m\u001b[0mfunc\u001b[0m\u001b[0;34m,\u001b[0m \u001b[0miterable\u001b[0m\u001b[0;34m,\u001b[0m \u001b[0mmapstar\u001b[0m\u001b[0;34m,\u001b[0m \u001b[0mchunksize\u001b[0m\u001b[0;34m)\u001b[0m\u001b[0;34m.\u001b[0m\u001b[0mget\u001b[0m\u001b[0;34m(\u001b[0m\u001b[0;34m)\u001b[0m\u001b[0;34m\u001b[0m\u001b[0;34m\u001b[0m\u001b[0m\n\u001b[0m\u001b[1;32m    365\u001b[0m \u001b[0;34m\u001b[0m\u001b[0m\n\u001b[1;32m    366\u001b[0m     \u001b[0;32mdef\u001b[0m \u001b[0mstarmap\u001b[0m\u001b[0;34m(\u001b[0m\u001b[0mself\u001b[0m\u001b[0;34m,\u001b[0m \u001b[0mfunc\u001b[0m\u001b[0;34m,\u001b[0m \u001b[0miterable\u001b[0m\u001b[0;34m,\u001b[0m \u001b[0mchunksize\u001b[0m\u001b[0;34m=\u001b[0m\u001b[0;32mNone\u001b[0m\u001b[0;34m)\u001b[0m\u001b[0;34m:\u001b[0m\u001b[0;34m\u001b[0m\u001b[0;34m\u001b[0m\u001b[0m\n",
      "\u001b[0;32m~/miniconda3/envs/SWIlarge-environment/lib/python3.8/site-packages/multiprocess/pool.py\u001b[0m in \u001b[0;36mget\u001b[0;34m(self, timeout)\u001b[0m\n\u001b[1;32m    763\u001b[0m \u001b[0;34m\u001b[0m\u001b[0m\n\u001b[1;32m    764\u001b[0m     \u001b[0;32mdef\u001b[0m \u001b[0mget\u001b[0m\u001b[0;34m(\u001b[0m\u001b[0mself\u001b[0m\u001b[0;34m,\u001b[0m \u001b[0mtimeout\u001b[0m\u001b[0;34m=\u001b[0m\u001b[0;32mNone\u001b[0m\u001b[0;34m)\u001b[0m\u001b[0;34m:\u001b[0m\u001b[0;34m\u001b[0m\u001b[0;34m\u001b[0m\u001b[0m\n\u001b[0;32m--> 765\u001b[0;31m         \u001b[0mself\u001b[0m\u001b[0;34m.\u001b[0m\u001b[0mwait\u001b[0m\u001b[0;34m(\u001b[0m\u001b[0mtimeout\u001b[0m\u001b[0;34m)\u001b[0m\u001b[0;34m\u001b[0m\u001b[0;34m\u001b[0m\u001b[0m\n\u001b[0m\u001b[1;32m    766\u001b[0m         \u001b[0;32mif\u001b[0m \u001b[0;32mnot\u001b[0m \u001b[0mself\u001b[0m\u001b[0;34m.\u001b[0m\u001b[0mready\u001b[0m\u001b[0;34m(\u001b[0m\u001b[0;34m)\u001b[0m\u001b[0;34m:\u001b[0m\u001b[0;34m\u001b[0m\u001b[0;34m\u001b[0m\u001b[0m\n\u001b[1;32m    767\u001b[0m             \u001b[0;32mraise\u001b[0m \u001b[0mTimeoutError\u001b[0m\u001b[0;34m\u001b[0m\u001b[0;34m\u001b[0m\u001b[0m\n",
      "\u001b[0;32m~/miniconda3/envs/SWIlarge-environment/lib/python3.8/site-packages/multiprocess/pool.py\u001b[0m in \u001b[0;36mwait\u001b[0;34m(self, timeout)\u001b[0m\n\u001b[1;32m    760\u001b[0m \u001b[0;34m\u001b[0m\u001b[0m\n\u001b[1;32m    761\u001b[0m     \u001b[0;32mdef\u001b[0m \u001b[0mwait\u001b[0m\u001b[0;34m(\u001b[0m\u001b[0mself\u001b[0m\u001b[0;34m,\u001b[0m \u001b[0mtimeout\u001b[0m\u001b[0;34m=\u001b[0m\u001b[0;32mNone\u001b[0m\u001b[0;34m)\u001b[0m\u001b[0;34m:\u001b[0m\u001b[0;34m\u001b[0m\u001b[0;34m\u001b[0m\u001b[0m\n\u001b[0;32m--> 762\u001b[0;31m         \u001b[0mself\u001b[0m\u001b[0;34m.\u001b[0m\u001b[0m_event\u001b[0m\u001b[0;34m.\u001b[0m\u001b[0mwait\u001b[0m\u001b[0;34m(\u001b[0m\u001b[0mtimeout\u001b[0m\u001b[0;34m)\u001b[0m\u001b[0;34m\u001b[0m\u001b[0;34m\u001b[0m\u001b[0m\n\u001b[0m\u001b[1;32m    763\u001b[0m \u001b[0;34m\u001b[0m\u001b[0m\n\u001b[1;32m    764\u001b[0m     \u001b[0;32mdef\u001b[0m \u001b[0mget\u001b[0m\u001b[0;34m(\u001b[0m\u001b[0mself\u001b[0m\u001b[0;34m,\u001b[0m \u001b[0mtimeout\u001b[0m\u001b[0;34m=\u001b[0m\u001b[0;32mNone\u001b[0m\u001b[0;34m)\u001b[0m\u001b[0;34m:\u001b[0m\u001b[0;34m\u001b[0m\u001b[0;34m\u001b[0m\u001b[0m\n",
      "\u001b[0;32m~/miniconda3/envs/SWIlarge-environment/lib/python3.8/threading.py\u001b[0m in \u001b[0;36mwait\u001b[0;34m(self, timeout)\u001b[0m\n\u001b[1;32m    556\u001b[0m             \u001b[0msignaled\u001b[0m \u001b[0;34m=\u001b[0m \u001b[0mself\u001b[0m\u001b[0;34m.\u001b[0m\u001b[0m_flag\u001b[0m\u001b[0;34m\u001b[0m\u001b[0;34m\u001b[0m\u001b[0m\n\u001b[1;32m    557\u001b[0m             \u001b[0;32mif\u001b[0m \u001b[0;32mnot\u001b[0m \u001b[0msignaled\u001b[0m\u001b[0;34m:\u001b[0m\u001b[0;34m\u001b[0m\u001b[0;34m\u001b[0m\u001b[0m\n\u001b[0;32m--> 558\u001b[0;31m                 \u001b[0msignaled\u001b[0m \u001b[0;34m=\u001b[0m \u001b[0mself\u001b[0m\u001b[0;34m.\u001b[0m\u001b[0m_cond\u001b[0m\u001b[0;34m.\u001b[0m\u001b[0mwait\u001b[0m\u001b[0;34m(\u001b[0m\u001b[0mtimeout\u001b[0m\u001b[0;34m)\u001b[0m\u001b[0;34m\u001b[0m\u001b[0;34m\u001b[0m\u001b[0m\n\u001b[0m\u001b[1;32m    559\u001b[0m             \u001b[0;32mreturn\u001b[0m \u001b[0msignaled\u001b[0m\u001b[0;34m\u001b[0m\u001b[0;34m\u001b[0m\u001b[0m\n\u001b[1;32m    560\u001b[0m \u001b[0;34m\u001b[0m\u001b[0m\n",
      "\u001b[0;32m~/miniconda3/envs/SWIlarge-environment/lib/python3.8/threading.py\u001b[0m in \u001b[0;36mwait\u001b[0;34m(self, timeout)\u001b[0m\n\u001b[1;32m    300\u001b[0m         \u001b[0;32mtry\u001b[0m\u001b[0;34m:\u001b[0m    \u001b[0;31m# restore state no matter what (e.g., KeyboardInterrupt)\u001b[0m\u001b[0;34m\u001b[0m\u001b[0;34m\u001b[0m\u001b[0m\n\u001b[1;32m    301\u001b[0m             \u001b[0;32mif\u001b[0m \u001b[0mtimeout\u001b[0m \u001b[0;32mis\u001b[0m \u001b[0;32mNone\u001b[0m\u001b[0;34m:\u001b[0m\u001b[0;34m\u001b[0m\u001b[0;34m\u001b[0m\u001b[0m\n\u001b[0;32m--> 302\u001b[0;31m                 \u001b[0mwaiter\u001b[0m\u001b[0;34m.\u001b[0m\u001b[0macquire\u001b[0m\u001b[0;34m(\u001b[0m\u001b[0;34m)\u001b[0m\u001b[0;34m\u001b[0m\u001b[0;34m\u001b[0m\u001b[0m\n\u001b[0m\u001b[1;32m    303\u001b[0m                 \u001b[0mgotit\u001b[0m \u001b[0;34m=\u001b[0m \u001b[0;32mTrue\u001b[0m\u001b[0;34m\u001b[0m\u001b[0;34m\u001b[0m\u001b[0m\n\u001b[1;32m    304\u001b[0m             \u001b[0;32melse\u001b[0m\u001b[0;34m:\u001b[0m\u001b[0;34m\u001b[0m\u001b[0;34m\u001b[0m\u001b[0m\n",
      "\u001b[0;31mKeyboardInterrupt\u001b[0m: "
     ]
    },
    {
     "name": "stderr",
     "output_type": "stream",
     "text": [
      "Traceback (most recent call last):\n",
      "  File \"/home/users/ianpg/miniconda3/envs/SWIlarge-environment/lib/python3.8/site-packages/multiprocess/process.py\", line 108, in run\n",
      "    self._target(*self._args, **self._kwargs)\n",
      "  File \"/home/users/ianpg/miniconda3/envs/SWIlarge-environment/lib/python3.8/site-packages/multiprocess/pool.py\", line 114, in worker\n",
      "    task = get()\n",
      "  File \"/home/users/ianpg/miniconda3/envs/SWIlarge-environment/lib/python3.8/site-packages/multiprocess/pool.py\", line 114, in worker\n",
      "    task = get()\n",
      "  File \"/home/users/ianpg/miniconda3/envs/SWIlarge-environment/lib/python3.8/site-packages/multiprocess/process.py\", line 108, in run\n",
      "    self._target(*self._args, **self._kwargs)\n",
      "  File \"/home/users/ianpg/miniconda3/envs/SWIlarge-environment/lib/python3.8/site-packages/multiprocess/queues.py\", line 358, in get\n",
      "    with self._rlock:\n",
      "  File \"/home/users/ianpg/miniconda3/envs/SWIlarge-environment/lib/python3.8/site-packages/multiprocess/process.py\", line 315, in _bootstrap\n",
      "    self.run()\n",
      "  File \"/home/users/ianpg/miniconda3/envs/SWIlarge-environment/lib/python3.8/site-packages/multiprocess/process.py\", line 108, in run\n",
      "    self._target(*self._args, **self._kwargs)\n",
      "  File \"/home/users/ianpg/miniconda3/envs/SWIlarge-environment/lib/python3.8/site-packages/multiprocess/synchronize.py\", line 101, in __enter__\n",
      "    return self._semlock.__enter__()\n",
      "KeyboardInterrupt\n",
      "  File \"/home/users/ianpg/miniconda3/envs/SWIlarge-environment/lib/python3.8/site-packages/multiprocess/queues.py\", line 358, in get\n",
      "    with self._rlock:\n",
      "  File \"/home/users/ianpg/miniconda3/envs/SWIlarge-environment/lib/python3.8/site-packages/multiprocess/pool.py\", line 114, in worker\n",
      "    task = get()\n",
      "  File \"/home/users/ianpg/miniconda3/envs/SWIlarge-environment/lib/python3.8/site-packages/multiprocess/queues.py\", line 359, in get\n",
      "    res = self._reader.recv_bytes()\n",
      "  File \"/home/users/ianpg/miniconda3/envs/SWIlarge-environment/lib/python3.8/site-packages/multiprocess/connection.py\", line 219, in recv_bytes\n",
      "    buf = self._recv_bytes(maxlength)\n",
      "  File \"/home/users/ianpg/miniconda3/envs/SWIlarge-environment/lib/python3.8/site-packages/multiprocess/synchronize.py\", line 101, in __enter__\n",
      "    return self._semlock.__enter__()\n",
      "  File \"/home/users/ianpg/miniconda3/envs/SWIlarge-environment/lib/python3.8/site-packages/multiprocess/connection.py\", line 417, in _recv_bytes\n",
      "    buf = self._recv(4)\n",
      "KeyboardInterrupt\n",
      "  File \"/home/users/ianpg/miniconda3/envs/SWIlarge-environment/lib/python3.8/site-packages/multiprocess/connection.py\", line 382, in _recv\n",
      "    chunk = read(handle, remaining)\n",
      "KeyboardInterrupt\n",
      "Process ForkPoolWorker-29:\n",
      "Traceback (most recent call last):\n",
      "  File \"/home/users/ianpg/miniconda3/envs/SWIlarge-environment/lib/python3.8/site-packages/multiprocess/process.py\", line 315, in _bootstrap\n",
      "    self.run()\n",
      "  File \"/home/users/ianpg/miniconda3/envs/SWIlarge-environment/lib/python3.8/site-packages/multiprocess/process.py\", line 108, in run\n",
      "    self._target(*self._args, **self._kwargs)\n",
      "  File \"/home/users/ianpg/miniconda3/envs/SWIlarge-environment/lib/python3.8/site-packages/multiprocess/pool.py\", line 114, in worker\n",
      "    task = get()\n",
      "  File \"/home/users/ianpg/miniconda3/envs/SWIlarge-environment/lib/python3.8/site-packages/multiprocess/queues.py\", line 358, in get\n",
      "    with self._rlock:\n",
      "  File \"/home/users/ianpg/miniconda3/envs/SWIlarge-environment/lib/python3.8/site-packages/multiprocess/synchronize.py\", line 101, in __enter__\n",
      "    return self._semlock.__enter__()\n",
      "KeyboardInterrupt\n"
     ]
    }
   ],
   "source": [
    "survey = create_survey(mesh,survey_inputs)\n",
    "\n",
    "it= 0\n",
    "time=  '01'\n",
    "simulation = create_simulation(it,time,rho_grid,actv,mesh,survey)\n",
    "# data = run_collect_data(simulation,rho_grid)\n",
    "simulation.write_inputs_on_disk_pool()\n"
   ]
  },
  {
   "cell_type": "code",
   "execution_count": 209,
   "metadata": {},
   "outputs": [
    {
     "data": {
      "text/plain": [
       "PosixPath('/scratch/users/ianpg/SWIlarge/work/output')"
      ]
     },
     "execution_count": 209,
     "metadata": {},
     "output_type": "execute_result"
    }
   ],
   "source": [
    "outputdir"
   ]
  },
  {
   "cell_type": "code",
   "execution_count": null,
   "metadata": {},
   "outputs": [],
   "source": [
    "[p for p in outputdir.iterdir()]"
   ]
  },
  {
   "cell_type": "code",
   "execution_count": 167,
   "metadata": {},
   "outputs": [
    {
     "name": "stdout",
     "output_type": "stream",
     "text": [
      "(65, 3) (65, 3) (27,) (19,) (19,) (18,) (19,) (19,)\n"
     ]
    }
   ],
   "source": [
    "print(src_locations.shape\n",
    ",rx_locations.shape\n",
    ",times_hm_312.shape\n",
    ",time_input_currents_hm_312.shape\n",
    ",input_currents_hm_312.shape\n",
    ",times_lm_312.shape\n",
    ",time_input_currents_lm_312.shape\n",
    ",input_currents_lm_312.shape)"
   ]
  },
  {
   "cell_type": "code",
   "execution_count": 173,
   "metadata": {},
   "outputs": [
    {
     "data": {
      "text/plain": [
       "[<matplotlib.lines.Line2D at 0x7f6e489c7e80>]"
      ]
     },
     "execution_count": 173,
     "metadata": {},
     "output_type": "execute_result"
    },
    {
     "data": {
      "image/png": "[encoded data removed]",
      "text/plain": [
       "<Figure size 432x288 with 1 Axes>"
      ]
     },
     "metadata": {
      "needs_background": "light"
     },
     "output_type": "display_data"
    }
   ],
   "source": [
    "plt.plot(time_input_currents_hm_312,input_currents_hm_312)\n",
    "plt.plot(time_input_currents_lm_312,input_currents_lm_312)\n"
   ]
  },
  {
   "cell_type": "code",
   "execution_count": 174,
   "metadata": {},
   "outputs": [
    {
     "data": {
      "text/plain": [
       "array([-8.0000e-04, -7.2104e-04, -5.1512e-04, -2.8195e-04,  0.0000e+00,\n",
       "        2.3000e-07,  5.2000e-07,  1.1600e-06,  1.9900e-06,  3.9000e-06,\n",
       "        4.8700e-06,  5.5000e-06,  6.1200e-06,  7.4100e-06,  8.1400e-06,\n",
       "        8.9000e-06,  1.0580e-05,  1.2540e-05,  1.5150e-05])"
      ]
     },
     "execution_count": 174,
     "metadata": {},
     "output_type": "execute_result"
    }
   ],
   "source": [
    "time_input_currents_lm_312"
   ]
  },
  {
   "cell_type": "raw",
   "metadata": {},
   "source": [
    "plt.plot(time_input_currents_LM_304, input_currents_LM_304,label='304')\n",
    "plt.title('Low moment')\n",
    "plt.figure()\n",
    "plt.plot(time_input_currents_HM_304, input_currents_HM_304,label='304')\n",
    "plt.title('High moment')\n",
    "          "
   ]
  },
  {
   "cell_type": "raw",
   "metadata": {},
   "source": [
    "survey = get_skytem_survey(\n",
    "    topo,\n",
    "    src_locations,\n",
    "    rx_locations,\n",
    "    times_HM_304,\n",
    "    time_input_currents_HM_304,\n",
    "    input_currents_HM_304,\n",
    "    base_frequency=25.,\n",
    "    src_type=\"VMD\",\n",
    "    rx_type=\"dBzdt\",    \n",
    "    moment_type=\"dual\",        \n",
    "    time_dual_moment=times_LM_304,\n",
    "    time_input_currents_dual_moment=time_input_currents_LM_304,\n",
    "    input_currents_dual_moment=input_currents_LM_304,\n",
    "    base_frequency_dual_moment=210.,\n",
    "    wave_type=\"general\",    \n",
    "    field_type=\"secondary\",    \n",
    ")"
   ]
  },
  {
   "cell_type": "code",
   "execution_count": 153,
   "metadata": {},
   "outputs": [
    {
     "data": {
      "text/html": [
       "<div>\n",
       "<style scoped>\n",
       "    .dataframe tbody tr th:only-of-type {\n",
       "        vertical-align: middle;\n",
       "    }\n",
       "\n",
       "    .dataframe tbody tr th {\n",
       "        vertical-align: top;\n",
       "    }\n",
       "\n",
       "    .dataframe thead th {\n",
       "        text-align: right;\n",
       "    }\n",
       "</style>\n",
       "<table border=\"1\" class=\"dataframe\">\n",
       "  <thead>\n",
       "    <tr style=\"text-align: right;\">\n",
       "      <th></th>\n",
       "      <th>varname</th>\n",
       "      <th>varsize</th>\n",
       "    </tr>\n",
       "  </thead>\n",
       "  <tbody>\n",
       "    <tr>\n",
       "      <th>0</th>\n",
       "      <td>topo</td>\n",
       "      <td>(65, 3)</td>\n",
       "    </tr>\n",
       "    <tr>\n",
       "      <th>1</th>\n",
       "      <td>src_locations</td>\n",
       "      <td>(65, 3)</td>\n",
       "    </tr>\n",
       "    <tr>\n",
       "      <th>2</th>\n",
       "      <td>rx_locations</td>\n",
       "      <td>(65, 3)</td>\n",
       "    </tr>\n",
       "    <tr>\n",
       "      <th>3</th>\n",
       "      <td>times_HM_304</td>\n",
       "      <td>(26,)</td>\n",
       "    </tr>\n",
       "    <tr>\n",
       "      <th>4</th>\n",
       "      <td>time_input_currents_HM_304</td>\n",
       "      <td>(19,)</td>\n",
       "    </tr>\n",
       "    <tr>\n",
       "      <th>5</th>\n",
       "      <td>input_currents_HM_304</td>\n",
       "      <td>(19,)</td>\n",
       "    </tr>\n",
       "    <tr>\n",
       "      <th>6</th>\n",
       "      <td>times_LM_304</td>\n",
       "      <td>(16,)</td>\n",
       "    </tr>\n",
       "    <tr>\n",
       "      <th>7</th>\n",
       "      <td>time_input_currents_LM_304</td>\n",
       "      <td>(21,)</td>\n",
       "    </tr>\n",
       "    <tr>\n",
       "      <th>8</th>\n",
       "      <td>input_currents_LM_304</td>\n",
       "      <td>(21,)</td>\n",
       "    </tr>\n",
       "  </tbody>\n",
       "</table>\n",
       "</div>"
      ],
      "text/plain": [
       "                      varname  varsize\n",
       "0                        topo  (65, 3)\n",
       "1               src_locations  (65, 3)\n",
       "2                rx_locations  (65, 3)\n",
       "3                times_HM_304    (26,)\n",
       "4  time_input_currents_HM_304    (19,)\n",
       "5       input_currents_HM_304    (19,)\n",
       "6                times_LM_304    (16,)\n",
       "7  time_input_currents_LM_304    (21,)\n",
       "8       input_currents_LM_304    (21,)"
      ]
     },
     "execution_count": 153,
     "metadata": {},
     "output_type": "execute_result"
    }
   ],
   "source": [
    "vs = (topo,src_locations,rx_locations,times_HM_304,time_input_currents_HM_304,\n",
    "        input_currents_HM_304,times_LM_304,time_input_currents_LM_304,input_currents_LM_304)\n",
    "v_names = ('topo','src_locations','rx_locations','times_HM_304','time_input_currents_HM_304',\n",
    "        'input_currents_HM_304','times_LM_304','time_input_currents_LM_304','input_currents_LM_304')\n",
    "\n",
    "df_temp = pd.DataFrame(data=np.array([v_names,[v.shape for v in vs]]).T,columns=['varname','varsize'])\n",
    "df_temp\n"
   ]
  },
  {
   "cell_type": "markdown",
   "metadata": {},
   "source": [
    "#### Create simulation"
   ]
  },
  {
   "cell_type": "code",
   "execution_count": 160,
   "metadata": {},
   "outputs": [],
   "source": []
  },
  {
   "cell_type": "code",
   "execution_count": 161,
   "metadata": {},
   "outputs": [],
   "source": [
    "time = '00'\n",
    "it = 0\n",
    "\n"
   ]
  },
  {
   "cell_type": "code",
   "execution_count": 162,
   "metadata": {},
   "outputs": [
    {
     "name": "stdout",
     "output_type": "stream",
     "text": [
      "writing inputs...\n",
      "\n",
      "running simulation...\n",
      "\n"
     ]
    },
    {
     "ename": "ValueError",
     "evalue": "A value in x_new is below the interpolation range.",
     "output_type": "error",
     "traceback": [
      "\u001b[0;31m---------------------------------------------------------------------------\u001b[0m",
      "\u001b[0;31mRemoteTraceback\u001b[0m                           Traceback (most recent call last)",
      "\u001b[0;31mRemoteTraceback\u001b[0m: \n\"\"\"\nTraceback (most recent call last):\n  File \"/home/users/ianpg/miniconda3/envs/SWIlarge-environment/lib/python3.8/site-packages/multiprocess/pool.py\", line 125, in worker\n    result = (True, func(*args, **kwds))\n  File \"/home/users/ianpg/miniconda3/envs/SWIlarge-environment/lib/python3.8/site-packages/multiprocess/pool.py\", line 48, in mapstar\n    return list(map(*args))\n  File \"../../simpegskytem/EMSimulation.py\", line 104, in run_simulation_skytem\n    data = prb.simulate(\n  File \"../../simpegskytem/TDEM.py\", line 117, in simulate\n    data_temp = piecewise_pulse_fast(\n  File \"/home/users/ianpg/miniconda3/envs/SWIlarge-environment/lib/python3.8/site-packages/simpegEM1D/Waveforms.py\", line 407, in piecewise_pulse_fast\n    response = piecewise_ramp_fast(\n  File \"/home/users/ianpg/miniconda3/envs/SWIlarge-environment/lib/python3.8/site-packages/simpegEM1D/Waveforms.py\", line 292, in piecewise_ramp_fast\n    f = w * step_func(np.log10(y))\n  File \"/home/users/ianpg/miniconda3/envs/SWIlarge-environment/lib/python3.8/site-packages/scipy/interpolate/polyint.py\", line 79, in __call__\n    y = self._evaluate(x)\n  File \"/home/users/ianpg/miniconda3/envs/SWIlarge-environment/lib/python3.8/site-packages/scipy/interpolate/interpolate.py\", line 663, in _evaluate\n    below_bounds, above_bounds = self._check_bounds(x_new)\n  File \"/home/users/ianpg/miniconda3/envs/SWIlarge-environment/lib/python3.8/site-packages/scipy/interpolate/interpolate.py\", line 692, in _check_bounds\n    raise ValueError(\"A value in x_new is below the interpolation \"\nValueError: A value in x_new is below the interpolation range.\n\"\"\"",
      "\nThe above exception was the direct cause of the following exception:\n",
      "\u001b[0;31mValueError\u001b[0m                                Traceback (most recent call last)",
      "\u001b[0;32m<ipython-input-162-e24c580ad021>\u001b[0m in \u001b[0;36m<module>\u001b[0;34m\u001b[0m\n\u001b[1;32m      2\u001b[0m \u001b[0msimulation\u001b[0m\u001b[0;34m.\u001b[0m\u001b[0mwrite_inputs_on_disk_pool\u001b[0m\u001b[0;34m(\u001b[0m\u001b[0;34m)\u001b[0m\u001b[0;34m\u001b[0m\u001b[0;34m\u001b[0m\u001b[0m\n\u001b[1;32m      3\u001b[0m \u001b[0mprint\u001b[0m\u001b[0;34m(\u001b[0m\u001b[0;34m'running simulation...\\n'\u001b[0m\u001b[0;34m)\u001b[0m\u001b[0;34m\u001b[0m\u001b[0;34m\u001b[0m\u001b[0m\n\u001b[0;32m----> 4\u001b[0;31m \u001b[0mdata\u001b[0m \u001b[0;34m=\u001b[0m \u001b[0msimulation\u001b[0m\u001b[0;34m.\u001b[0m\u001b[0mforward\u001b[0m\u001b[0;34m(\u001b[0m\u001b[0;36m1.\u001b[0m\u001b[0;34m/\u001b[0m\u001b[0mrho_grid\u001b[0m\u001b[0;34m)\u001b[0m\u001b[0;34m\u001b[0m\u001b[0;34m\u001b[0m\u001b[0m\n\u001b[0m\u001b[1;32m      5\u001b[0m \u001b[0mprint\u001b[0m\u001b[0;34m(\u001b[0m\u001b[0;34m'finished simulation!'\u001b[0m\u001b[0;34m)\u001b[0m\u001b[0;34m\u001b[0m\u001b[0;34m\u001b[0m\u001b[0m\n\u001b[1;32m      6\u001b[0m \u001b[0;31m# DATA = data.reshape((times_hm_312.size+times_lm_312.size, n_sounding), order='F')\u001b[0m\u001b[0;34m\u001b[0m\u001b[0;34m\u001b[0m\u001b[0;34m\u001b[0m\u001b[0m\n",
      "\u001b[0;32m~/git_cloned/simpegskytem/GlobalTDEM.py\u001b[0m in \u001b[0;36mforward\u001b[0;34m(self, m)\u001b[0m\n\u001b[1;32m    262\u001b[0m             pool = Pool(self.n_cpu))\n\u001b[1;32m    263\u001b[0m             \u001b[0;31m# This assumes the same # of layer for each of soundings\u001b[0m\u001b[0;34m\u001b[0m\u001b[0;34m\u001b[0m\u001b[0;34m\u001b[0m\u001b[0m\n\u001b[0;32m--> 264\u001b[0;31m             results = pool.map(\n\u001b[0m\u001b[1;32m    265\u001b[0m                 \u001b[0mrun_simulation_skytem\u001b[0m\u001b[0;34m,\u001b[0m\u001b[0;34m\u001b[0m\u001b[0;34m\u001b[0m\u001b[0m\n\u001b[1;32m    266\u001b[0m                 \u001b[0;34m[\u001b[0m\u001b[0;34m(\u001b[0m\u001b[0mi_src\u001b[0m\u001b[0;34m,\u001b[0m \u001b[0mself\u001b[0m\u001b[0;34m.\u001b[0m\u001b[0mwork_dir\u001b[0m\u001b[0;34m,\u001b[0m \u001b[0mself\u001b[0m\u001b[0;34m.\u001b[0m\u001b[0mn_thread\u001b[0m\u001b[0;34m)\u001b[0m \u001b[0;32mfor\u001b[0m \u001b[0mi_src\u001b[0m \u001b[0;32min\u001b[0m \u001b[0mrange\u001b[0m\u001b[0;34m(\u001b[0m\u001b[0mself\u001b[0m\u001b[0;34m.\u001b[0m\u001b[0mn_sounding\u001b[0m\u001b[0;34m)\u001b[0m\u001b[0;34m]\u001b[0m\u001b[0;34m\u001b[0m\u001b[0;34m\u001b[0m\u001b[0m\n",
      "\u001b[0;32m~/miniconda3/envs/SWIlarge-environment/lib/python3.8/site-packages/multiprocess/pool.py\u001b[0m in \u001b[0;36mmap\u001b[0;34m(self, func, iterable, chunksize)\u001b[0m\n\u001b[1;32m    362\u001b[0m         \u001b[0;32min\u001b[0m \u001b[0ma\u001b[0m \u001b[0mlist\u001b[0m \u001b[0mthat\u001b[0m \u001b[0;32mis\u001b[0m \u001b[0mreturned\u001b[0m\u001b[0;34m.\u001b[0m\u001b[0;34m\u001b[0m\u001b[0;34m\u001b[0m\u001b[0m\n\u001b[1;32m    363\u001b[0m         '''\n\u001b[0;32m--> 364\u001b[0;31m         \u001b[0;32mreturn\u001b[0m \u001b[0mself\u001b[0m\u001b[0;34m.\u001b[0m\u001b[0m_map_async\u001b[0m\u001b[0;34m(\u001b[0m\u001b[0mfunc\u001b[0m\u001b[0;34m,\u001b[0m \u001b[0miterable\u001b[0m\u001b[0;34m,\u001b[0m \u001b[0mmapstar\u001b[0m\u001b[0;34m,\u001b[0m \u001b[0mchunksize\u001b[0m\u001b[0;34m)\u001b[0m\u001b[0;34m.\u001b[0m\u001b[0mget\u001b[0m\u001b[0;34m(\u001b[0m\u001b[0;34m)\u001b[0m\u001b[0;34m\u001b[0m\u001b[0;34m\u001b[0m\u001b[0m\n\u001b[0m\u001b[1;32m    365\u001b[0m \u001b[0;34m\u001b[0m\u001b[0m\n\u001b[1;32m    366\u001b[0m     \u001b[0;32mdef\u001b[0m \u001b[0mstarmap\u001b[0m\u001b[0;34m(\u001b[0m\u001b[0mself\u001b[0m\u001b[0;34m,\u001b[0m \u001b[0mfunc\u001b[0m\u001b[0;34m,\u001b[0m \u001b[0miterable\u001b[0m\u001b[0;34m,\u001b[0m \u001b[0mchunksize\u001b[0m\u001b[0;34m=\u001b[0m\u001b[0;32mNone\u001b[0m\u001b[0;34m)\u001b[0m\u001b[0;34m:\u001b[0m\u001b[0;34m\u001b[0m\u001b[0;34m\u001b[0m\u001b[0m\n",
      "\u001b[0;32m~/miniconda3/envs/SWIlarge-environment/lib/python3.8/site-packages/multiprocess/pool.py\u001b[0m in \u001b[0;36mget\u001b[0;34m(self, timeout)\u001b[0m\n\u001b[1;32m    769\u001b[0m             \u001b[0;32mreturn\u001b[0m \u001b[0mself\u001b[0m\u001b[0;34m.\u001b[0m\u001b[0m_value\u001b[0m\u001b[0;34m\u001b[0m\u001b[0;34m\u001b[0m\u001b[0m\n\u001b[1;32m    770\u001b[0m         \u001b[0;32melse\u001b[0m\u001b[0;34m:\u001b[0m\u001b[0;34m\u001b[0m\u001b[0;34m\u001b[0m\u001b[0m\n\u001b[0;32m--> 771\u001b[0;31m             \u001b[0;32mraise\u001b[0m \u001b[0mself\u001b[0m\u001b[0;34m.\u001b[0m\u001b[0m_value\u001b[0m\u001b[0;34m\u001b[0m\u001b[0;34m\u001b[0m\u001b[0m\n\u001b[0m\u001b[1;32m    772\u001b[0m \u001b[0;34m\u001b[0m\u001b[0m\n\u001b[1;32m    773\u001b[0m     \u001b[0;32mdef\u001b[0m \u001b[0m_set\u001b[0m\u001b[0;34m(\u001b[0m\u001b[0mself\u001b[0m\u001b[0;34m,\u001b[0m \u001b[0mi\u001b[0m\u001b[0;34m,\u001b[0m \u001b[0mobj\u001b[0m\u001b[0;34m)\u001b[0m\u001b[0;34m:\u001b[0m\u001b[0;34m\u001b[0m\u001b[0;34m\u001b[0m\u001b[0m\n",
      "\u001b[0;31mValueError\u001b[0m: A value in x_new is below the interpolation range."
     ]
    },
    {
     "name": "stderr",
     "output_type": "stream",
     "text": [
      "Process ForkPoolWorker-19:\n",
      "Process ForkPoolWorker-20:\n",
      "Traceback (most recent call last):\n",
      "  File \"/home/users/ianpg/miniconda3/envs/SWIlarge-environment/lib/python3.8/site-packages/multiprocess/process.py\", line 315, in _bootstrap\n",
      "    self.run()\n",
      "  File \"/home/users/ianpg/miniconda3/envs/SWIlarge-environment/lib/python3.8/site-packages/multiprocess/process.py\", line 108, in run\n",
      "    self._target(*self._args, **self._kwargs)\n",
      "  File \"/home/users/ianpg/miniconda3/envs/SWIlarge-environment/lib/python3.8/site-packages/multiprocess/pool.py\", line 114, in worker\n",
      "    task = get()\n",
      "  File \"/home/users/ianpg/miniconda3/envs/SWIlarge-environment/lib/python3.8/site-packages/multiprocess/queues.py\", line 358, in get\n",
      "    with self._rlock:\n",
      "  File \"/home/users/ianpg/miniconda3/envs/SWIlarge-environment/lib/python3.8/site-packages/multiprocess/synchronize.py\", line 101, in __enter__\n",
      "    return self._semlock.__enter__()\n",
      "KeyboardInterrupt\n",
      "Traceback (most recent call last):\n",
      "  File \"/home/users/ianpg/miniconda3/envs/SWIlarge-environment/lib/python3.8/site-packages/multiprocess/process.py\", line 315, in _bootstrap\n",
      "    self.run()\n",
      "  File \"/home/users/ianpg/miniconda3/envs/SWIlarge-environment/lib/python3.8/site-packages/multiprocess/process.py\", line 108, in run\n",
      "    self._target(*self._args, **self._kwargs)\n",
      "  File \"/home/users/ianpg/miniconda3/envs/SWIlarge-environment/lib/python3.8/site-packages/multiprocess/pool.py\", line 114, in worker\n",
      "    task = get()\n",
      "  File \"/home/users/ianpg/miniconda3/envs/SWIlarge-environment/lib/python3.8/site-packages/multiprocess/queues.py\", line 359, in get\n",
      "    res = self._reader.recv_bytes()\n",
      "  File \"/home/users/ianpg/miniconda3/envs/SWIlarge-environment/lib/python3.8/site-packages/multiprocess/connection.py\", line 219, in recv_bytes\n",
      "    buf = self._recv_bytes(maxlength)\n",
      "  File \"/home/users/ianpg/miniconda3/envs/SWIlarge-environment/lib/python3.8/site-packages/multiprocess/connection.py\", line 382, in _recv\n",
      "    chunk = read(handle, remaining)\n",
      "  File \"/home/users/ianpg/miniconda3/envs/SWIlarge-environment/lib/python3.8/site-packages/multiprocess/connection.py\", line 417, in _recv_bytes\n",
      "    buf = self._recv(4)\n",
      "KeyboardInterrupt\n"
     ]
    }
   ],
   "source": [
    "print('writing inputs...\\n')\n",
    "simulation.write_inputs_on_disk_pool()\n",
    "print('running simulation...\\n')\n",
    "data = simulation.forward(1./rho_grid)\n",
    "print('finished simulation!')\n",
    "# DATA = data.reshape((times_hm_312.size+times_lm_312.size, n_sounding), order='F')\n",
    "# DATA_HM = -DATA[:times_hm_312.size,:]\n",
    "# DATA_LM = -DATA[times_hm_312.size:,:]"
   ]
  },
  {
   "cell_type": "code",
   "execution_count": 116,
   "metadata": {},
   "outputs": [],
   "source": [
    "import dill"
   ]
  },
  {
   "cell_type": "code",
   "execution_count": 118,
   "metadata": {},
   "outputs": [],
   "source": [
    "i_src = 0\n",
    "\n",
    "inputs = dill.load(open(Path(simulation_workdir).joinpath(\"inputs_{}.pkl\".format(i_src)).as_posix(), 'rb'))\n"
   ]
  },
  {
   "cell_type": "markdown",
   "metadata": {},
   "source": [
    "### I am here"
   ]
  },
  {
   "cell_type": "code",
   "execution_count": null,
   "metadata": {},
   "outputs": [],
   "source": [
    "np.cumprod(mesh.vnC)"
   ]
  },
  {
   "cell_type": "code",
   "execution_count": 28,
   "metadata": {},
   "outputs": [
    {
     "data": {
      "text/plain": [
       "array([[2.03526655e+04, 1.94546872e+01, 4.46100000e+01],\n",
       "       [2.03097732e+04, 4.94710340e+01, 4.53200000e+01],\n",
       "       [2.02679699e+04, 8.18056331e+01, 4.68300000e+01],\n",
       "       ...,\n",
       "       [2.09275809e+04, 2.66491655e+02, 4.76600000e+01],\n",
       "       [2.09275809e+04, 2.66491655e+02, 4.76600000e+01],\n",
       "       [2.09549068e+04, 2.94031698e+02, 5.03600000e+01]])"
      ]
     },
     "execution_count": 28,
     "metadata": {},
     "output_type": "execute_result"
    }
   ],
   "source": [
    "src_locations"
   ]
  },
  {
   "cell_type": "code",
   "execution_count": 131,
   "metadata": {},
   "outputs": [],
   "source": [
    "sigma_interpolator  =inputs['sigma_interpolator']\n",
    "mesh_local = inputs['mesh_local']\n",
    "actv_local = inputs['actv_local']\n"
   ]
  },
  {
   "cell_type": "code",
   "execution_count": 132,
   "metadata": {},
   "outputs": [],
   "source": [
    "values = sigma_interpolator(mesh_local.gridCC[actv_local,:])"
   ]
  },
  {
   "cell_type": "code",
   "execution_count": 136,
   "metadata": {},
   "outputs": [
    {
     "ename": "ValueError",
     "evalue": "A value in x_new is below the interpolation range.",
     "output_type": "error",
     "traceback": [
      "\u001b[0;31m---------------------------------------------------------------------------\u001b[0m",
      "\u001b[0;31mValueError\u001b[0m                                Traceback (most recent call last)",
      "\u001b[0;32m<ipython-input-136-7ca70ecb0eb6>\u001b[0m in \u001b[0;36m<module>\u001b[0;34m\u001b[0m\n\u001b[1;32m     35\u001b[0m \u001b[0mprb\u001b[0m\u001b[0;34m.\u001b[0m\u001b[0mSolver\u001b[0m \u001b[0;34m=\u001b[0m \u001b[0mPardiso\u001b[0m\u001b[0;34m\u001b[0m\u001b[0;34m\u001b[0m\u001b[0m\n\u001b[1;32m     36\u001b[0m \u001b[0mprb\u001b[0m\u001b[0;34m.\u001b[0m\u001b[0mpair\u001b[0m\u001b[0;34m(\u001b[0m\u001b[0msurvey\u001b[0m\u001b[0;34m)\u001b[0m\u001b[0;34m\u001b[0m\u001b[0;34m\u001b[0m\u001b[0m\n\u001b[0;32m---> 37\u001b[0;31m data = prb.simulate(\n\u001b[0m\u001b[1;32m     38\u001b[0m         \u001b[0msigma_local\u001b[0m\u001b[0;34m,\u001b[0m\u001b[0;34m\u001b[0m\u001b[0;34m\u001b[0m\u001b[0m\n\u001b[1;32m     39\u001b[0m         \u001b[0mtime\u001b[0m\u001b[0;34m,\u001b[0m\u001b[0;34m\u001b[0m\u001b[0;34m\u001b[0m\u001b[0m\n",
      "\u001b[0;32m~/git_cloned/simpegskytem/TDEM.py\u001b[0m in \u001b[0;36msimulate\u001b[0;34m(self, m, time, time_dual_moment, time_input_currents, input_currents, time_input_currents_dual_moment, input_currents_dual_moment, eps, base_frequency, base_frequency_dual_moment)\u001b[0m\n\u001b[1;32m    115\u001b[0m                 \u001b[0mself\u001b[0m\u001b[0;34m.\u001b[0m\u001b[0mtimeMesh\u001b[0m\u001b[0;34m.\u001b[0m\u001b[0mgridCC\u001b[0m\u001b[0;34m,\u001b[0m \u001b[0mdata_stepoff\u001b[0m\u001b[0;34m[\u001b[0m\u001b[0;34m:\u001b[0m\u001b[0;34m,\u001b[0m \u001b[0mii\u001b[0m\u001b[0;34m]\u001b[0m\u001b[0;34m\u001b[0m\u001b[0;34m\u001b[0m\u001b[0m\n\u001b[1;32m    116\u001b[0m             )\n\u001b[0;32m--> 117\u001b[0;31m             data_temp = piecewise_pulse_fast(\n\u001b[0m\u001b[1;32m    118\u001b[0m                                 \u001b[0mstep_func\u001b[0m\u001b[0;34m,\u001b[0m \u001b[0mtime\u001b[0m\u001b[0;34m,\u001b[0m\u001b[0;34m\u001b[0m\u001b[0;34m\u001b[0m\u001b[0m\n\u001b[1;32m    119\u001b[0m                                 \u001b[0mtime_input_currents\u001b[0m\u001b[0;34m,\u001b[0m \u001b[0minput_currents\u001b[0m\u001b[0;34m,\u001b[0m\u001b[0;34m\u001b[0m\u001b[0;34m\u001b[0m\u001b[0m\n",
      "\u001b[0;32m~/miniconda3/envs/SWIlarge-environment/lib/python3.8/site-packages/simpegEM1D/Waveforms.py\u001b[0m in \u001b[0;36mpiecewise_pulse_fast\u001b[0;34m(step_func, t_off, t_currents, currents, T, n, n_pulse)\u001b[0m\n\u001b[1;32m    405\u001b[0m \u001b[0;34m\u001b[0m\u001b[0m\n\u001b[1;32m    406\u001b[0m     \u001b[0;32mif\u001b[0m \u001b[0mn_pulse\u001b[0m \u001b[0;34m==\u001b[0m \u001b[0;36m1\u001b[0m\u001b[0;34m:\u001b[0m\u001b[0;34m\u001b[0m\u001b[0;34m\u001b[0m\u001b[0m\n\u001b[0;32m--> 407\u001b[0;31m         response = piecewise_ramp_fast(\n\u001b[0m\u001b[1;32m    408\u001b[0m                 \u001b[0mstep_func\u001b[0m\u001b[0;34m,\u001b[0m \u001b[0mt_off\u001b[0m\u001b[0;34m,\u001b[0m \u001b[0mt_currents\u001b[0m\u001b[0;34m,\u001b[0m \u001b[0mcurrents\u001b[0m\u001b[0;34m,\u001b[0m \u001b[0mx\u001b[0m\u001b[0;34m,\u001b[0m \u001b[0mw\u001b[0m\u001b[0;34m\u001b[0m\u001b[0;34m\u001b[0m\u001b[0m\n\u001b[1;32m    409\u001b[0m         )\n",
      "\u001b[0;32m~/miniconda3/envs/SWIlarge-environment/lib/python3.8/site-packages/simpegEM1D/Waveforms.py\u001b[0m in \u001b[0;36mpiecewise_ramp_fast\u001b[0;34m(step_func, t_off, t_currents, currents, x, w, eps)\u001b[0m\n\u001b[1;32m    290\u001b[0m \u001b[0;34m\u001b[0m\u001b[0m\n\u001b[1;32m    291\u001b[0m     \u001b[0;31m# Evaluate and weight G-L values with current waveform\u001b[0m\u001b[0;34m\u001b[0m\u001b[0;34m\u001b[0m\u001b[0;34m\u001b[0m\u001b[0m\n\u001b[0;32m--> 292\u001b[0;31m     \u001b[0mf\u001b[0m \u001b[0;34m=\u001b[0m \u001b[0mw\u001b[0m \u001b[0;34m*\u001b[0m \u001b[0mstep_func\u001b[0m\u001b[0;34m(\u001b[0m\u001b[0mnp\u001b[0m\u001b[0;34m.\u001b[0m\u001b[0mlog10\u001b[0m\u001b[0;34m(\u001b[0m\u001b[0my\u001b[0m\u001b[0;34m)\u001b[0m\u001b[0;34m)\u001b[0m\u001b[0;34m\u001b[0m\u001b[0;34m\u001b[0m\u001b[0m\n\u001b[0m\u001b[1;32m    293\u001b[0m     \u001b[0ms\u001b[0m \u001b[0;34m=\u001b[0m \u001b[0mf\u001b[0m\u001b[0;34m.\u001b[0m\u001b[0msum\u001b[0m\u001b[0;34m(\u001b[0m\u001b[0maxis\u001b[0m \u001b[0;34m=\u001b[0m \u001b[0;36m2\u001b[0m\u001b[0;34m)\u001b[0m \u001b[0;34m*\u001b[0m \u001b[0;36m0.5\u001b[0m \u001b[0;34m*\u001b[0m \u001b[0mdt_on_off\u001b[0m\u001b[0;34m\u001b[0m\u001b[0;34m\u001b[0m\u001b[0m\n\u001b[1;32m    294\u001b[0m \u001b[0;34m\u001b[0m\u001b[0m\n",
      "\u001b[0;32m~/miniconda3/envs/SWIlarge-environment/lib/python3.8/site-packages/scipy/interpolate/polyint.py\u001b[0m in \u001b[0;36m__call__\u001b[0;34m(self, x)\u001b[0m\n\u001b[1;32m     77\u001b[0m         \"\"\"\n\u001b[1;32m     78\u001b[0m         \u001b[0mx\u001b[0m\u001b[0;34m,\u001b[0m \u001b[0mx_shape\u001b[0m \u001b[0;34m=\u001b[0m \u001b[0mself\u001b[0m\u001b[0;34m.\u001b[0m\u001b[0m_prepare_x\u001b[0m\u001b[0;34m(\u001b[0m\u001b[0mx\u001b[0m\u001b[0;34m)\u001b[0m\u001b[0;34m\u001b[0m\u001b[0;34m\u001b[0m\u001b[0m\n\u001b[0;32m---> 79\u001b[0;31m         \u001b[0my\u001b[0m \u001b[0;34m=\u001b[0m \u001b[0mself\u001b[0m\u001b[0;34m.\u001b[0m\u001b[0m_evaluate\u001b[0m\u001b[0;34m(\u001b[0m\u001b[0mx\u001b[0m\u001b[0;34m)\u001b[0m\u001b[0;34m\u001b[0m\u001b[0;34m\u001b[0m\u001b[0m\n\u001b[0m\u001b[1;32m     80\u001b[0m         \u001b[0;32mreturn\u001b[0m \u001b[0mself\u001b[0m\u001b[0;34m.\u001b[0m\u001b[0m_finish_y\u001b[0m\u001b[0;34m(\u001b[0m\u001b[0my\u001b[0m\u001b[0;34m,\u001b[0m \u001b[0mx_shape\u001b[0m\u001b[0;34m)\u001b[0m\u001b[0;34m\u001b[0m\u001b[0;34m\u001b[0m\u001b[0m\n\u001b[1;32m     81\u001b[0m \u001b[0;34m\u001b[0m\u001b[0m\n",
      "\u001b[0;32m~/miniconda3/envs/SWIlarge-environment/lib/python3.8/site-packages/scipy/interpolate/interpolate.py\u001b[0m in \u001b[0;36m_evaluate\u001b[0;34m(self, x_new)\u001b[0m\n\u001b[1;32m    661\u001b[0m         \u001b[0my_new\u001b[0m \u001b[0;34m=\u001b[0m \u001b[0mself\u001b[0m\u001b[0;34m.\u001b[0m\u001b[0m_call\u001b[0m\u001b[0;34m(\u001b[0m\u001b[0mself\u001b[0m\u001b[0;34m,\u001b[0m \u001b[0mx_new\u001b[0m\u001b[0;34m)\u001b[0m\u001b[0;34m\u001b[0m\u001b[0;34m\u001b[0m\u001b[0m\n\u001b[1;32m    662\u001b[0m         \u001b[0;32mif\u001b[0m \u001b[0;32mnot\u001b[0m \u001b[0mself\u001b[0m\u001b[0;34m.\u001b[0m\u001b[0m_extrapolate\u001b[0m\u001b[0;34m:\u001b[0m\u001b[0;34m\u001b[0m\u001b[0;34m\u001b[0m\u001b[0m\n\u001b[0;32m--> 663\u001b[0;31m             \u001b[0mbelow_bounds\u001b[0m\u001b[0;34m,\u001b[0m \u001b[0mabove_bounds\u001b[0m \u001b[0;34m=\u001b[0m \u001b[0mself\u001b[0m\u001b[0;34m.\u001b[0m\u001b[0m_check_bounds\u001b[0m\u001b[0;34m(\u001b[0m\u001b[0mx_new\u001b[0m\u001b[0;34m)\u001b[0m\u001b[0;34m\u001b[0m\u001b[0;34m\u001b[0m\u001b[0m\n\u001b[0m\u001b[1;32m    664\u001b[0m             \u001b[0;32mif\u001b[0m \u001b[0mlen\u001b[0m\u001b[0;34m(\u001b[0m\u001b[0my_new\u001b[0m\u001b[0;34m)\u001b[0m \u001b[0;34m>\u001b[0m \u001b[0;36m0\u001b[0m\u001b[0;34m:\u001b[0m\u001b[0;34m\u001b[0m\u001b[0;34m\u001b[0m\u001b[0m\n\u001b[1;32m    665\u001b[0m                 \u001b[0;31m# Note fill_value must be broadcast up to the proper size\u001b[0m\u001b[0;34m\u001b[0m\u001b[0;34m\u001b[0m\u001b[0;34m\u001b[0m\u001b[0m\n",
      "\u001b[0;32m~/miniconda3/envs/SWIlarge-environment/lib/python3.8/site-packages/scipy/interpolate/interpolate.py\u001b[0m in \u001b[0;36m_check_bounds\u001b[0;34m(self, x_new)\u001b[0m\n\u001b[1;32m    690\u001b[0m         \u001b[0;31m# !! Could provide more information about which values are out of bounds\u001b[0m\u001b[0;34m\u001b[0m\u001b[0;34m\u001b[0m\u001b[0;34m\u001b[0m\u001b[0m\n\u001b[1;32m    691\u001b[0m         \u001b[0;32mif\u001b[0m \u001b[0mself\u001b[0m\u001b[0;34m.\u001b[0m\u001b[0mbounds_error\u001b[0m \u001b[0;32mand\u001b[0m \u001b[0mbelow_bounds\u001b[0m\u001b[0;34m.\u001b[0m\u001b[0many\u001b[0m\u001b[0;34m(\u001b[0m\u001b[0;34m)\u001b[0m\u001b[0;34m:\u001b[0m\u001b[0;34m\u001b[0m\u001b[0;34m\u001b[0m\u001b[0m\n\u001b[0;32m--> 692\u001b[0;31m             raise ValueError(\"A value in x_new is below the interpolation \"\n\u001b[0m\u001b[1;32m    693\u001b[0m                              \"range.\")\n\u001b[1;32m    694\u001b[0m         \u001b[0;32mif\u001b[0m \u001b[0mself\u001b[0m\u001b[0;34m.\u001b[0m\u001b[0mbounds_error\u001b[0m \u001b[0;32mand\u001b[0m \u001b[0mabove_bounds\u001b[0m\u001b[0;34m.\u001b[0m\u001b[0many\u001b[0m\u001b[0;34m(\u001b[0m\u001b[0;34m)\u001b[0m\u001b[0;34m:\u001b[0m\u001b[0;34m\u001b[0m\u001b[0;34m\u001b[0m\u001b[0m\n",
      "\u001b[0;31mValueError\u001b[0m: A value in x_new is below the interpolation range."
     ]
    }
   ],
   "source": [
    "# i_src, work_dir, n_thread = args\n",
    "# mkl_set_num_threads(n_thread)\n",
    "from SimPEG import EM\n",
    "from  pymatsolver import Pardiso\n",
    "\n",
    "\n",
    "mesh_local = inputs['mesh_local']\n",
    "actv_local = inputs['actv_local']\n",
    "sigma_interpolator = inputs['sigma_interpolator']\n",
    "srcloc = inputs['srcloc']\n",
    "rxloc = inputs['rxloc']\n",
    "time = inputs['time']\n",
    "time_input_currents = inputs['time_input_currents']\n",
    "input_currents = inputs['input_currents']\n",
    "base_frequency = inputs['base_frequency']\n",
    "time_dual_moment = inputs['time_dual_moment']\n",
    "time_input_currents_dual_moment = inputs['time_input_currents_dual_moment']\n",
    "input_currents_dual_moment = inputs['input_currents_dual_moment']\n",
    "base_frequency_dual_moment = inputs['base_frequency_dual_moment']\n",
    "\n",
    "values = sigma_interpolator(mesh_local.gridCC[actv_local,:])\n",
    "sigma_local = np.ones(mesh_local.nC) * 1e-8\n",
    "sigma_local[actv_local] = values\n",
    "\n",
    "rx = EM.TDEM.Rx.Point_dbdt(rxloc, np.logspace(np.log10(1e-6), np.log10(1e-2), 31), 'z')\n",
    "src = EM.TDEM.Src.MagDipole([rx], waveform=EM.TDEM.Src.StepOffWaveform(), loc=srcloc)\n",
    "survey = EM.TDEM.Survey([src])\n",
    "prb = ProblemSkyTEM(mesh_local, sigma=sigma_local, verbose=False)\n",
    "dts = np.diff(np.logspace(-6, -1, 50))\n",
    "prb.timeSteps = [\n",
    "    (3e-7, 6),(1e-6, 5),(2e-6, 5),(5e-6, 5),\n",
    "    (1e-5, 5),(2e-5, 5),(5e-5, 5),(1e-4, 5),\n",
    "    (2e-4, 5),(5e-4, 5),(1e-3, 15)\n",
    "]\n",
    "prb.Solver = Pardiso\n",
    "prb.pair(survey)\n",
    "data = prb.simulate(\n",
    "        sigma_local,\n",
    "        time,\n",
    "        time_dual_moment,\n",
    "        time_input_currents,\n",
    "        input_currents,\n",
    "        time_input_currents_dual_moment,\n",
    "        input_currents_dual_moment,\n",
    "        base_frequency=base_frequency,\n",
    "        base_frequency_dual_moment=base_frequency_dual_moment\n",
    ")"
   ]
  },
  {
   "cell_type": "code",
   "execution_count": null,
   "metadata": {},
   "outputs": [],
   "source": [
    "interp()"
   ]
  },
  {
   "cell_type": "code",
   "execution_count": null,
   "metadata": {},
   "outputs": [],
   "source": [
    "def run_simulation_skytem(args):\n",
    "    \"\"\"\n",
    "    run_simulation_skytem\n",
    "    --------------\n",
    "    \"\"\"\n",
    "    #DEACTIVATED BECAUSE I CANNOT GET MKL TO  IMPORT\n",
    "    from pyMKL import mkl_set_num_threads\n",
    "    i_src, work_dir, n_thread = args\n",
    "    mkl_set_num_threads(n_thread)\n",
    "    inputs = dill.load(open(Path(work_dir).joinpath(\"inputs_{}.pkl\".format(i_src)).as_posix(), 'rb'))\n",
    "    mesh_local = inputs['mesh_local']\n",
    "    actv_local = inputs['actv_local']\n",
    "    sigma_interpolator = inputs['sigma_interpolator']\n",
    "    srcloc = inputs['srcloc']\n",
    "    rxloc = inputs['rxloc']\n",
    "    time = inputs['time']\n",
    "    time_input_currents = inputs['time_input_currents']\n",
    "    input_currents = inputs['input_currents']\n",
    "    base_frequency = inputs['base_frequency']\n",
    "    time_dual_moment = inputs['time_dual_moment']\n",
    "    time_input_currents_dual_moment = inputs['time_input_currents_dual_moment']\n",
    "    input_currents_dual_moment = inputs['input_currents_dual_moment']\n",
    "    base_frequency_dual_moment = inputs['base_frequency_dual_moment']\n",
    "\n",
    "    values = sigma_interpolator(mesh_local.gridCC[actv_local,:])\n",
    "    sigma_local = np.ones(mesh_local.nC) * 1e-8\n",
    "    sigma_local[actv_local] = values\n",
    "\n",
    "    rx = EM.TDEM.Rx.Point_dbdt(rxloc, np.logspace(np.log10(1e-6), np.log10(1e-2), 31), 'z')\n",
    "    src = EM.TDEM.Src.MagDipole([rx], waveform=EM.TDEM.Src.StepOffWaveform(), loc=srcloc)\n",
    "    survey = EM.TDEM.Survey([src])\n",
    "    prb = ProblemSkyTEM(mesh_local, sigma=sigma_local, verbose=False)\n",
    "    dts = np.diff(np.logspace(-6, -1, 50))\n",
    "    prb.timeSteps = [\n",
    "        (3e-7, 6),(1e-6, 5),(2e-6, 5),(5e-6, 5),\n",
    "        (1e-5, 5),(2e-5, 5),(5e-5, 5),(1e-4, 5),\n",
    "        (2e-4, 5),(5e-4, 5),(1e-3, 15)\n",
    "    ]\n",
    "    prb.Solver = Pardiso\n",
    "    prb.pair(survey)\n",
    "    data = prb.simulate(\n",
    "            sigma_local,\n",
    "            time,\n",
    "            time_dual_moment,\n",
    "            time_input_currents,\n",
    "            input_currents,\n",
    "            time_input_currents_dual_moment,\n",
    "            input_currents_dual_moment,\n",
    "            base_frequency=base_frequency,\n",
    "            base_frequency_dual_moment=base_frequency_dual_moment\n",
    "    )\n",
    "    return data\n"
   ]
  },
  {
   "cell_type": "code",
   "execution_count": 123,
   "metadata": {},
   "outputs": [
    {
     "data": {
      "text/plain": [
       "<module 'simpegskytem' from '../../simpegskytem/__init__.py'>"
      ]
     },
     "execution_count": 123,
     "metadata": {},
     "output_type": "execute_result"
    }
   ],
   "source": [
    "import importlib\n",
    "importlib.reload(simpegskytem)"
   ]
  },
  {
   "cell_type": "code",
   "execution_count": null,
   "metadata": {},
   "outputs": [],
   "source": [
    "def forward(self, m):\n",
    "\n",
    "    self.model = m\n",
    "\n",
    "    if self.verbose:\n",
    "        print(\">> Compute response\")\n",
    "    if self.parallel_option == 'multiprocess':\n",
    "        pool = Pool(self.n_cpu)\n",
    "        # This assumes the same # of layer for each of soundings\n",
    "        results = pool.map(\n",
    "            run_simulation_skytem,\n",
    "            [(i_src, self.work_dir, self.n_thread) for i_src in range(self.n_sounding)]\n",
    "        )\n",
    "        pool.close()\n",
    "        pool.join()\n"
   ]
  },
  {
   "cell_type": "code",
   "execution_count": null,
   "metadata": {},
   "outputs": [],
   "source": [
    "def create_simulation(it,time,rho_grid,actv,mesh,survey):\n",
    "    simulation_workdir = datadir.joinpath('./tmp{}_time{}'.format(it,int(time)))\n",
    "    try:\n",
    "        simulation_workdir.mkdir()\n",
    "    except:\n",
    "        pass\n",
    "\n",
    "    simulation = GlobalSkyTEM(\n",
    "        mesh, \n",
    "        sigma=1./rho_grid, \n",
    "        actv=actv, \n",
    "        parallel_option='multiprocess',\n",
    "        n_cpu=4,\n",
    "        work_dir=simulation_workdir.as_posix()\n",
    "    )\n",
    "    simulation.pair(survey)\n",
    "    return simulation\n",
    "\n",
    "def run_collect_data(simulation,rho_grid):\n",
    "    print('writing inputs...\\n')\n",
    "    simulation.write_inputs_on_disk_pool()\n",
    "    print('running simulation...\\n')\n",
    "    data = simulation.forward(1./rho_grid)\n",
    "    print('finished simulation!')\n",
    "    # DATA = data.reshape((times_hm_312.size+times_lm_312.size, n_sounding), order='F')\n",
    "    # DATA_HM = -DATA[:times_hm_312.size,:]\n",
    "    # DATA_LM = -DATA[times_hm_312.size:,:]\n",
    "    return data"
   ]
  },
  {
   "cell_type": "code",
   "execution_count": null,
   "metadata": {},
   "outputs": [],
   "source": []
  },
  {
   "cell_type": "code",
   "execution_count": null,
   "metadata": {},
   "outputs": [],
   "source": []
  },
  {
   "cell_type": "code",
   "execution_count": null,
   "metadata": {},
   "outputs": [],
   "source": []
  },
  {
   "cell_type": "code",
   "execution_count": null,
   "metadata": {},
   "outputs": [],
   "source": []
  },
  {
   "cell_type": "code",
   "execution_count": null,
   "metadata": {},
   "outputs": [],
   "source": []
  },
  {
   "cell_type": "code",
   "execution_count": null,
   "metadata": {},
   "outputs": [],
   "source": []
  },
  {
   "cell_type": "code",
   "execution_count": null,
   "metadata": {},
   "outputs": [],
   "source": [
    "hm_times_TEM_304 = [5.93150e-05,6.08150e-05,6.28150e-05,6.48150e-05,6.68150e-05,6.88200e-05,7.08100e-05,7.33200e-05,\n",
    "                    7.68100e-05,8.13100e-05,8.68100e-05,9.38200e-05,1.02810e-04,1.14310e-04,1.28810e-04,1.46810e-04,\n",
    "                    1.69300e-04,1.97300e-04,2.32800e-04,2.78300e-04,3.35300e-04,4.07300e-04,4.98300e-04,6.12300e-04,\n",
    "                    7.56300e-04,9.37800e-04,1.16660e-03,1.45460e-03,1.81860e-03,2.27760e-03,2.85560e-03,3.57460e-03,\n",
    "                    4.45460e-03,5.53160e-03,6.84960e-03,8.46360e-03,1.04386e-02]\n",
    "\n",
    "lm_times_TEM_304 = [1.00000e-07,4.15000e-07,2.41500e-06,4.41500e-06,6.41500e-06,8.42000e-06,1.04100e-05,1.29200e-05,\n",
    "                    1.64100e-05,2.09100e-05,2.64100e-05,3.34200e-05,4.24100e-05,5.39100e-05,6.84100e-05,8.64100e-05,\n",
    "                    1.08900e-04,1.36900e-04,1.72400e-04,2.17900e-04,2.74900e-04,3.46900e-04,4.37900e-04,5.51900e-04,\n",
    "                    6.95900e-04,8.77400e-04,1.10620e-03,1.39420e-03]"
   ]
  },
  {
   "cell_type": "code",
   "execution_count": null,
   "metadata": {},
   "outputs": [],
   "source": [
    "times = []\n",
    "time_dual_moment = []\n",
    "input_currents = []\n",
    "time_input_currents = []\n",
    "input_currents_dual_moment = []\n",
    "time_input_currents_dual_moment = []\n",
    "\n",
    "for i_sounding in range(n_sounding):\n",
    "    if system[i_sounding]==312:\n",
    "        times.append(times_HM_312)\n",
    "        time_dual_moment.append(times_LM_312)\n",
    "        time_input_currents.append(time_input_currents_HM_312)\n",
    "        input_currents.append(input_currents_HM_312)\n",
    "        time_input_currents_dual_moment.append(time_input_currents_LM_312)\n",
    "        input_currents_dual_moment.append(input_currents_LM_312)  \n",
    "    elif system[i_sounding]==304:\n",
    "        times.append(times_HM_304)\n",
    "        time_dual_moment.append(times_LM_304)\n",
    "        time_input_currents.append(time_input_currents_HM_304)\n",
    "        input_currents.append(input_currents_HM_304)\n",
    "        time_input_currents_dual_moment.append(time_input_currents_LM_304)\n",
    "        input_currents_dual_moment.append(input_currents_LM_304)      "
   ]
  },
  {
   "cell_type": "code",
   "execution_count": null,
   "metadata": {},
   "outputs": [],
   "source": [
    "from SimPEG import (\n",
    "    Regularization, Directives, Inversion, \n",
    "    InvProblem, Optimization, DataMisfit, Utils, Maps)\n",
    "\n",
    "mapping = Maps.ExpMap(mesh)\n",
    "\n",
    "survey = GlobalEM1DSurveyTD(\n",
    "    rx_locations = rx_locations[:,:],\n",
    "    src_locations = src_locations[:,:],    \n",
    "    topo = topo[:,:],\n",
    "    time = times,\n",
    "    time_dual_moment = time_dual_moment,\n",
    "    src_type = np.array([\"VMD\"], dtype=str).repeat(n_sounding),\n",
    "    rx_type = np.array([\"dBzdt\"], dtype=str).repeat(n_sounding),    \n",
    "    offset = np.array([13.25], dtype=float).repeat(n_sounding).reshape([-1,1]),    \n",
    "    wave_type = np.array([\"general\"], dtype=str).repeat(n_sounding),    \n",
    "    field_type = np.array([\"secondary\"], dtype=str).repeat(n_sounding),    \n",
    "    input_currents=input_currents,\n",
    "    time_input_currents=time_input_currents,\n",
    "    base_frequency = np.array([30.]).repeat(n_sounding),\n",
    "    input_currents_dual_moment=input_currents_dual_moment,\n",
    "    time_input_currents_dual_moment=time_input_currents_dual_moment,\n",
    "    base_frequency_dual_moment = np.array([210.]).repeat(n_sounding),\n",
    "    moment_type=np.array([\"dual\"], dtype=str).repeat(n_sounding)\n",
    ")\n",
    "\n",
    "prob = GlobalEM1DProblemTD(\n",
    "    [], sigmaMap=mapping, hz=hz, parallel=True, n_cpu=4,\n",
    "    Solver=PardisoSolver\n",
    ")\n",
    "prob.pair(survey)"
   ]
  },
  {
   "cell_type": "code",
   "execution_count": null,
   "metadata": {},
   "outputs": [],
   "source": []
  },
  {
   "cell_type": "code",
   "execution_count": null,
   "metadata": {},
   "outputs": [],
   "source": []
  },
  {
   "cell_type": "code",
   "execution_count": null,
   "metadata": {},
   "outputs": [],
   "source": []
  },
  {
   "cell_type": "code",
   "execution_count": null,
   "metadata": {},
   "outputs": [],
   "source": []
  },
  {
   "cell_type": "code",
   "execution_count": null,
   "metadata": {},
   "outputs": [],
   "source": []
  },
  {
   "cell_type": "code",
   "execution_count": null,
   "metadata": {},
   "outputs": [],
   "source": []
  },
  {
   "cell_type": "code",
   "execution_count": null,
   "metadata": {},
   "outputs": [],
   "source": []
  },
  {
   "cell_type": "code",
   "execution_count": null,
   "metadata": {},
   "outputs": [],
   "source": [
    "pad_amt = 0\n",
    "iskip = 2\n",
    "nlay,nrow,ncol = (26, 20, 100)\n",
    "dx,dy,dz = (30,30,3)\n",
    "Lx,Ly,Lz = (dx*ncol,dy*nrow,dz*nlay)\n",
    "xmin, xmax = pad_amt, Lx-pad_amt\n",
    "ymin, ymax = pad_amt, Ly-pad_amt\n",
    "\n",
    "# generate survey\n",
    "x_inds = np.argwhere(np.logical_and(mesh.vectorCCx > xmin, mesh.vectorCCx < xmax))\n",
    "y_inds = np.argwhere(np.logical_and(mesh.vectorCCy > ymin, mesh.vectorCCy < ymax))\n",
    "x = mesh.vectorCCx[x_inds][::iskip]\n",
    "y = mesh.vectorCCy[y_inds][::iskip]\n",
    "# f_dem = NearestNDInterpolator(dem[:,:2], dem[:,2])\n",
    "xy = Utils.ndgrid(x, y)\n"
   ]
  },
  {
   "cell_type": "code",
   "execution_count": null,
   "metadata": {},
   "outputs": [],
   "source": [
    "mesh.vectorCCx.shape"
   ]
  },
  {
   "cell_type": "code",
   "execution_count": 5,
   "metadata": {},
   "outputs": [],
   "source": [
    "def create_survey(mesh,pad_amt=0,iskip=2):\n",
    "    #Set source and receiver locations\n",
    "    nlay,nrow,ncol = (26, 20, 100)\n",
    "    dx,dy,dz = (30,30,3)\n",
    "    Lx,Ly,Lz = (dx*ncol,dy*nrow,dz*nlay)\n",
    "    xmin, xmax = pad_amt, Lx-pad_amt\n",
    "    ymin, ymax = pad_amt, Ly-pad_amt\n",
    "\n",
    "    # generate survey\n",
    "    x_inds = np.argwhere(np.logical_and(mesh.vectorCCx > xmin, mesh.vectorCCx < xmax))\n",
    "    y_inds = np.argwhere(np.logical_and(mesh.vectorCCy > ymin, mesh.vectorCCy < ymax))\n",
    "    x = mesh.vectorCCx[x_inds][::iskip]\n",
    "    y = mesh.vectorCCy[y_inds][::iskip]\n",
    "    # f_dem = NearestNDInterpolator(dem[:,:2], dem[:,2])\n",
    "    xy = Utils.ndgrid(x, y)\n",
    "    # z = f_dem(xy)\n",
    "\n",
    "    #Source and receiver height\n",
    "    z = np.zeros(len(xy))\n",
    "    src_height = 30.\n",
    "    src_locations = np.c_[xy, z + src_height]\n",
    "    rx_locations = np.c_[xy[:,0]+13.25, xy[:,1], z+2.+ src_height]\n",
    "    topo = np.c_[xy, z]\n",
    "    n_sounding = src_locations.shape[0]\n",
    "    print(n_sounding)\n",
    "\n",
    "    unit_conversion = 1e-12\n",
    "\n",
    "    i_start_hm = 10\n",
    "    i_start_lm = 10\n",
    "\n",
    "    waveform_hm_312 = np.loadtxt('../aem-waveform/waveform_hm_312.txt')\n",
    "    waveform_lm_312 = np.loadtxt('../aem-waveform/waveform_lm_312.txt')\n",
    "    time_input_currents_hm_312 = waveform_hm_312[:,0] \n",
    "    input_currents_hm_312 = waveform_hm_312[:,1]\n",
    "    time_input_currents_lm_312 = waveform_lm_312[:,0] \n",
    "    input_currents_lm_312 = waveform_lm_312[:,1]\n",
    "\n",
    "    time_gates = np.loadtxt(('../aem-waveform/time_gates'))\n",
    "    GateTimeShift=-2.09E-06\n",
    "    MeaTimeDelay=0.000E+00\n",
    "    NoGates=28\n",
    "    t0_lm_312 = waveform_lm_312[:,0].max()\n",
    "    times_lm_312 = (time_gates[:NoGates,0] + GateTimeShift + MeaTimeDelay)[i_start_lm:] - t0_lm_312\n",
    "\n",
    "    GateTimeShift=-1.5E-06\n",
    "    MeaTimeDelay=3.500E-04\n",
    "    NoGates=37\n",
    "    t0_hm_312 = waveform_hm_312[:,0].max()\n",
    "    times_hm_312 = (time_gates[:NoGates,0] + GateTimeShift + MeaTimeDelay)[i_start_hm:] - t0_hm_312    \n",
    "\n",
    "    survey = get_skytem_survey(\n",
    "        topo,\n",
    "        src_locations,\n",
    "        rx_locations,\n",
    "        times_hm_312,\n",
    "        time_input_currents_hm_312,\n",
    "        input_currents_hm_312,\n",
    "        base_frequency=25.,\n",
    "        src_type=\"VMD\",\n",
    "        rx_type=\"dBzdt\",    \n",
    "        moment_type=\"dual\",        \n",
    "        time_dual_moment=times_lm_312,\n",
    "        time_input_currents_dual_moment=time_input_currents_lm_312,\n",
    "        input_currents_dual_moment=input_currents_lm_312,\n",
    "        base_frequency_dual_moment=210.,\n",
    "        wave_type=\"general\",    \n",
    "        field_type=\"secondary\",    \n",
    "    )\n",
    "    return survey\n"
   ]
  },
  {
   "cell_type": "code",
   "execution_count": 6,
   "metadata": {},
   "outputs": [],
   "source": [
    "\n",
    "def create_model(sigma_bulk,mesh):\n",
    "    rho_transf = 1/sigma_bulk\n",
    "    n_pad_ocean = 20\n",
    "    n_pad_inland = 20\n",
    "    n_pad_row = 20\n",
    "\n",
    "    # #Air padding\n",
    "\n",
    "    #Row padding\n",
    "    rho_transf = np.append(rho_transf,\n",
    "                           np.tile(rho_transf[:,np.newaxis,-1,:],(1,n_pad_row,1)),\n",
    "                           axis=1)\n",
    "    rho_transf = np.append(np.tile(rho_transf[:,np.newaxis,-1,:],(1,n_pad_row,1)),\n",
    "                           rho_transf,\n",
    "                           axis=1)\n",
    "    #Ocean padding\n",
    "    rho_transf = np.append(rho_transf,\n",
    "                               rho_transf[:,:,-1].min()*np.ones(\n",
    "                                   (rho_transf.shape[0],rho_transf.shape[1],n_pad_inland)),axis=2)\n",
    "\n",
    "\n",
    "\n",
    "    #Inland padding\n",
    "    rho_transf = np.append(rho_transf[:,:,0].mean()*np.ones(\n",
    "                               (rho_transf.shape[0],rho_transf.shape[1],n_pad_inland)),\n",
    "                           rho_transf,\n",
    "                           axis=2)\n",
    "\n",
    "\n",
    "    rho_background = 20.\n",
    "    rho_grid = np.ones(mesh.vnC,order='F') * rho_background\n",
    "    inds_insert = np.logical_and(mesh.vectorCCz> -26*3, mesh.vectorCCz <0)\n",
    "    \n",
    "    rho_grid[:,:,inds_insert] = np.transpose(rho_transf,(2,1,0))[:,:,::-1]\n",
    "    rho_grid = rho_grid.flatten(order='F')\n",
    "    rho_grid[mesh.gridCC[:,2]>0.] = np.nan\n",
    "\n",
    "    actv = np.ones_like(rho_grid,dtype=bool)\n",
    "    actv[mesh.gridCC[:,2]>0.] = False\n",
    "    return rho_grid, actv\n"
   ]
  },
  {
   "cell_type": "code",
   "execution_count": 7,
   "metadata": {},
   "outputs": [
    {
     "ename": "SyntaxError",
     "evalue": "invalid syntax (<ipython-input-7-91ed01399720>, line 3)",
     "output_type": "error",
     "traceback": [
      "\u001b[0;36m  File \u001b[0;32m\"<ipython-input-7-91ed01399720>\"\u001b[0;36m, line \u001b[0;32m3\u001b[0m\n\u001b[0;31m    sigma_bulk =\u001b[0m\n\u001b[0m                 ^\u001b[0m\n\u001b[0;31mSyntaxError\u001b[0m\u001b[0;31m:\u001b[0m invalid syntax\n"
     ]
    }
   ],
   "source": [
    "mesh = create_mesh()\n",
    "\n",
    "sigma_bulk = \n",
    "\n",
    "\n",
    "create_model(sigma_bulk,mesh"
   ]
  }
 ],
 "metadata": {
  "kernelspec": {
   "display_name": "Python 3",
   "language": "python",
   "name": "python3"
  },
  "language_info": {
   "codemirror_mode": {
    "name": "ipython",
    "version": 3
   },
   "file_extension": ".py",
   "mimetype": "text/x-python",
   "name": "python",
   "nbconvert_exporter": "python",
   "pygments_lexer": "ipython3",
   "version": "3.8.3"
  }
 },
 "nbformat": 4,
 "nbformat_minor": 4
}
