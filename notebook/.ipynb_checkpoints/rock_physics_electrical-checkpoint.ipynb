{
 "cells": [
  {
   "cell_type": "markdown",
   "metadata": {},
   "source": [
    "# Electrical rock physics"
   ]
  },
  {
   "cell_type": "code",
   "execution_count": 55,
   "metadata": {},
   "outputs": [],
   "source": [
    "#RP transforms \n",
    "import numpy as np\n",
    "import matplotlib.pyplot as plt\n",
    "\n",
    "\n",
    "def TDS_to_sigmaf(TDS,mTDS=1.4200556641030946,bTDS=332.7093594248108):\n",
    "    '''\n",
    "    Linear relationship of TDS to fluid resistivity\n",
    "    input: \n",
    "        TDS in mg/L\n",
    "        mTDS,bTDS: fitting params\n",
    "    output: \n",
    "        sigma_f: fluid conductivity in S/m\n",
    "    '''\n",
    "    return (mTDS*TDS*1000 + bTDS)/1e4\n",
    "\n",
    "\n",
    "def WS_sigma(sigma_f, por = 0.4, CEC=1,B0=4.5e-8, m=1.3):\n",
    "    '''\n",
    "    Waxman-Smits relationship for a clayey sand \n",
    "    input:\n",
    "        sigma_f: fluid conductivity in S/m\n",
    "        por: porosity\n",
    "        CEC: cation exchange capacity (meq/g)\n",
    "            1:smectite,  .2:Illite,  .02-.09:Kaolinite\n",
    "        B0: fitting parameter (default value taken from Revil and Glover, 1998)\n",
    "        m: Archie cementation exponent (0.5-2 for unconsolidated materials)\n",
    "    returns:\n",
    "        sigma_b: bulk conductivity in S/m\n",
    "    '''\n",
    "    rho_grain = 2650*1000 #g/m^3\n",
    "    F = por**(-m)\n",
    "    Qv = rho_grain*((1-por)/por)*CEC\n",
    "    B = B0*(1-.6*np.exp(-sigma_f/.013))\n",
    "    sigma_b = 1/F*(sigma_f + B*Qv)\n",
    "    return sigma_b,B,Qv\n",
    "\n",
    "\n",
    "def HSU(sigma1,sigma2,chi2):\n",
    "    '''\n",
    "    Hashin-Shtrikman upper bound\n",
    "    input:\n",
    "        sigma1: conductivity of the less conductive constituent\n",
    "        sigma2: conductivity of the more conductive constituent\n",
    "        chi2: volume fraction of the more conductive constituent\n",
    "    returns:\n",
    "        HSU\n",
    "    '''\n",
    "    return sigma2*(1 - (3*(1-chi2)*(sigma2-sigma1))/(3*sigma2 - chi2*(sigma2-sigma1)))\n",
    "\n",
    "def RP_twostep(TDS,CF,**kwargs):\n",
    "    '''\n",
    "    RP relationship for upscaling\n",
    "    1) Waxman-Smits relationship to estimate the conductivity of constituents:\n",
    "        sigma_clay and sigma_sand\n",
    "    2) Hashin-Shtrikman upper bound to predict global conductivity at the large scale \n",
    "    input:\n",
    "        TDS (mg/L)\n",
    "        CF: clay fraction at the upscaled volume\n",
    "        **kwargs: fed to WS_sigma function\n",
    "    returns:\n",
    "        upscaled global conductivity weighted by clay fraction (in S/m)\n",
    "    '''\n",
    "\n",
    "    #kwargs fed to WS_sigma\n",
    "    Cw = TDS_to_sigmaf(TDS)\n",
    "    sigma_sand = WS_sigma(Cw,CEC=0,**kwargs)[0]\n",
    "    sigma_clay = WS_sigma(Cw,CEC=1,**kwargs)[0]\n",
    "    return HSU(sigma_sand,sigma_clay,CF)\n",
    "\n",
    "\n"
   ]
  },
  {
   "cell_type": "code",
   "execution_count": 57,
   "metadata": {},
   "outputs": [
    {
     "data": {
      "text/plain": [
       "Text(0.5, 0, 'TDS (mg/L)')"
      ]
     },
     "execution_count": 57,
     "metadata": {},
     "output_type": "execute_result"
    },
    {
     "data": {
      "image/png": "[encoded data removed]",
      "text/plain": [
       "<Figure size 432x288 with 1 Axes>"
      ]
     },
     "metadata": {
      "needs_background": "light"
     },
     "output_type": "display_data"
    }
   ],
   "source": [
    "conc = np.logspace(-3,4,50)\n",
    "cf = 0.8\n",
    "por = 0.25\n",
    "m=1.2\n",
    "sigma_b = RP_twostep(conc,cf,por=por,m=m)\n",
    "\n",
    "sigma_bs = RP_twostep(conc,0,por=por,m=m)\n",
    "sigma_bc = RP_twostep(conc,1,por=por,m=m)\n",
    "\n",
    "\n",
    "\n",
    "plt.loglog(conc,1/sigma_b,label='HSU estimate')\n",
    "plt.loglog(conc,1/sigma_bc,'--',label='pure clay')\n",
    "plt.loglog(conc,1/sigma_bs,'--',label='pure sand')\n",
    "plt.legend()\n",
    "\n",
    "plt.ylabel('$\\\\rho_{bulk}$ $(\\Omega-m)$')\n",
    "plt.xlabel('TDS (mg/L)')"
   ]
  },
  {
   "cell_type": "code",
   "execution_count": null,
   "metadata": {},
   "outputs": [],
   "source": []
  }
 ],
 "metadata": {
  "kernelspec": {
   "display_name": "Python 3",
   "language": "python",
   "name": "python3"
  },
  "language_info": {
   "codemirror_mode": {
    "name": "ipython",
    "version": 3
   },
   "file_extension": ".py",
   "mimetype": "text/x-python",
   "name": "python",
   "nbconvert_exporter": "python",
   "pygments_lexer": "ipython3",
   "version": "3.8.3"
  }
 },
 "nbformat": 4,
 "nbformat_minor": 2
}
