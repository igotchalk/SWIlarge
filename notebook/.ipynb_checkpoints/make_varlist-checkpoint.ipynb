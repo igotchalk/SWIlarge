{
 "cells": [
  {
   "cell_type": "code",
   "execution_count": 24,
   "metadata": {},
   "outputs": [],
   "source": [
    "import numpy as np\n",
    "import pandas as pd\n",
    "from pathlib import Path\n",
    "\n",
    "saveyn= True\n",
    "n_samples=  1000\n",
    "f_df = Path('../data/PriorModel/Dist_table.xlsx')\n",
    "output_dir = f_df.parent\n",
    "\n",
    "df = pd.read_excel(f_df).loc[:,['Parameter Name','Distribution']]"
   ]
  },
  {
   "cell_type": "code",
   "execution_count": 25,
   "metadata": {},
   "outputs": [],
   "source": [
    "def load_obj(dirname,name):\n",
    "    import pickle\n",
    "    with open(Path(dirname).joinpath(name + '.pkl').as_posix(), 'rb') as f:\n",
    "        return pickle.load(f)\n",
    "\n",
    "def save_obj(dirname,obj,name):\n",
    "    import pickle\n",
    "    with open(Path(dirname).joinpath(name + '.pkl').as_posix(), 'wb') as f:\n",
    "        pickle.dump(obj, f, pickle.HIGHEST_PROTOCOL)\n",
    "\n",
    "\n",
    "def interp_dist(dist,n_samples):\n",
    "    lu_str = dist.split(sep='[')[-1].split(sep=']')[0].split(sep=',')\n",
    "    lower,upper = (float(lu_str[0]),float(lu_str[1]))    \n",
    "    if dist.startswith(\"U\"):\n",
    "        vals =  lower + np.random.rand(n_samples)*(upper-lower)\n",
    "    elif dist.startswith(\"LU\"):\n",
    "        lower = np.log(lower)\n",
    "        upper = np.log(upper)\n",
    "        vals =  np.exp(lower + np.random.rand(n_samples)*(upper-lower))\n",
    "    elif dist.startswith(\"P\"):\n",
    "        vals = np.random.randint(0,len(lu_str),n_samples)\n",
    "    return vals"
   ]
  },
  {
   "cell_type": "code",
   "execution_count": 26,
   "metadata": {},
   "outputs": [],
   "source": [
    "varlist = {}\n",
    "np.random.seed(0)\n",
    "for nam,dist in df.loc[:,['Parameter Name','Distribution']].values:\n",
    "    varlist[nam] = interp_dist(dist = dist,n_samples=n_samples)\n",
    "varlist['seed'] = np.arange(n_samples)\n",
    "TI_prop_values = np.array([45 ,55 ,65 ,75])\n",
    "TI_props = TI_prop_values[varlist['TI_prop']].astype(int)\n",
    "varlist['TI_props']=TI_props\n",
    "\n",
    "\n",
    "\n",
    "\n",
    "\n",
    "if saveyn:\n",
    "    save_obj(output_dir,varlist,'varlist')"
   ]
  },
  {
   "cell_type": "code",
   "execution_count": 27,
   "metadata": {},
   "outputs": [],
   "source": [
    " varlist_existing=   load_obj(output_dir,'varlist')"
   ]
  },
  {
   "cell_type": "code",
   "execution_count": 28,
   "metadata": {},
   "outputs": [
    {
     "name": "stdout",
     "output_type": "stream",
     "text": [
      "['kvh', 'por_sand', 'por_clay', 'aL', 'TI_wavelength', 'TI_amplitude', 'TI_width', 'TI_direction', 'TI_prop', 'kh_sand_180', 'kh_clay_180', 'DSA_head', 'TSW_head', 'r_x', 'r_y', 'r_z', 'prop_400', 'sill', 'kh_sand_400', 'kh_clay_400', 'kh_lay1', 'thinning', 'n_conduits', 'RP_model', 'm', 'CF_cp', 'CF_cr', 'seed', 'TI_props']\n"
     ]
    }
   ],
   "source": [
    "print([k for k,v in varlist.items()])"
   ]
  },
  {
   "cell_type": "code",
   "execution_count": 30,
   "metadata": {},
   "outputs": [
    {
     "data": {
      "image/png": "[encoded data removed]",
      "text/plain": [
       "<Figure size 432x288 with 1 Axes>"
      ]
     },
     "metadata": {
      "needs_background": "light"
     },
     "output_type": "display_data"
    },
    {
     "data": {
      "image/png": "[encoded data removed]",
      "text/plain": [
       "<Figure size 432x288 with 1 Axes>"
      ]
     },
     "metadata": {
      "needs_background": "light"
     },
     "output_type": "display_data"
    }
   ],
   "source": [
    "import matplotlib.pyplot as plt\n",
    "\n",
    "plt.hist(varlist_existing['kh_clay_400'])\n",
    "plt.show()\n",
    "\n",
    "plt.hist(varlist['kh_clay_400'])\n",
    "plt.show()"
   ]
  },
  {
   "cell_type": "code",
   "execution_count": null,
   "metadata": {},
   "outputs": [],
   "source": []
  }
 ],
 "metadata": {
  "kernelspec": {
   "display_name": "Python [conda env:SWIenv]",
   "language": "python",
   "name": "conda-env-SWIenv-py"
  },
  "language_info": {
   "codemirror_mode": {
    "name": "ipython",
    "version": 3
   },
   "file_extension": ".py",
   "mimetype": "text/x-python",
   "name": "python",
   "nbconvert_exporter": "python",
   "pygments_lexer": "ipython3",
   "version": "3.6.7"
  }
 },
 "nbformat": 4,
 "nbformat_minor": 2
}
