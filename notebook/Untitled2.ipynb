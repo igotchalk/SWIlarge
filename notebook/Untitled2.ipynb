{
 "cells": [
  {
   "cell_type": "code",
   "execution_count": null,
   "metadata": {},
   "outputs": [],
   "source": []
  },
  {
   "cell_type": "code",
   "execution_count": 19,
   "metadata": {},
   "outputs": [],
   "source": [
    "import flopy\n",
    "import os\n",
    "import sys\n",
    "from pathlib import Path\n",
    "import numpy as np\n",
    "import matplotlib.pyplot as plt\n",
    "\n",
    "nmgwmdir_cal = Path('../data/Calibrated_small') #<-- removed RCH, WEL, GLO, LST from the NAM file to load much faster\n",
    "workdir = Path('../work')\n",
    "figdir = Path('../work/figs')\n",
    "outputdir = Path('../work/output')\n",
    "model_ws = Path('../work/nmgwm_seawat')\n",
    "\n",
    "\n",
    "\n",
    "# nmgwmdir_uncal = Path('../data/Scenarios/C1/C1-12')\n",
    "# nmgwmdir_uncal = Path('/Users/ianpg/Dropbox/temp_convenience/SWIlarge/data/Scenarios/C1/C1-12')\n",
    "import config\n",
    "from set_rc import *"
   ]
  },
  {
   "cell_type": "markdown",
   "metadata": {},
   "source": [
    "##### Concentration"
   ]
  },
  {
   "cell_type": "code",
   "execution_count": 28,
   "metadata": {},
   "outputs": [],
   "source": [
    "fname = model_ws.joinpath('MT3D001.UCN').as_posix()\n",
    "anyvals= []\n",
    "ucnobj = flopy.utils.binaryfile.UcnFile(fname,verbose=False)\n",
    "# if kstpkper==None:\n",
    "kstpkpers = ucnobj.get_kstpkper()\n",
    "for kstpkper in kstpkpers:\n",
    "    conc = ucnobj.get_data(kstpkper=kstpkper)\n",
    "    anyvals.append(np.logical_and(conc < 100., conc>0.).any())"
   ]
  },
  {
   "cell_type": "markdown",
   "metadata": {},
   "source": [
    "##### Heads"
   ]
  },
  {
   "cell_type": "code",
   "execution_count": 41,
   "metadata": {},
   "outputs": [],
   "source": [
    "fname = model_ws.joinpath('nmgwm_seawat.hds').as_posix()\n",
    "hdobj = flopy.utils.binaryfile.HeadFile(fname,verbose=False)\n",
    "kstpkpers = hdobj.get_kstpkper()\n",
    "hd = hdobj.get_data(kstpkper=kstpkpers[-1])\n",
    "hd[hd<-100]=np.nan"
   ]
  },
  {
   "cell_type": "code",
   "execution_count": 46,
   "metadata": {},
   "outputs": [
    {
     "ename": "NameError",
     "evalue": "name 'ibound' is not defined",
     "output_type": "error",
     "traceback": [
      "\u001b[0;31m---------------------------------------------------------------------------\u001b[0m",
      "\u001b[0;31mNameError\u001b[0m                                 Traceback (most recent call last)",
      "\u001b[0;32m<ipython-input-46-6b9ff5b96bad>\u001b[0m in \u001b[0;36m<module>\u001b[0;34m\u001b[0m\n\u001b[0;32m----> 1\u001b[0;31m \u001b[0mnp\u001b[0m\u001b[0;34m.\u001b[0m\u001b[0margwhere\u001b[0m\u001b[0;34m(\u001b[0m\u001b[0mibound\u001b[0m\u001b[0;34m==\u001b[0m\u001b[0;36m0\u001b[0m\u001b[0;34m)\u001b[0m\u001b[0;34m\u001b[0m\u001b[0;34m\u001b[0m\u001b[0m\n\u001b[0m",
      "\u001b[0;31mNameError\u001b[0m: name 'ibound' is not defined"
     ]
    }
   ],
   "source": [
    "np.argwhere(ibound==0)"
   ]
  },
  {
   "cell_type": "code",
   "execution_count": 42,
   "metadata": {},
   "outputs": [
    {
     "data": {
      "text/plain": [
       "<matplotlib.colorbar.Colorbar at 0x1173e21d0>"
      ]
     },
     "execution_count": 42,
     "metadata": {},
     "output_type": "execute_result"
    },
    {
     "data": {
      "image/png": "[encoded data removed]",
      "text/plain": [
       "<Figure size 432x288 with 2 Axes>"
      ]
     },
     "metadata": {
      "needs_background": "light"
     },
     "output_type": "display_data"
    }
   ],
   "source": [
    "plt.imshow(hd[:,100,:])\n",
    "plt.colorbar()"
   ]
  },
  {
   "cell_type": "markdown",
   "metadata": {},
   "source": [
    "##### Mass"
   ]
  },
  {
   "cell_type": "code",
   "execution_count": 30,
   "metadata": {},
   "outputs": [
    {
     "data": {
      "image/png": "[encoded data removed]",
      "text/plain": [
       "<Figure size 432x288 with 1 Axes>"
      ]
     },
     "metadata": {
      "needs_background": "light"
     },
     "output_type": "display_data"
    }
   ],
   "source": [
    "fname = model_ws.joinpath('MT3D001.MAS').as_posix()\n",
    "mas = flopy.mt3d.Mt3dms.load_mas(fname)\n",
    "f = plt.figure()\n",
    "ax = f.add_subplot(1, 1, 1)\n",
    "plt.xlabel('Time (d)')\n",
    "plt.ylabel('Mass (kg)')\n",
    "plt.title('Mass of salt within model through time')\n",
    "lines = ax.plot(mas.time, mas.total_mass)\n"
   ]
  },
  {
   "cell_type": "code",
   "execution_count": null,
   "metadata": {},
   "outputs": [],
   "source": [
    "mn = flopy.seawat.Seawat.load(model_ws.joinpath('nmgwm_seawat_light.nam').as_posix(),verbose=False)"
   ]
  },
  {
   "cell_type": "code",
   "execution_count": 24,
   "metadata": {},
   "outputs": [
    {
     "data": {
      "text/plain": [
       "Text(0.5, 0, 'Distance (m)')"
      ]
     },
     "execution_count": 24,
     "metadata": {},
     "output_type": "execute_result"
    },
    {
     "data": {
      "image/png": "[encoded data removed]",
      "text/plain": [
       "<Figure size 648x216 with 1 Axes>"
      ]
     },
     "metadata": {
      "needs_background": "light"
     },
     "output_type": "display_data"
    }
   ],
   "source": [
    "from matplotlib import cm\n",
    "\n",
    "slicetype='Row'\n",
    "slicenum= 100\n",
    "\n",
    "# First step is to set up the plot\n",
    "fig = plt.figure(figsize=(9, 3))\n",
    "ax = fig.add_subplot(1, 1, 1)\n",
    "\n",
    "# Next we create an instance of the PlotCrossSection class\n",
    "xsect = flopy.plot.PlotCrossSection(model=mn, line={slicetype: slicenum},geographic_coords=True)\n",
    "# xsect.plot_ibound()\n",
    "\n",
    "# Then we can use the plot_grid() method to draw the grid\n",
    "# The return value for this function is a matplotlib LineCollection object,\n",
    "# which could be manipulated (or used) later if necessary.\n",
    "# linecollection = xsect.plot_grid()\n",
    "patches = xsect.plot_ibound()\n",
    "a= conc\n",
    "a[a>100]=np.nan\n",
    "# a=np.log(a)\n",
    "\n",
    "\n",
    "# lay_m = np.zeros_like(m.lpf.hk.array)\n",
    "# for lay in range(lay_m.shape[0]):\n",
    "#     lay_m[lay,:,:]=lay\n",
    "# cmap = cm.get_cmap('tab10', lay_m.shape[0])\n",
    "# csa = xsect.plot_array(a,cmap='jet',vmin=0.,vmax=35.)\n",
    "# c = plt.colorbar(csa)\n",
    "# # # wel = xsect.plot_bc(\"WEL\")\n",
    "\n",
    "t = ax.set_title('{slicetype} {slicenum} Cross-Section'.format(slicetype=slicetype,slicenum=slicenum))\n",
    "plt.ylabel('Elevation (m)')\n",
    "plt.ylim((-200,100))\n",
    "plt.xlabel('Distance (m)')\n",
    "# c.set_label('log10(hk)')\n",
    "# plt.savefig(figdir.joinpath('NMGWM_orig_layers_{slicetype}{slicenum}.png'.format(slicetype=slicetype,slicenum=slicenum)),dpi=300,bbox_inches='tight')"
   ]
  },
  {
   "cell_type": "code",
   "execution_count": null,
   "metadata": {},
   "outputs": [],
   "source": [
    "flopy."
   ]
  }
 ],
 "metadata": {
  "kernelspec": {
   "display_name": "Python [conda env:SWIenv]",
   "language": "python",
   "name": "conda-env-SWIenv-py"
  },
  "language_info": {
   "codemirror_mode": {
    "name": "ipython",
    "version": 3
   },
   "file_extension": ".py",
   "mimetype": "text/x-python",
   "name": "python",
   "nbconvert_exporter": "python",
   "pygments_lexer": "ipython3",
   "version": "3.6.7"
  }
 },
 "nbformat": 4,
 "nbformat_minor": 2
}
