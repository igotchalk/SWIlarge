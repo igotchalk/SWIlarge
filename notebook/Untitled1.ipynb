{
 "cells": [
  {
   "cell_type": "code",
   "execution_count": 14,
   "metadata": {},
   "outputs": [
    {
     "name": "stdout",
     "output_type": "stream",
     "text": [
      "0 ../data/PriorModel/varlist.pkl test\n",
      "copying files...\n",
      "loading model...\n",
      "unpacking and setting new vars...\n",
      "creating new package objs...\n"
     ]
    }
   ],
   "source": [
    "import flopy\n",
    "import os\n",
    "import sys\n",
    "from pathlib import Path\n",
    "import numpy as np\n",
    "import matplotlib.pyplot as plt\n",
    "import datetime\n",
    "import shutil\n",
    "import time\n",
    "\n",
    "########## INPUT #############\n",
    "it = int(sys.argv[1])-1\n",
    "f_varlist = Path(sys.argv[2])\n",
    "job_id = sys.argv[3]\n",
    "\n",
    "# it=0\n",
    "# f_varlist = Path('../data/PriorModel/varlist.pkl')\n",
    "# job_id='test'\n",
    "print(it,f_varlist,job_id)\n",
    "\n",
    "########## INPUT #############\n",
    "\n",
    "\n",
    "if sys.platform.lower()=='linux':\n",
    "    datadir = Path('/scratch/users/ianpg/SWIlarge/data')\n",
    "    workdir = Path('/scratch/users/ianpg/SWIlarge/work')\n",
    "    MPSdir = datadir.joinpath('lith/sgems/MPS')\n",
    "    lithdir = datadir.joinpath('lith/sgems/')\n",
    "    GISdir = datadir.joinpath('GIS')\n",
    "    priordir = datadir.joinpath('PriorModel')\n",
    "    modeldir = datadir.joinpath('NM_model')\n",
    "elif sys.platform.lower()=='darwin':\n",
    "    datadir = Path('../data')\n",
    "    workdir = Path('../work')\n",
    "    MPSdir = Path('/Users/ianpg/Dropbox/temp_convenience/SWIlarge/data/lith/sgems/MPS')\n",
    "    GISdir = datadir.joinpath('GIS')\n",
    "    lithdir = datadir.joinpath('lith/sgems/')\n",
    "    priordir = datadir.joinpath('PriorModel')\n",
    "    modeldir = datadir.joinpath('NM_model')\n",
    "\n",
    "nmgwmdir_empty = datadir.joinpath('nmgwmdir_empty') #<-- removed everything but DIS\n",
    "nmgwmdir_cal = datadir.joinpath('Calibrated_small') #<-- removed RCH, WEL, GLO, LST from the NAM file to load much faster\n",
    "figdir = workdir.joinpath('figs')\n",
    "outputdir = workdir.joinpath('output')\n",
    "\n",
    "import config\n",
    "import utils\n",
    "\n",
    "\n",
    "\n",
    "#%% Useful functions\n",
    "def load_obj(dirname,name):\n",
    "    import pickle\n",
    "    with open(Path(dirname).joinpath(name + '.pkl').as_posix(), 'rb') as f:\n",
    "        return pickle.load(f)\n",
    "\n",
    "def save_obj(dirname,obj,name):\n",
    "    import pickle\n",
    "    with open(Path(dirname).joinpath(name + '.pkl').as_posix(), 'wb') as f:\n",
    "        pickle.dump(obj, f, pickle.HIGHEST_PROTOCOL)\n",
    "\n",
    "def make_timestamp(YMD=True,HM=True):\n",
    "    import datetime\n",
    "    if YMD:\n",
    "        ymd = '%Y%m%d'\n",
    "    else:\n",
    "        ymd = ''\n",
    "    if HM:\n",
    "        hm = '%H%M'\n",
    "    else:\n",
    "        hm = ''\n",
    "    if YMD and HM:\n",
    "        sep = '_'\n",
    "    else:\n",
    "        sep = ''\n",
    "    return datetime.datetime.now().strftime('{}{}{}'.format(ymd,sep,hm))\n",
    "\n",
    "\n",
    "\n",
    "if len(f_varlist.name.split('.'))>1:\n",
    "    nam = f_varlist.name.split('.')[0]\n",
    "else:\n",
    "    nam = f_varlist.name\n",
    "varlist = load_obj(f_varlist.parent,nam)\n",
    "ts = make_timestamp()\n",
    "\n",
    "\n",
    "\n",
    "print('copying files...')\n",
    "model_ws = workdir.joinpath('SV_{}'.format(it))\n",
    "\n",
    "print('loading model...')\n",
    "##Loading\n",
    "modelname = 'SV'\n",
    "m= flopy.seawat.Seawat.load(modelname + '.nam',exe_name=config.swexe, model_ws=model_ws.as_posix())\n",
    "rows = np.load(model_ws.joinpath('rows.npy'))\n",
    "starttime = np.load(model_ws.joinpath('starttime.npy'))\n",
    "layer_mapping_ind_full = np.load(GISdir.joinpath('layer_mapping_ind_full.npy'))                                 \n",
    "layer_mapping_ind = layer_mapping_ind_full[:,rows,:]\n",
    "# m = flopy.seawat.Seawat(modelname, exe_name=config.swexe, model_ws=model_ws.as_posix(),verbose=verbose)\n",
    "thinmsk_in_aqt = np.load(model_ws.joinpath('thinmsk_in_aqt.npy'))\n",
    "wellmsk_in_aqt = np.load(model_ws.joinpath('wellmsk_in_aqt.npy'))\n",
    "\n",
    "\n",
    "print('unpacking and setting new vars...')\n",
    "##Unpack vars\n",
    "thinning =varlist['thinning'][it] #done\n",
    "n_conduits = int(varlist['n_conduits'][it])\n",
    "\n",
    "por_sand = varlist['por_sand'][it] #done\n",
    "por_clay = varlist['por_clay'][it] #done\n",
    "aL = varlist['aL'][it] #done\n",
    "kvh = varlist['kvh'][it] #done\n",
    "kh_sand_180 = varlist['kh_sand_180'][it] #done\n",
    "kh_clay_180 = varlist['kh_clay_180'][it] #done\n",
    "kh_sand_400 = varlist['kh_sand_400'][it] #done\n",
    "kh_clay_400 = varlist['kh_clay_400'][it] #done\n",
    "kh_lay1     = varlist['kh_lay1'][it] #done \n",
    "BC_change   = varlist['BC_change'][it] #done\n",
    "\n",
    "x_cond =  np.random.randint(150,m.ncol-5,size=n_conduits)\n",
    "y_cond =np.random.randint(rows[0],rows[-1],size=n_conduits)\n",
    "\n",
    "msh=  np.array([np.meshgrid(np.arange(x-5,x+5),np.arange(y-5,y+5)) for x,y in zip(x_cond,y_cond)])\n",
    "x_cond=np.ravel(msh[:,0,:,:])\n",
    "y_cond=np.ravel(msh[:,1,:,:])\n",
    "\n",
    "extra_conds = np.zeros_like(thinmsk_in_aqt)\n",
    "extra_conds[:,y_cond,x_cond] = True\n",
    "extra_conds = np.logical_and(extra_conds,layer_mapping_ind_full==4)\n",
    "\n",
    "\n",
    "# thinning_msk = thinmsk_in_aqt.copy()\n",
    "thinning_msk = np.logical_or(thinmsk_in_aqt,extra_conds)\n",
    "thin =np.round(thinning/25,2)*25\n",
    "thck = thinmsk_in_aqt.sum(axis=0)\n",
    "thck_new = np.round((1-thin)*thck,0).astype(np.int)\n",
    "\n",
    "for lay in range(m.nlay):\n",
    "    ij = np.argwhere(thinmsk_in_aqt[lay,:,:])\n",
    "    if len(ij)>0:\n",
    "        for val in ij:\n",
    "            thck_val = thinning_msk[:,val[0],val[1]].sum()\n",
    "            if thck_new[val[0],val[1]]==0:\n",
    "#                 print('zero thickness now...')\n",
    "                thinning_msk[:,val[0],val[1]]=False\n",
    "            else:\n",
    "#                 print('thinning now...')\n",
    "                thinning_msk[lay:lay+thck_new[val[0],val[1]],val[0],val[1]]=True\n",
    "                thinning_msk[:lay,val[0],val[1]]=False\n",
    "                thinning_msk[lay+thck_new[val[0],val[1]]:,val[0],val[1]]=False        \n",
    "            \n",
    "\n",
    "            \n",
    "hk_aquitard = min(kh_clay_180,kh_clay_400)\n",
    "hk = np.zeros_like(layer_mapping_ind_full,dtype=np.float)\n",
    "lith_180 = np.load(lithdir.joinpath('snesim','mps180_{}.npy'.format(it))).astype(np.float)\n",
    "lith_400 = np.load(lithdir.joinpath('sisim','sisim400_{}.npy'.format(it))).astype(np.float)\n",
    "\n",
    "\n",
    "\n",
    "lith_180[lith_180==1.] = kh_sand_180\n",
    "lith_180[lith_180==0.] = kh_clay_180\n",
    "lith_400[lith_400==1.] = kh_sand_400\n",
    "lith_400[lith_400==0.] = kh_clay_400\n",
    "\n",
    "\n",
    "hk[np.where(layer_mapping_ind_full==0)] = 5000\n",
    "hk[np.where(layer_mapping_ind_full==1)] = kh_lay1\n",
    "hk[np.where(layer_mapping_ind_full==2)] = hk_aquitard\n",
    "hk[np.where(layer_mapping_ind_full==3)] = lith_180[np.where(layer_mapping_ind_full==3)]\n",
    "hk[np.where(layer_mapping_ind_full==4)] = hk_aquitard\n",
    "hk[np.where(layer_mapping_ind_full==5)] = lith_400[np.where(layer_mapping_ind_full==5)]\n",
    "hk[np.where(layer_mapping_ind_full>5)] = 1.\n",
    "\n",
    "hk[np.where(wellmsk_in_aqt)]=kh_sand_180\n",
    "hk[np.where(thinning_msk)]=kh_sand_180\n",
    "\n",
    "\n",
    "\n",
    "\n",
    "\n",
    "prsity = np.zeros_like(layer_mapping_ind_full,dtype=np.float)\n",
    "prsity[np.isin(hk,(kh_lay1,kh_sand_180,kh_sand_400))]=por_sand\n",
    "prsity[np.where(prsity==0.)]=por_clay\n",
    "\n",
    "\n",
    "hk = hk[:,rows,:]\n",
    "prsity = prsity[:,rows,:]\n",
    "\n",
    "\n",
    "\n",
    "\n",
    "ghb_data_orig = m.ghb.stress_period_data.data\n",
    "ghb_data = {}\n",
    "for per in range(m.dis.nper):\n",
    "    ghb_per=[]\n",
    "    for val in ghb_data_orig[per]:\n",
    "        ghb_per.append([val[0],val[1],val[2],val[3]+BC_change,val[4]])\n",
    "    ghb_data[per] = ghb_per\n",
    "\n",
    "\n",
    "print('creating new package objs...')"
   ]
  },
  {
   "cell_type": "code",
   "execution_count": null,
   "metadata": {},
   "outputs": [],
   "source": [
    "exportdir = outputdir.joinpath('SV')\n",
    "if not exportdir.exists():\n",
    "    exportdir.mkdir(parents=True)\n",
    "\n",
    "    \n",
    "np.save(exportdir.joinpath('thinning_msk_{job_id}.npy'.format(job_id=job_id)),thinning_msk)\n",
    "\n",
    "    \n",
    "date_per = starttime + np.cumsum(m.dis.perlen.array)/365\n",
    "survey_date = 2017.25\n",
    "survey_kper = np.argmin(np.abs(date_per-survey_date))\n",
    "\n",
    "fname = os.path.join(m.model_ws, 'MT3D001.UCN')\n",
    "totim = flopy.utils.binaryfile.UcnFile(fname).get_times()[-1]\n",
    "try:\n",
    "    conc_fname = 'conc{}_{}_totim{}_{}.UCN'.format(\n",
    "        it, ts, str(int(totim)),job_id)\n",
    "except:\n",
    "    conc_fname = 'conc{}_{}_totim{}.UCN'.format(\n",
    "        it, ts, str(int(totim)))\n",
    "\n",
    "utils.copy_rename(fname,\n",
    "                 exportdir.joinpath(conc_fname))\n",
    "conc = flopy.utils.binaryfile.UcnFile(fname).get_data(kstpkper=(0,survey_kper))\n",
    "np.save(exportdir.joinpath(conc_fname[:-4] + '.npy'),conc)\n",
    "\n",
    "end_date = 2030.9\n",
    "end_kper = np.argmin(np.abs(date_per-end_date))\n",
    "\n",
    "conc = flopy.utils.binaryfile.UcnFile(fname).get_data(kstpkper=(0,end_kper))\n",
    "np.save(exportdir.joinpath(conc_fname[:-4] + 'end.npy'),conc)"
   ]
  },
  {
   "cell_type": "code",
   "execution_count": 19,
   "metadata": {},
   "outputs": [],
   "source": [
    "exportdir = outputdir.joinpath('SV')\n"
   ]
  },
  {
   "cell_type": "code",
   "execution_count": 22,
   "metadata": {
    "scrolled": true
   },
   "outputs": [],
   "source": []
  },
  {
   "cell_type": "code",
   "execution_count": 36,
   "metadata": {
    "scrolled": true
   },
   "outputs": [
    {
     "name": "stdout",
     "output_type": "stream",
     "text": [
      "writing...\n",
      "running...\n",
      "FloPy is using the following  executable to run the model: /home/groups/rknight/swtv4\n",
      "\n",
      "                                  SEAWAT Version 4\n",
      "    U.S. GEOLOGICAL SURVEY MODULAR FINITE-DIFFERENCE GROUND-WATER FLOW MODEL\n",
      "                             Version 4.00.05 10/19/2012                      \n",
      "\n",
      "Incorporated MODFLOW Version: 1.18.01 06/20/2008                      \n",
      "Incorporated MT3DMS  Version: 5.20    10/30/2006                      \n",
      "\n",
      "\n",
      " This program is public domain and is released on the\n",
      " condition that neither the U.S. Geological Survey nor\n",
      " the United States Government may be held liable for any\n",
      " damages resulting from their authorized or unauthorized\n",
      " use.\n",
      "\n",
      "\n",
      " Using NAME file: NM.nam                                                                                                                                                                                                  \n",
      " Run start date and time (yyyy/mm/dd hh:mm:ss): 2020/07/11 21:33:37\n",
      "\n",
      "\n",
      " STRESS PERIOD NO.    1\n",
      "\n",
      "  STRESS PERIOD    1 TIME STEP    1 FROM TIME =   0.0000     TO    182.50    \n",
      "\n",
      " Transport Step:    1   Step Size:  1.0000E-03 Total Elapsed Time:  1.00000E-03\n",
      " Outer Iter.  1  Inner Iter.  1:  Max. DC =  0.4480E-02  [K,I,J]    3    8  135\n",
      " Outer Iter.  1  Inner Iter.  2:  Max. DC =  0.4555E-07  [K,I,J]    3    9  136\n",
      " Transport Step:    2   Step Size:  0.1648     Total Elapsed Time:  0.16576    \n",
      " Outer Iter.  1  Inner Iter.  1:  Max. DC =  0.1240      [K,I,J]    3   18  155\n",
      " Outer Iter.  1  Inner Iter.  2:  Max. DC =  0.5990E-03  [K,I,J]    1   18  153\n",
      " Outer Iter.  1  Inner Iter.  3:  Max. DC =  0.9094E-05  [K,I,J]    1   18  153\n",
      " Transport Step:    3   Step Size:  0.4236     Total Elapsed Time:  0.58934    \n",
      " Outer Iter.  1  Inner Iter.  1:  Max. DC =  0.1537      [K,I,J]    3   18  155\n",
      " Outer Iter.  1  Inner Iter.  2:  Max. DC =  0.6988E-03  [K,I,J]    1   18  153\n",
      " Outer Iter.  1  Inner Iter.  3:  Max. DC =  0.2203E-04  [K,I,J]    1   18  153\n",
      " Transport Step:    4   Step Size:  0.7974     Total Elapsed Time:   1.3868    \n",
      " Outer Iter.  1  Inner Iter.  1:  Max. DC =  0.1326      [K,I,J]    3   18  155\n",
      " Outer Iter.  1  Inner Iter.  2:  Max. DC =  0.5123E-03  [K,I,J]    1   18  153\n",
      " Outer Iter.  1  Inner Iter.  3:  Max. DC =  0.2151E-04  [K,I,J]    1   18  153\n",
      " Transport Step:    5   Step Size:   1.379     Total Elapsed Time:   2.7654    \n",
      " Outer Iter.  1  Inner Iter.  1:  Max. DC =  0.1078      [K,I,J]    3   18  155\n",
      " Outer Iter.  1  Inner Iter.  2:  Max. DC =  0.4613E-03  [K,I,J]    2   18  156\n",
      " Outer Iter.  1  Inner Iter.  3:  Max. DC =  0.2027E-04  [K,I,J]    1   18  153\n",
      " Transport Step:    6   Step Size:   2.208     Total Elapsed Time:   4.9739    \n",
      " Outer Iter.  1  Inner Iter.  1:  Max. DC =  0.8440E-01  [K,I,J]    3   19  155\n",
      " Outer Iter.  1  Inner Iter.  2:  Max. DC =  0.3922E-03  [K,I,J]    2   18  156\n",
      " Outer Iter.  1  Inner Iter.  3:  Max. DC =  0.1750E-04  [K,I,J]    1   18  153\n",
      " Transport Step:    7   Step Size:   2.419     Total Elapsed Time:   7.3933    \n",
      " Outer Iter.  1  Inner Iter.  1:  Max. DC =  0.5319E-01  [K,I,J]    3   19  155\n",
      " Outer Iter.  1  Inner Iter.  2:  Max. DC =  0.1808E-03  [K,I,J]    3   18  155\n",
      " Outer Iter.  1  Inner Iter.  3:  Max. DC =  0.6258E-05  [K,I,J]    1   18  153\n",
      " Transport Step:    8   Step Size:   2.418     Total Elapsed Time:   9.8113    \n",
      " Outer Iter.  1  Inner Iter.  1:  Max. DC =  0.3818E-01  [K,I,J]    8   18  110\n",
      " Outer Iter.  1  Inner Iter.  2:  Max. DC =  0.8760E-04  [K,I,J]    3    2  170\n",
      " Transport Step:    9   Step Size:   2.417     Total Elapsed Time:   12.228    \n",
      " Outer Iter.  1  Inner Iter.  1:  Max. DC =  0.3438E-01  [K,I,J]    7   11  117\n",
      " Outer Iter.  1  Inner Iter.  2:  Max. DC =  0.5194E-04  [K,I,J]    3    2  170\n",
      " Transport Step:   10   Step Size:   2.416     Total Elapsed Time:   14.644    \n",
      " Outer Iter.  1  Inner Iter.  1:  Max. DC =  0.3156E-01  [K,I,J]    7   11  117\n",
      " Outer Iter.  1  Inner Iter.  2:  Max. DC =  0.3482E-04  [K,I,J]    3    2  170\n",
      " Transport Step:   11   Step Size:   2.416     Total Elapsed Time:   17.060    \n"
     ]
    },
    {
     "ename": "KeyboardInterrupt",
     "evalue": "",
     "output_type": "error",
     "traceback": [
      "\u001b[0;31m---------------------------------------------------------------------------\u001b[0m",
      "\u001b[0;31mKeyboardInterrupt\u001b[0m                         Traceback (most recent call last)",
      "\u001b[0;32m<ipython-input-36-92935df40bee>\u001b[0m in \u001b[0;36m<module>\u001b[0;34m\u001b[0m\n\u001b[1;32m     24\u001b[0m \u001b[0;32mif\u001b[0m \u001b[0mrunyn\u001b[0m\u001b[0;34m:\u001b[0m\u001b[0;34m\u001b[0m\u001b[0;34m\u001b[0m\u001b[0m\n\u001b[1;32m     25\u001b[0m     \u001b[0mprint\u001b[0m\u001b[0;34m(\u001b[0m\u001b[0;34m'running...'\u001b[0m\u001b[0;34m)\u001b[0m\u001b[0;34m\u001b[0m\u001b[0;34m\u001b[0m\u001b[0m\n\u001b[0;32m---> 26\u001b[0;31m     \u001b[0mv\u001b[0m \u001b[0;34m=\u001b[0m \u001b[0mm\u001b[0m\u001b[0;34m.\u001b[0m\u001b[0mrun_model\u001b[0m\u001b[0;34m(\u001b[0m\u001b[0msilent\u001b[0m\u001b[0;34m=\u001b[0m\u001b[0;32mFalse\u001b[0m\u001b[0;34m,\u001b[0m \u001b[0mreport\u001b[0m\u001b[0;34m=\u001b[0m\u001b[0;32mTrue\u001b[0m\u001b[0;34m)\u001b[0m\u001b[0;34m\u001b[0m\u001b[0;34m\u001b[0m\u001b[0m\n\u001b[0m\u001b[1;32m     27\u001b[0m     \u001b[0;32mfor\u001b[0m \u001b[0midx\u001b[0m \u001b[0;32min\u001b[0m \u001b[0mrange\u001b[0m\u001b[0;34m(\u001b[0m\u001b[0;34m-\u001b[0m\u001b[0;36m3\u001b[0m\u001b[0;34m,\u001b[0m \u001b[0;36m0\u001b[0m\u001b[0;34m)\u001b[0m\u001b[0;34m:\u001b[0m\u001b[0;34m\u001b[0m\u001b[0;34m\u001b[0m\u001b[0m\n\u001b[1;32m     28\u001b[0m         \u001b[0mprint\u001b[0m\u001b[0;34m(\u001b[0m\u001b[0mv\u001b[0m\u001b[0;34m[\u001b[0m\u001b[0;36m1\u001b[0m\u001b[0;34m]\u001b[0m\u001b[0;34m[\u001b[0m\u001b[0midx\u001b[0m\u001b[0;34m]\u001b[0m\u001b[0;34m)\u001b[0m\u001b[0;34m\u001b[0m\u001b[0;34m\u001b[0m\u001b[0m\n",
      "\u001b[0;32m~/miniconda3/envs/SWIlarge-environment/lib/python3.8/site-packages/flopy/mbase.py\u001b[0m in \u001b[0;36mrun_model\u001b[0;34m(self, silent, pause, report, normal_msg)\u001b[0m\n\u001b[1;32m   1220\u001b[0m         \"\"\"\n\u001b[1;32m   1221\u001b[0m \u001b[0;34m\u001b[0m\u001b[0m\n\u001b[0;32m-> 1222\u001b[0;31m         return run_model(self.exe_name, self.namefile, model_ws=self.model_ws,\n\u001b[0m\u001b[1;32m   1223\u001b[0m                          \u001b[0msilent\u001b[0m\u001b[0;34m=\u001b[0m\u001b[0msilent\u001b[0m\u001b[0;34m,\u001b[0m \u001b[0mpause\u001b[0m\u001b[0;34m=\u001b[0m\u001b[0mpause\u001b[0m\u001b[0;34m,\u001b[0m \u001b[0mreport\u001b[0m\u001b[0;34m=\u001b[0m\u001b[0mreport\u001b[0m\u001b[0;34m,\u001b[0m\u001b[0;34m\u001b[0m\u001b[0;34m\u001b[0m\u001b[0m\n\u001b[1;32m   1224\u001b[0m                          normal_msg=normal_msg)\n",
      "\u001b[0;32m~/miniconda3/envs/SWIlarge-environment/lib/python3.8/site-packages/flopy/mbase.py\u001b[0m in \u001b[0;36mrun_model\u001b[0;34m(exe_name, namefile, model_ws, silent, pause, report, normal_msg, use_async, cargs)\u001b[0m\n\u001b[1;32m   1603\u001b[0m     \u001b[0;32mif\u001b[0m \u001b[0;32mnot\u001b[0m \u001b[0muse_async\u001b[0m\u001b[0;34m:\u001b[0m\u001b[0;34m\u001b[0m\u001b[0;34m\u001b[0m\u001b[0m\n\u001b[1;32m   1604\u001b[0m         \u001b[0;32mwhile\u001b[0m \u001b[0;32mTrue\u001b[0m\u001b[0;34m:\u001b[0m\u001b[0;34m\u001b[0m\u001b[0;34m\u001b[0m\u001b[0m\n\u001b[0;32m-> 1605\u001b[0;31m             \u001b[0mline\u001b[0m \u001b[0;34m=\u001b[0m \u001b[0mproc\u001b[0m\u001b[0;34m.\u001b[0m\u001b[0mstdout\u001b[0m\u001b[0;34m.\u001b[0m\u001b[0mreadline\u001b[0m\u001b[0;34m(\u001b[0m\u001b[0;34m)\u001b[0m\u001b[0;34m.\u001b[0m\u001b[0mdecode\u001b[0m\u001b[0;34m(\u001b[0m\u001b[0;34m'utf-8'\u001b[0m\u001b[0;34m)\u001b[0m\u001b[0;34m\u001b[0m\u001b[0;34m\u001b[0m\u001b[0m\n\u001b[0m\u001b[1;32m   1606\u001b[0m             \u001b[0;32mif\u001b[0m \u001b[0mline\u001b[0m \u001b[0;34m==\u001b[0m \u001b[0;34m''\u001b[0m \u001b[0;32mand\u001b[0m \u001b[0mproc\u001b[0m\u001b[0;34m.\u001b[0m\u001b[0mpoll\u001b[0m\u001b[0;34m(\u001b[0m\u001b[0;34m)\u001b[0m \u001b[0;32mis\u001b[0m \u001b[0;32mnot\u001b[0m \u001b[0;32mNone\u001b[0m\u001b[0;34m:\u001b[0m\u001b[0;34m\u001b[0m\u001b[0;34m\u001b[0m\u001b[0m\n\u001b[1;32m   1607\u001b[0m                 \u001b[0;32mbreak\u001b[0m\u001b[0;34m\u001b[0m\u001b[0;34m\u001b[0m\u001b[0m\n",
      "\u001b[0;31mKeyboardInterrupt\u001b[0m: "
     ]
    }
   ],
   "source": []
  },
  {
   "cell_type": "code",
   "execution_count": 4,
   "metadata": {},
   "outputs": [
    {
     "data": {
      "text/plain": [
       "(20, 300, 345)"
      ]
     },
     "execution_count": 4,
     "metadata": {},
     "output_type": "execute_result"
    }
   ],
   "source": [
    "wellmsk_in_aqt\n"
   ]
  },
  {
   "cell_type": "code",
   "execution_count": 12,
   "metadata": {},
   "outputs": [
    {
     "data": {
      "text/plain": [
       "<matplotlib.colorbar.Colorbar at 0x7f924cb84c40>"
      ]
     },
     "execution_count": 12,
     "metadata": {},
     "output_type": "execute_result"
    },
    {
     "data": {
      "image/png": "[encoded data removed]",
      "text/plain": [
       "<Figure size 432x288 with 2 Axes>"
      ]
     },
     "metadata": {
      "needs_background": "light"
     },
     "output_type": "display_data"
    }
   ],
   "source": [
    "import matplotlib.pyplot as plt\n",
    "\n",
    "plt.imshow(np.logical_or(thinmsk_in_aqt,wellmsk_in_aqt).sum(axis=0))\n",
    "plt.colorbar()"
   ]
  },
  {
   "cell_type": "code",
   "execution_count": 13,
   "metadata": {},
   "outputs": [
    {
     "data": {
      "text/plain": [
       "<matplotlib.colorbar.Colorbar at 0x7f924cb22cd0>"
      ]
     },
     "execution_count": 13,
     "metadata": {},
     "output_type": "execute_result"
    },
    {
     "data": {
      "image/png": "[encoded data removed]",
      "text/plain": [
       "<Figure size 432x288 with 2 Axes>"
      ]
     },
     "metadata": {
      "needs_background": "light"
     },
     "output_type": "display_data"
    }
   ],
   "source": [
    "plt.imshow(thinning_msk.sum(axis=0))\n",
    "plt.colorbar()"
   ]
  },
  {
   "cell_type": "code",
   "execution_count": 16,
   "metadata": {},
   "outputs": [
    {
     "data": {
      "text/plain": [
       "<matplotlib.image.AxesImage at 0x7f924cd1f790>"
      ]
     },
     "execution_count": 16,
     "metadata": {},
     "output_type": "execute_result"
    },
    {
     "data": {
      "image/png": "[encoded data removed]",
      "text/plain": [
       "<Figure size 432x288 with 1 Axes>"
      ]
     },
     "metadata": {
      "needs_background": "light"
     },
     "output_type": "display_data"
    }
   ],
   "source": [
    "plt.imshow(thinning_msk[:,150,:])\n"
   ]
  },
  {
   "cell_type": "code",
   "execution_count": 18,
   "metadata": {},
   "outputs": [
    {
     "data": {
      "text/plain": [
       "<matplotlib.image.AxesImage at 0x7f924cc391f0>"
      ]
     },
     "execution_count": 18,
     "metadata": {},
     "output_type": "execute_result"
    },
    {
     "data": {
      "image/png": "[encoded data removed]",
      "text/plain": [
       "<Figure size 432x288 with 1 Axes>"
      ]
     },
     "metadata": {
      "needs_background": "light"
     },
     "output_type": "display_data"
    }
   ],
   "source": [
    "plt.imshow(layer_mapping_ind_full[:,150,:])\n"
   ]
  },
  {
   "cell_type": "code",
   "execution_count": null,
   "metadata": {},
   "outputs": [],
   "source": []
  }
 ],
 "metadata": {
  "kernelspec": {
   "display_name": "Python 3",
   "language": "python",
   "name": "python3"
  },
  "language_info": {
   "codemirror_mode": {
    "name": "ipython",
    "version": 3
   },
   "file_extension": ".py",
   "mimetype": "text/x-python",
   "name": "python",
   "nbconvert_exporter": "python",
   "pygments_lexer": "ipython3",
   "version": "3.8.3"
  }
 },
 "nbformat": 4,
 "nbformat_minor": 2
}
