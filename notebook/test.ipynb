{
 "cells": [
  {
   "cell_type": "code",
   "execution_count": 1,
   "metadata": {},
   "outputs": [],
   "source": [
    "import sys\n",
    "from pathlib import Path\n",
    "import numpy as np\n",
    "import shutil\n",
    "\n",
    "\n",
    "datadir = Path('/scratch/users/ianpg/SWIlarge/data')\n",
    "workdir = Path('/scratch/users/ianpg/SWIlarge/work')\n",
    "outputdir = workdir.joinpath('output')\n",
    "\n",
    "simpegskytem_path = '../../kang-2019-3D-aem/codes'\n",
    "if not simpegskytem_path in sys.path:\n",
    "    sys.path.append(simpegskytem_path)\n",
    "import simpegskytem\n"
   ]
  },
  {
   "cell_type": "code",
   "execution_count": 2,
   "metadata": {},
   "outputs": [],
   "source": [
    "# def load_obj(dirname,name):\n",
    "#     import pickle\n",
    "#     with open(Path(dirname).joinpath(name + '.pkl').as_posix(), 'rb') as f:\n",
    "#         return pickle.load(f)\n",
    "\n",
    "# simulation_load = load_obj(outputdir,'simulation')\n",
    "# survey_load = load_obj(outputdir,'survey')\n",
    "# rho_grid_load = load_obj(outputdir,'rho_grid')\n",
    "# mesh_load = load_obj(outputdir,'mesh')\n",
    "# actv_load = load_obj(outputdir,'actv')"
   ]
  },
  {
   "cell_type": "code",
   "execution_count": 3,
   "metadata": {},
   "outputs": [],
   "source": [
    "import numpy as np\n",
    "from pathlib import Path\n",
    "\n",
    "# waveform_dir = Path('aem_waveform_marina')\n",
    "waveform_dir = datadir.joinpath('AEM','aem_waveform_marina')\n",
    "\n",
    "### 304 Waveform ###\n",
    "area = 337.04\n",
    "unit_conversion = 1e-12\n",
    "\n",
    "i_start_hm = 10\n",
    "i_start_lm = 10\n",
    "\n",
    "i_end_hm = -1\n",
    "i_end_lm = -2\n",
    "\n",
    "sl_hm = slice(i_start_hm, i_end_hm)\n",
    "sl_lm = slice(i_start_lm, i_end_lm)\n",
    "\n",
    "waveform_hm = np.loadtxt(waveform_dir.joinpath('hm_304.txt'))\n",
    "waveform_lm = np.loadtxt(waveform_dir.joinpath('lm_304.txt'))\n",
    "time_input_currents_HM = waveform_hm[:, 0]\n",
    "input_currents_HM = waveform_hm[:, 1]\n",
    "time_input_currents_LM = waveform_lm[:, 0]\n",
    "input_currents_LM = waveform_lm[:, 1]\n",
    "\n",
    "time_gates = np.loadtxt(waveform_dir.joinpath('time_gates.txt'))\n",
    "GateTimeShift = -1.8E-06\n",
    "MeaTimeDelay = 0.000E+00\n",
    "NoGates = 28\n",
    "t0_lm = waveform_lm[:, 0].max()\n",
    "# times_LM = (time_gates[:NoGates,0] + GateTimeShift + MeaTimeDelay)[i_start_lm:] - t0_lm\n",
    "times_LM = (time_gates[:NoGates, 0] +\n",
    "                GateTimeShift + MeaTimeDelay)[sl_lm] - t0_lm\n",
    "\n",
    "GateTimeShift = -1.4E-06\n",
    "MeaTimeDelay = 6.000E-05\n",
    "NoGates = 37\n",
    "t0_hm = waveform_hm[:, 0].max()\n",
    "# times_HM = (time_gates[:NoGates,0] + GateTimeShift + MeaTimeDelay)[i_start_hm:] - t0_hm\n",
    "times_HM = (time_gates[:NoGates, 0] +\n",
    "                GateTimeShift + MeaTimeDelay)[sl_hm] - t0_hm\n"
   ]
  },
  {
   "cell_type": "code",
   "execution_count": 4,
   "metadata": {},
   "outputs": [
    {
     "data": {
      "text/plain": [
       "array([3.485200e-05, 4.186200e-05, 5.085200e-05, 6.235200e-05,\n",
       "       7.685200e-05, 9.485200e-05, 1.173420e-04, 1.453420e-04,\n",
       "       1.808420e-04, 2.263420e-04, 2.833420e-04, 3.553420e-04,\n",
       "       4.463420e-04, 5.603420e-04, 7.043420e-04, 8.858420e-04,\n",
       "       1.114642e-03, 1.402642e-03, 1.766642e-03, 2.225642e-03,\n",
       "       2.803642e-03, 3.522642e-03, 4.402642e-03, 5.479642e-03,\n",
       "       6.797642e-03, 8.411642e-03])"
      ]
     },
     "execution_count": 4,
     "metadata": {},
     "output_type": "execute_result"
    }
   ],
   "source": [
    "times_HM"
   ]
  },
  {
   "cell_type": "code",
   "execution_count": 5,
   "metadata": {},
   "outputs": [
    {
     "data": {
      "text/plain": [
       "array([2.0720e-05, 2.7730e-05, 3.6720e-05, 4.8220e-05, 6.2720e-05,\n",
       "       8.0720e-05, 1.0321e-04, 1.3121e-04, 1.6671e-04, 2.1221e-04,\n",
       "       2.6921e-04, 3.4121e-04, 4.3221e-04, 5.4621e-04, 6.9021e-04,\n",
       "       8.7171e-04])"
      ]
     },
     "execution_count": 5,
     "metadata": {},
     "output_type": "execute_result"
    }
   ],
   "source": [
    "times_LM"
   ]
  },
  {
   "cell_type": "code",
   "execution_count": 6,
   "metadata": {},
   "outputs": [],
   "source": [
    "# generate mesh\n",
    "from SimPEG import Mesh, Utils\n",
    "hx = np.ones(200) * 50\n",
    "hy = np.ones(40) * 250\n",
    "hz = np.ones(100) * 5\n",
    "mesh_global = Mesh.TensorMesh([hx, hy, hz], x0=[-hx.sum()/2., -hy.sum()/2., -hz.sum()+10])\n",
    "\n",
    "# generate survey\n",
    "x_inds = np.argwhere(np.logical_and(mesh_global.vectorCCx > -4000, mesh_global.vectorCCx < 4000))[::20]\n",
    "y_inds = np.argwhere(np.logical_and(mesh_global.vectorCCy > -4000, mesh_global.vectorCCy < 4000))[::20]\n",
    "# x = mesh_global.vectorCCx[x_inds]\n",
    "x = np.r_[-10000, 10000]\n",
    "y = mesh_global.vectorCCy[y_inds]\n",
    "src_locations = Utils.ndgrid(x, y, np.r_[30.])\n",
    "rx_locations = Utils.ndgrid(x+13.25, y, np.r_[30.+2.])\n",
    "topo = Utils.ndgrid(x, y, np.r_[0.])\n",
    "source_area = 536.36\n",
    "n_sounding = src_locations.shape[0]"
   ]
  },
  {
   "cell_type": "code",
   "execution_count": 7,
   "metadata": {},
   "outputs": [],
   "source": [
    "actv = mesh_global.gridCC[:,2] < 0.\n",
    "sigma = np.ones(mesh_global.nC) * 1e-8\n",
    "sigma_background = 1./20.\n",
    "sigma_target = 1./5.\n",
    "thickness = np.array([50, 10], dtype=float)\n",
    "depth = -np.cumsum(thickness)\n",
    "inds = np.logical_and(mesh_global.gridCC[:,2]<depth[0], mesh_global.gridCC[:,2]>depth[1])\n",
    "sigma[actv] = sigma_background\n",
    "sigma[inds] = sigma_target\n",
    "sigma[(mesh_global.gridCC[:,0]<0.) & actv] = sigma_background"
   ]
  },
  {
   "cell_type": "code",
   "execution_count": 8,
   "metadata": {},
   "outputs": [],
   "source": [
    "from simpegskytem import (\n",
    "    ProblemSkyTEM, GlobalAEMSurveyTD, \n",
    "    GlobalSkyTEM, get_skytem_survey\n",
    ")\n",
    "def get_skytem_survey(\n",
    "    topo,\n",
    "    src_locations,\n",
    "    rx_locations,\n",
    "    time,\n",
    "    time_input_currents,\n",
    "    input_currents,\n",
    "    base_frequency=25,\n",
    "    src_type=\"VMD\",\n",
    "    rx_type=\"dBzdt\",    \n",
    "    moment_type=\"dual\",        \n",
    "    time_dual_moment=None,\n",
    "    time_input_currents_dual_moment=None,\n",
    "    input_currents_dual_moment=None,\n",
    "    base_frequency_dual_moment=210,\n",
    "    wave_type=\"general\",    \n",
    "    field_type=\"secondary\",\n",
    "    \n",
    "):\n",
    "    \n",
    "    n_sounding = src_locations.shape[0]    \n",
    "    time_list = [time for i in range(n_sounding)]\n",
    "    time_dual_moment_list = [time_dual_moment for i in range(n_sounding)]\n",
    "    src_type_array = np.array([src_type], dtype=str).repeat(n_sounding)\n",
    "    rx_type_array = np.array([rx_type], dtype=str).repeat(n_sounding)\n",
    "    wave_type_array = np.array([wave_type], dtype=str).repeat(n_sounding)    \n",
    "    field_type_array = np.array([field_type], dtype=str).repeat(n_sounding)  \n",
    "    input_currents_list=[input_currents_HM for i in range(n_sounding)]\n",
    "    time_input_currents_list=[time_input_currents_HM for i in range(n_sounding)]\n",
    "    base_frequency_array = np.array([base_frequency]).repeat(n_sounding)\n",
    "    input_currents_dual_moment_list =[input_currents_LM for i in range(n_sounding)]\n",
    "    time_input_currents_dual_moment_list =[time_input_currents_LM for i in range(n_sounding)]\n",
    "    base_frequency_dual_moment_list = np.array([base_frequency_dual_moment]).repeat(n_sounding)\n",
    "    moment_type_array = np.array([moment_type], dtype=str).repeat(n_sounding)    \n",
    "    \n",
    "    survey = GlobalAEMSurveyTD(\n",
    "        topo = topo,\n",
    "        src_locations = src_locations,\n",
    "        rx_locations = rx_locations,\n",
    "        src_type = src_type_array,\n",
    "        rx_type = rx_type_array,\n",
    "        field_type = field_type,\n",
    "        time = time_list,\n",
    "        wave_type = wave_type_array,\n",
    "        moment_type = moment_type_array,\n",
    "        time_input_currents = time_input_currents_list,\n",
    "        input_currents = input_currents_list,\n",
    "        base_frequency = base_frequency_array,\n",
    "        time_dual_moment = time_dual_moment_list,\n",
    "        time_input_currents_dual_moment = time_input_currents_dual_moment_list,\n",
    "        input_currents_dual_moment = input_currents_dual_moment_list,\n",
    "        base_frequency_dual_moment = base_frequency_dual_moment_list,\n",
    "    )    \n",
    "    \n",
    "    return survey"
   ]
  },
  {
   "cell_type": "code",
   "execution_count": 9,
   "metadata": {},
   "outputs": [
    {
     "name": "stdout",
     "output_type": "stream",
     "text": [
      ">> Set parameters\n"
     ]
    }
   ],
   "source": [
    "simulation_work_dir = Path('./tmp/')\n",
    "if simulation_work_dir.exists():\n",
    "    shutil.rmtree(simulation_work_dir)\n",
    "\n",
    "\n",
    "survey = get_skytem_survey(\n",
    "    topo,\n",
    "    src_locations,\n",
    "    rx_locations,\n",
    "    times_HM,\n",
    "    time_input_currents_HM,\n",
    "    input_currents_HM,\n",
    "    25.,\n",
    "    src_type=\"VMD\",\n",
    "    rx_type=\"dBzdt\",    \n",
    "    moment_type=\"dual\",        \n",
    "    time_dual_moment=times_LM,\n",
    "    time_input_currents_dual_moment=time_input_currents_LM,\n",
    "    input_currents_dual_moment=input_currents_LM,\n",
    "    base_frequency_dual_moment=210.,\n",
    "    wave_type=\"general\",    \n",
    "    field_type=\"secondary\",    \n",
    ")\n",
    "\n",
    "simulation = GlobalSkyTEM(\n",
    "    mesh_global, \n",
    "    sigma=sigma, \n",
    "    actv=actv,\n",
    "    n_cpu=2,\n",
    "    parallel_option='dask',\n",
    "    work_dir=simulation_work_dir.as_posix()\n",
    ")\n",
    "simulation.pair(survey)"
   ]
  },
  {
   "cell_type": "code",
   "execution_count": null,
   "metadata": {},
   "outputs": [],
   "source": []
  },
  {
   "cell_type": "code",
   "execution_count": 10,
   "metadata": {},
   "outputs": [],
   "source": [
    "# write inputs to the disk\n",
    "simulation.write_inputs_on_disk_pool()\n",
    "# run \n",
    "data = simulation.forward(sigma)\n",
    "simulation.clean_work_dir()"
   ]
  },
  {
   "cell_type": "code",
   "execution_count": null,
   "metadata": {},
   "outputs": [],
   "source": []
  },
  {
   "cell_type": "code",
   "execution_count": null,
   "metadata": {},
   "outputs": [],
   "source": []
  }
 ],
 "metadata": {
  "kernelspec": {
   "display_name": "Python 3",
   "language": "python",
   "name": "python3"
  },
  "language_info": {
   "codemirror_mode": {
    "name": "ipython",
    "version": 3
   },
   "file_extension": ".py",
   "mimetype": "text/x-python",
   "name": "python",
   "nbconvert_exporter": "python",
   "pygments_lexer": "ipython3",
   "version": "3.8.3"
  }
 },
 "nbformat": 4,
 "nbformat_minor": 2
}
