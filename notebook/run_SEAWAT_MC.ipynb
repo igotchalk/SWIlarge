{
 "cells": [
  {
   "cell_type": "code",
   "execution_count": null,
   "metadata": {},
   "outputs": [],
   "source": []
  },
  {
   "cell_type": "code",
   "execution_count": 55,
   "metadata": {},
   "outputs": [],
   "source": [
    "import flopy\n",
    "import os\n",
    "import sys\n",
    "from pathlib import Path\n",
    "import numpy as np\n",
    "import matplotlib.pyplot as plt\n",
    "\n",
    "if sys.platform.lower()=='linux':\n",
    "    datadir = Path('/scratch/users/ianpg/SWIlarge/data')\n",
    "    workdir = Path('/scratch/users/ianpg/SWIlarge/work')\n",
    "    MPSdir = datadir.joinpath('lith/sgems/MPS')\n",
    "    lithdir = datadir.joinpath('lith/sgems/')\n",
    "    GISdir = datadir.joinpath('GIS')\n",
    "    priordir = datadir.joinpath('PriorModel')\n",
    "    modeldir = datadir.joinpath('NM_model')\n",
    "    import mplleaflet\n",
    "elif sys.platform.lower()=='darwin':\n",
    "    datadir = Path('../data')\n",
    "    workdir = Path('../work')\n",
    "    MPSdir = Path('/Users/ianpg/Dropbox/temp_convenience/SWIlarge/data/lith/sgems/MPS')\n",
    "    GISdir = datadir.joinpath('GIS')\n",
    "    lithdir = datadir.joinpath('lith/sgems/')\n",
    "    priordir = datadir.joinpath('PriorModel')\n",
    "    modeldir = datadir.joinpath('NM_model')\n",
    "\n",
    "nmgwmdir_empty = datadir.joinpath('nmgwmdir_empty') #<-- removed everything but DIS\n",
    "nmgwmdir_cal = datadir.joinpath('Calibrated_small') #<-- removed RCH, WEL, GLO, LST from the NAM file to load much faster\n",
    "figdir = workdir.joinpath('figs')\n",
    "outputdir = workdir.joinpath('output')\n",
    "\n",
    "import config\n",
    "from set_rc import *\n",
    "\n",
    "import pandas as pd\n",
    "import shapefile as sf #in case you dont have it, form anaconda prompt: pip install pyshp\n",
    "from flopy.utils.gridgen import Gridgen\n",
    "from flopy.utils.reference import SpatialReference\n",
    "from  pyproj import Proj\n",
    "\n",
    "p = Proj(\"epsg:26910\")\n",
    "xll=595855\n",
    "yll = 4059438\n",
    "rotation = -13.5\n"
   ]
  },
  {
   "cell_type": "code",
   "execution_count": 28,
   "metadata": {},
   "outputs": [],
   "source": [
    "#%% Useful functions\n",
    "def load_obj(dirname,name):\n",
    "    import pickle\n",
    "    with open(Path(dirname).joinpath(name + '.pkl').as_posix(), 'rb') as f:\n",
    "        return pickle.load(f)\n",
    "\n",
    "def save_obj(dirname,obj,name):\n",
    "    import pickle\n",
    "    with open(Path(dirname).joinpath(name + '.pkl').as_posix(), 'wb') as f:\n",
    "        pickle.dump(obj, f, pickle.HIGHEST_PROTOCOL)\n",
    "\n",
    "\n"
   ]
  },
  {
   "cell_type": "markdown",
   "metadata": {},
   "source": [
    "# INPUT"
   ]
  },
  {
   "cell_type": "code",
   "execution_count": 45,
   "metadata": {},
   "outputs": [],
   "source": [
    "# it = int(sys.argv[1])\n",
    "# f_varlist = Path(sys.argv[2])\n",
    "\n",
    "it = 0\n",
    "f_varlist = Path('../data/PriorModel/varlist.pkl')\n"
   ]
  },
  {
   "cell_type": "markdown",
   "metadata": {},
   "source": [
    "### Load varlist"
   ]
  },
  {
   "cell_type": "code",
   "execution_count": 46,
   "metadata": {},
   "outputs": [],
   "source": [
    "if len(f_varlist.name.split('.'))>1:\n",
    "    nam = f_varlist.name.split('.')[0]\n",
    "else:\n",
    "    nam = f_varlist.name\n",
    "varlist = load_obj(f_varlist.parent,nam)"
   ]
  },
  {
   "cell_type": "code",
   "execution_count": 47,
   "metadata": {},
   "outputs": [
    {
     "data": {
      "text/plain": [
       "dict_keys(['kvh', 'por_sand', 'por_clay', 'aL', 'TI_wavelength', 'TI_amplitude', 'TI_width', 'TI_direction', 'TI_prop', 'kh_sand_180', 'kh_clay_180', 'DSA_head', 'TSW_head', 'r_x', 'r_y', 'r_z', 'prop_400', 'sill', 'kh_sand_400', 'kh_clay_400', 'thinning', 'n_conduits', 'RP_model', 'm', 'CF_cp', 'CF_cr', 'seed', 'TI_props'])"
      ]
     },
     "execution_count": 47,
     "metadata": {},
     "output_type": "execute_result"
    }
   ],
   "source": [
    "varlist.keys()"
   ]
  },
  {
   "cell_type": "markdown",
   "metadata": {},
   "source": [
    "### Load model"
   ]
  },
  {
   "cell_type": "code",
   "execution_count": 64,
   "metadata": {},
   "outputs": [],
   "source": [
    "modelname = 'NM'\n",
    "model_ws = workdir.joinpath(\"NM\")\n",
    "m= flopy.seawat.Seawat.load('NM.nam',exe_name=config.swexe, model_ws=model_ws.as_posix())\n",
    "rows = np.load(model_ws.joinpath('rows.npy'))\n",
    "layer_mapping_ind_full = np.load(GISdir.joinpath('layer_mapping_ind_full.npy'))                                 \n",
    "layer_mapping_ind = layer_mapping_ind_full[:,rows,:]\n",
    "# m = flopy.seawat.Seawat(modelname, exe_name=config.swexe, model_ws=model_ws.as_posix(),verbose=verbose)\n"
   ]
  },
  {
   "cell_type": "markdown",
   "metadata": {},
   "source": [
    "### Set new values"
   ]
  },
  {
   "cell_type": "markdown",
   "metadata": {},
   "source": [
    "#### Load new lith"
   ]
  },
  {
   "cell_type": "code",
   "execution_count": 68,
   "metadata": {},
   "outputs": [
    {
     "data": {
      "text/plain": [
       "['kvh',\n",
       " 'por_sand',\n",
       " 'por_clay',\n",
       " 'aL',\n",
       " 'TI_wavelength',\n",
       " 'TI_amplitude',\n",
       " 'TI_width',\n",
       " 'TI_direction',\n",
       " 'TI_prop',\n",
       " 'kh_sand_180',\n",
       " 'kh_clay_180',\n",
       " 'DSA_head',\n",
       " 'TSW_head',\n",
       " 'r_x',\n",
       " 'r_y',\n",
       " 'r_z',\n",
       " 'prop_400',\n",
       " 'sill',\n",
       " 'kh_sand_400',\n",
       " 'kh_clay_400',\n",
       " 'thinning',\n",
       " 'n_conduits',\n",
       " 'RP_model',\n",
       " 'm',\n",
       " 'CF_cp',\n",
       " 'CF_cr',\n",
       " 'seed',\n",
       " 'TI_props']"
      ]
     },
     "execution_count": 68,
     "metadata": {},
     "output_type": "execute_result"
    }
   ],
   "source": [
    "[k for k,v in varlist.items()]"
   ]
  },
  {
   "cell_type": "code",
   "execution_count": 69,
   "metadata": {},
   "outputs": [],
   "source": [
    "por_sand = varlist['por_sand'][it]\n",
    "por_clay = varlist['por_clay'][it]\n",
    "aL = varlist['aL'][it]\n",
    "kvh = varlist['kvh'][it]\n",
    "kh_sand_180 = varlist['kh_sand_180'][it]\n",
    "kh_clay_180 = varlist['kh_clay_180'][it]\n",
    "kh_sand_400 = varlist['kh_sand_400'][it]\n",
    "kh_clay_400 = varlist['kh_clay_400'][it]"
   ]
  },
  {
   "cell_type": "code",
   "execution_count": 70,
   "metadata": {},
   "outputs": [],
   "source": [
    "lith_180 = np.load(lithdir.joinpath('snesim','mps180_{}.npy'.format(it))).astype(np.float)\n",
    "lith_400 = np.load(lithdir.joinpath('sisim','sisim400_{}.npy'.format(it))).astype(np.float)\n",
    "\n",
    "\n",
    "lith_180[lith_180==1.] = kh_sand_180\n",
    "lith_180[lith_180==0.] = kh_clay_180\n",
    "lith_400[lith_400==1.] = kh_sand_400\n",
    "lith_400[lith_400==0.] = kh_clay_400\n",
    "\n"
   ]
  },
  {
   "cell_type": "code",
   "execution_count": null,
   "metadata": {},
   "outputs": [],
   "source": []
  },
  {
   "cell_type": "code",
   "execution_count": 42,
   "metadata": {},
   "outputs": [],
   "source": [
    "hk = m.lpf.hk.array.copy()\n",
    "\n",
    "mps180[mps180==1]=hkSand\n",
    "mps180[mps180==0]=hkClay\n",
    "hk[np.where(layer_mapping_ind==0)] = 10000\n",
    "hk[np.where(layer_mapping_ind==1)] = 100\n",
    "hk[np.where(layer_mapping_ind==2)] = hkClay*.01\n",
    "hk[np.where(layer_mapping_ind==3)] = mps180[np.where(layer_mapping_ind==3)]\n",
    "hk[np.where(layer_mapping_ind==4)] = hkClay*.01\n",
    "hk[np.where(layer_mapping_ind==5)] = mps180[np.where(layer_mapping_ind==5)]\n",
    "\n",
    "\n",
    "plt.figure()\n",
    "plt.imshow(np.log10(hk)[:,0,:],vmin=-2,vmax=3)\n",
    "plt.gca().set_aspect(10)\n",
    "plt.colorbar()"
   ]
  },
  {
   "cell_type": "code",
   "execution_count": 41,
   "metadata": {},
   "outputs": [
    {
     "data": {
      "text/plain": [
       "array([[[625.  , 625.  , 625.  , ..., 336.6 , 336.6 , 336.6 ],\n",
       "        [625.  , 625.  , 625.  , ..., 336.6 , 336.6 , 336.6 ]],\n",
       "\n",
       "       [[625.  , 625.  , 625.  , ...,   5.  ,   5.  ,   5.  ],\n",
       "        [625.  , 625.  , 625.  , ...,   5.  ,   5.  ,   5.  ]],\n",
       "\n",
       "       [[625.  , 625.  , 625.  , ...,   5.  ,   5.  ,   5.  ],\n",
       "        [625.  , 625.  , 625.  , ...,   5.  ,   5.  ,   5.  ]],\n",
       "\n",
       "       ...,\n",
       "\n",
       "       [[ 35.  ,  35.  ,  35.  , ...,   6.77,   6.77,   6.77],\n",
       "        [ 35.  ,  35.  ,  35.  , ...,   6.77,   6.77,   6.77]],\n",
       "\n",
       "       [[ 35.  ,  35.  ,  35.  , ...,  82.63,  82.53,  82.44],\n",
       "        [ 35.  ,  35.  ,  35.  , ...,  82.73,  82.64,  82.55]],\n",
       "\n",
       "       [[ 35.  ,  35.  ,  35.  , ...,  82.63,  82.53,  82.44],\n",
       "        [ 35.  ,  35.  ,  35.  , ...,  82.73,  82.64,  82.55]]],\n",
       "      dtype=float32)"
      ]
     },
     "execution_count": 41,
     "metadata": {},
     "output_type": "execute_result"
    }
   ],
   "source": []
  },
  {
   "cell_type": "code",
   "execution_count": null,
   "metadata": {},
   "outputs": [],
   "source": []
  }
 ],
 "metadata": {
  "kernelspec": {
   "display_name": "Python [conda env:SWIenv]",
   "language": "python",
   "name": "conda-env-SWIenv-py"
  },
  "language_info": {
   "codemirror_mode": {
    "name": "ipython",
    "version": 3
   },
   "file_extension": ".py",
   "mimetype": "text/x-python",
   "name": "python",
   "nbconvert_exporter": "python",
   "pygments_lexer": "ipython3",
   "version": "3.6.7"
  }
 },
 "nbformat": 4,
 "nbformat_minor": 2
}
